{
 "cells": [
  {
   "cell_type": "code",
   "execution_count": 176,
   "metadata": {
    "collapsed": true
   },
   "outputs": [],
   "source": [
    "import pandas as pd\n",
    "import numpy as np\n",
    "import scipy.stats as ss\n",
    "import sklearn\n",
    "import csv\n",
    "import string\n",
    "import matplotlib.pyplot as plt\n",
    "import statsmodels.api as sm\n",
    "from sklearn import linear_model\n",
    "from sklearn.decomposition import PCA\n",
    "from sklearn.linear_model import Ridge, Lasso\n",
    "import sys\n",
    "%matplotlib inline"
   ]
  },
  {
   "cell_type": "markdown",
   "metadata": {},
   "source": [
    "## 1. Read in the CSV - counties with at least 30,000 people, Only columns ending in “Value”,  Only with non-nan values for each value column"
   ]
  },
  {
   "cell_type": "code",
   "execution_count": 177,
   "metadata": {
    "collapsed": false
   },
   "outputs": [],
   "source": [
    "if(len(sys.argv) != 2):\n",
    "    input_csv = '2015_CHR_Analytic_Data.csv'\n",
    "else:\n",
    "    input_csv = sys.argv[1]"
   ]
  },
  {
   "cell_type": "code",
   "execution_count": 178,
   "metadata": {
    "collapsed": false
   },
   "outputs": [],
   "source": [
    "data = pd.read_csv(input_csv,low_memory = False)"
   ]
  },
  {
   "cell_type": "code",
   "execution_count": 179,
   "metadata": {
    "collapsed": false
   },
   "outputs": [
    {
     "data": {
      "text/html": [
       "<div>\n",
       "<table border=\"1\" class=\"dataframe\">\n",
       "  <thead>\n",
       "    <tr style=\"text-align: right;\">\n",
       "      <th></th>\n",
       "      <th>STATECODE</th>\n",
       "      <th>COUNTYCODE</th>\n",
       "      <th>State</th>\n",
       "      <th>County</th>\n",
       "      <th>County that was not ranked</th>\n",
       "      <th>Premature death Value</th>\n",
       "      <th>Premature death Numerator</th>\n",
       "      <th>Premature death Denominator</th>\n",
       "      <th>Premature death Lower Confidence Interval</th>\n",
       "      <th>Premature death Upper Confidence Interval</th>\n",
       "      <th>...</th>\n",
       "      <th>Children eligible for free lunch Value</th>\n",
       "      <th>Children eligible for free lunch Numerator</th>\n",
       "      <th>Children eligible for free lunch Denominator</th>\n",
       "      <th>Children eligible for free lunch Lower Confidence Interval</th>\n",
       "      <th>Children eligible for free lunch Upper Confidence Interval</th>\n",
       "      <th>Homicide rate Value</th>\n",
       "      <th>Homicide rate Numerator</th>\n",
       "      <th>Homicide rate Denominator</th>\n",
       "      <th>Homicide rate Lower Confidence Interval</th>\n",
       "      <th>Homicide rate Upper Confidence Interval</th>\n",
       "    </tr>\n",
       "  </thead>\n",
       "  <tbody>\n",
       "    <tr>\n",
       "      <th>0</th>\n",
       "      <td>1</td>\n",
       "      <td>0</td>\n",
       "      <td>AL</td>\n",
       "      <td>Alabama</td>\n",
       "      <td>NaN</td>\n",
       "      <td>9,508</td>\n",
       "      <td>72,385</td>\n",
       "      <td>13,527,993</td>\n",
       "      <td>9,409</td>\n",
       "      <td>9,607</td>\n",
       "      <td>...</td>\n",
       "      <td>0.500</td>\n",
       "      <td>372,509</td>\n",
       "      <td>744,621</td>\n",
       "      <td>NaN</td>\n",
       "      <td>NaN</td>\n",
       "      <td>9.1</td>\n",
       "      <td>2,971</td>\n",
       "      <td>33,176,856</td>\n",
       "      <td>8.8</td>\n",
       "      <td>9.5</td>\n",
       "    </tr>\n",
       "    <tr>\n",
       "      <th>1</th>\n",
       "      <td>1</td>\n",
       "      <td>1</td>\n",
       "      <td>AL</td>\n",
       "      <td>Autauga County</td>\n",
       "      <td>NaN</td>\n",
       "      <td>8,405</td>\n",
       "      <td>754</td>\n",
       "      <td>157,345</td>\n",
       "      <td>7,554</td>\n",
       "      <td>9,257</td>\n",
       "      <td>...</td>\n",
       "      <td>0.383</td>\n",
       "      <td>3,767</td>\n",
       "      <td>9,825</td>\n",
       "      <td>NaN</td>\n",
       "      <td>NaN</td>\n",
       "      <td>4.6</td>\n",
       "      <td>17</td>\n",
       "      <td>376,259</td>\n",
       "      <td>2.7</td>\n",
       "      <td>7.4</td>\n",
       "    </tr>\n",
       "    <tr>\n",
       "      <th>2</th>\n",
       "      <td>1</td>\n",
       "      <td>3</td>\n",
       "      <td>AL</td>\n",
       "      <td>Baldwin County</td>\n",
       "      <td>NaN</td>\n",
       "      <td>7,457</td>\n",
       "      <td>2,460</td>\n",
       "      <td>519,994</td>\n",
       "      <td>7,006</td>\n",
       "      <td>7,908</td>\n",
       "      <td>...</td>\n",
       "      <td>0.344</td>\n",
       "      <td>9,875</td>\n",
       "      <td>28,700</td>\n",
       "      <td>NaN</td>\n",
       "      <td>NaN</td>\n",
       "      <td>4.3</td>\n",
       "      <td>52</td>\n",
       "      <td>1,255,425</td>\n",
       "      <td>3.2</td>\n",
       "      <td>5.6</td>\n",
       "    </tr>\n",
       "    <tr>\n",
       "      <th>3</th>\n",
       "      <td>1</td>\n",
       "      <td>5</td>\n",
       "      <td>AL</td>\n",
       "      <td>Barbour County</td>\n",
       "      <td>NaN</td>\n",
       "      <td>8,901</td>\n",
       "      <td>414</td>\n",
       "      <td>76,718</td>\n",
       "      <td>7,580</td>\n",
       "      <td>10,221</td>\n",
       "      <td>...</td>\n",
       "      <td>0.697</td>\n",
       "      <td>2,661</td>\n",
       "      <td>3,819</td>\n",
       "      <td>NaN</td>\n",
       "      <td>NaN</td>\n",
       "      <td>NaN</td>\n",
       "      <td>NaN</td>\n",
       "      <td>NaN</td>\n",
       "      <td>NaN</td>\n",
       "      <td>NaN</td>\n",
       "    </tr>\n",
       "    <tr>\n",
       "      <th>4</th>\n",
       "      <td>1</td>\n",
       "      <td>7</td>\n",
       "      <td>AL</td>\n",
       "      <td>Bibb County</td>\n",
       "      <td>NaN</td>\n",
       "      <td>10,729</td>\n",
       "      <td>407</td>\n",
       "      <td>64,629</td>\n",
       "      <td>9,124</td>\n",
       "      <td>12,334</td>\n",
       "      <td>...</td>\n",
       "      <td>0.546</td>\n",
       "      <td>1,934</td>\n",
       "      <td>3,539</td>\n",
       "      <td>NaN</td>\n",
       "      <td>NaN</td>\n",
       "      <td>7.8</td>\n",
       "      <td>13</td>\n",
       "      <td>158,530</td>\n",
       "      <td>4.1</td>\n",
       "      <td>13.3</td>\n",
       "    </tr>\n",
       "  </tbody>\n",
       "</table>\n",
       "<p>5 rows × 329 columns</p>\n",
       "</div>"
      ],
      "text/plain": [
       "   STATECODE  COUNTYCODE State          County  County that was not ranked  \\\n",
       "0          1           0    AL         Alabama                         NaN   \n",
       "1          1           1    AL  Autauga County                         NaN   \n",
       "2          1           3    AL  Baldwin County                         NaN   \n",
       "3          1           5    AL  Barbour County                         NaN   \n",
       "4          1           7    AL     Bibb County                         NaN   \n",
       "\n",
       "  Premature death Value Premature death Numerator Premature death Denominator  \\\n",
       "0                 9,508                    72,385                  13,527,993   \n",
       "1                 8,405                       754                     157,345   \n",
       "2                 7,457                     2,460                     519,994   \n",
       "3                 8,901                       414                      76,718   \n",
       "4                10,729                       407                      64,629   \n",
       "\n",
       "  Premature death Lower Confidence Interval  \\\n",
       "0                                     9,409   \n",
       "1                                     7,554   \n",
       "2                                     7,006   \n",
       "3                                     7,580   \n",
       "4                                     9,124   \n",
       "\n",
       "  Premature death Upper Confidence Interval  \\\n",
       "0                                     9,607   \n",
       "1                                     9,257   \n",
       "2                                     7,908   \n",
       "3                                    10,221   \n",
       "4                                    12,334   \n",
       "\n",
       "                    ...                     \\\n",
       "0                   ...                      \n",
       "1                   ...                      \n",
       "2                   ...                      \n",
       "3                   ...                      \n",
       "4                   ...                      \n",
       "\n",
       "   Children eligible for free lunch Value  \\\n",
       "0                                   0.500   \n",
       "1                                   0.383   \n",
       "2                                   0.344   \n",
       "3                                   0.697   \n",
       "4                                   0.546   \n",
       "\n",
       "  Children eligible for free lunch Numerator  \\\n",
       "0                                    372,509   \n",
       "1                                      3,767   \n",
       "2                                      9,875   \n",
       "3                                      2,661   \n",
       "4                                      1,934   \n",
       "\n",
       "  Children eligible for free lunch Denominator  \\\n",
       "0                                      744,621   \n",
       "1                                        9,825   \n",
       "2                                       28,700   \n",
       "3                                        3,819   \n",
       "4                                        3,539   \n",
       "\n",
       "   Children eligible for free lunch Lower Confidence Interval  \\\n",
       "0                                                NaN            \n",
       "1                                                NaN            \n",
       "2                                                NaN            \n",
       "3                                                NaN            \n",
       "4                                                NaN            \n",
       "\n",
       "   Children eligible for free lunch Upper Confidence Interval  \\\n",
       "0                                                NaN            \n",
       "1                                                NaN            \n",
       "2                                                NaN            \n",
       "3                                                NaN            \n",
       "4                                                NaN            \n",
       "\n",
       "   Homicide rate Value  Homicide rate Numerator Homicide rate Denominator  \\\n",
       "0                  9.1                    2,971                33,176,856   \n",
       "1                  4.6                       17                   376,259   \n",
       "2                  4.3                       52                 1,255,425   \n",
       "3                  NaN                      NaN                       NaN   \n",
       "4                  7.8                       13                   158,530   \n",
       "\n",
       "   Homicide rate Lower Confidence Interval  \\\n",
       "0                                      8.8   \n",
       "1                                      2.7   \n",
       "2                                      3.2   \n",
       "3                                      NaN   \n",
       "4                                      4.1   \n",
       "\n",
       "   Homicide rate Upper Confidence Interval  \n",
       "0                                      9.5  \n",
       "1                                      7.4  \n",
       "2                                      5.6  \n",
       "3                                      NaN  \n",
       "4                                     13.3  \n",
       "\n",
       "[5 rows x 329 columns]"
      ]
     },
     "execution_count": 179,
     "metadata": {},
     "output_type": "execute_result"
    }
   ],
   "source": [
    "data.head()"
   ]
  },
  {
   "cell_type": "code",
   "execution_count": 180,
   "metadata": {
    "collapsed": true
   },
   "outputs": [],
   "source": [
    "columns = data.columns"
   ]
  },
  {
   "cell_type": "code",
   "execution_count": 181,
   "metadata": {
    "collapsed": false
   },
   "outputs": [],
   "source": [
    "filtered_columns = list()\n",
    "filtered_columns.append('COUNTYCODE')\n",
    "for c in columns:\n",
    "    if c.endswith(\"Value\"):\n",
    "           filtered_columns.append(c)"
   ]
  },
  {
   "cell_type": "code",
   "execution_count": 182,
   "metadata": {
    "collapsed": false
   },
   "outputs": [],
   "source": [
    "data = data[filtered_columns]\n",
    "#print data.head()"
   ]
  },
  {
   "cell_type": "code",
   "execution_count": 183,
   "metadata": {
    "collapsed": false
   },
   "outputs": [],
   "source": [
    "for c in filtered_columns:\n",
    "    if not (data[c].dtype == np.float64 or data[c].dtype == np.int64):\n",
    "        data[c] = data[c].apply(lambda val: float(string.replace(str(val),',',''))) ##change to string then floats...\n",
    "        data[c] = data[c].astype('float')"
   ]
  },
  {
   "cell_type": "code",
   "execution_count": 184,
   "metadata": {
    "collapsed": false
   },
   "outputs": [],
   "source": [
    "data = data[data['COUNTYCODE'] != 0]"
   ]
  },
  {
   "cell_type": "code",
   "execution_count": 185,
   "metadata": {
    "collapsed": false
   },
   "outputs": [],
   "source": [
    "data = data[data['2011 population estimate Value'] >= 30000]\n",
    "data = data.dropna()"
   ]
  },
  {
   "cell_type": "code",
   "execution_count": 186,
   "metadata": {
    "collapsed": false
   },
   "outputs": [
    {
     "name": "stdout",
     "output_type": "stream",
     "text": [
      "1. TOTAL NUMBER OF COUNTIES: 823\n"
     ]
    }
   ],
   "source": [
    "\n",
    "print \"1. TOTAL NUMBER OF COUNTIES: %d\" %(len(data))"
   ]
  },
  {
   "cell_type": "markdown",
   "metadata": {},
   "source": [
    "## 2. Create a new column, ‘log_paamv’ which is the log transform of 'Premature age-adjusted mortality Value'."
   ]
  },
  {
   "cell_type": "code",
   "execution_count": 187,
   "metadata": {
    "collapsed": true
   },
   "outputs": [],
   "source": [
    "data['log_paamv'] = np.log(data['Premature age-adjusted mortality Value'])"
   ]
  },
  {
   "cell_type": "code",
   "execution_count": 188,
   "metadata": {
    "collapsed": false
   },
   "outputs": [
    {
     "data": {
      "image/png": "[encoded data removed]",
      "text/plain": [
       "<matplotlib.figure.Figure at 0x10b826d90>"
      ]
     },
     "metadata": {},
     "output_type": "display_data"
    }
   ],
   "source": [
    "loghist = data['log_paamv'].hist(bins = 25)\n",
    "loghist.set_title('log_paamv HISTOGRAM')\n",
    "loghist.get_figure().savefig('2. log_paamv HISTOGRAM: 2histogram.png')\n",
    "plt.show()"
   ]
  },
  {
   "cell_type": "markdown",
   "metadata": {},
   "source": [
    "## 3. Predict “log_paamv” (y) using all “Value” variables "
   ]
  },
  {
   "cell_type": "code",
   "execution_count": 189,
   "metadata": {
    "collapsed": false
   },
   "outputs": [
    {
     "name": "stdout",
     "output_type": "stream",
     "text": [
      "14\n"
     ]
    }
   ],
   "source": [
    "removed_columns = ['COUNTYCODE', 'log_paamv', 'Premature age-adjusted mortality Value', 'Premature death Value',\\\n",
    "                'Uninsured adults Value', 'Teen births Value', 'Food insecurity Value', 'Physical inactivity Value',\\\n",
    "                   'Adult smoking Value', 'Injury deaths Value', 'Motor vehicle crash deaths Value', \\\n",
    "                   'Drug poisoning deaths Value',  'Child mortality Value', 'Uninsured Value']\n",
    "print len(removed_columns)"
   ]
  },
  {
   "cell_type": "code",
   "execution_count": 190,
   "metadata": {
    "collapsed": false
   },
   "outputs": [
    {
     "name": "stdout",
     "output_type": "stream",
     "text": [
      "['Poor or fair health Value', 'Poor physical health days Value', 'Poor mental health days Value', 'Low birthweight Value', 'Adult obesity Value', 'Food environment index Value', 'Access to exercise opportunities Value', 'Excessive drinking Value', 'Alcohol-impaired driving deaths Value', 'Sexually transmitted infections Value', 'Primary care physicians Value', 'Dentists Value', 'Mental health providers Value', 'Preventable hospital stays Value', 'Diabetic screening Value', 'Mammography screening Value', 'High school graduation Value', 'Some college Value', 'Unemployment Value', 'Children in poverty Value', 'Income inequality Value', 'Children in single-parent households Value', 'Social associations Value', 'Violent crime Value', 'Air pollution - particulate matter Value', 'Drinking water violations Value', 'Severe housing problems Value', 'Driving alone to work Value', 'Long commute - driving alone Value', '2011 population estimate Value', 'Population that is not proficient in English Value', 'Population living in a rural area Value', 'Diabetes Value', 'HIV prevalence rate Value', 'Infant mortality Value', 'Limited access to healthy foods Value', 'Uninsured children Value', 'Health care costs Value', 'Could not see doctor due to cost Value', 'Other primary care providers Value', 'Median household income Value', 'Children eligible for free lunch Value', 'Homicide rate Value'] 43\n"
     ]
    }
   ],
   "source": [
    "prediction_columns = []\n",
    "for f in filtered_columns:\n",
    "    if f not in removed_columns:\n",
    "        prediction_columns.append(f)\n",
    "print prediction_columns, len(prediction_columns)"
   ]
  },
  {
   "cell_type": "code",
   "execution_count": 191,
   "metadata": {
    "collapsed": false
   },
   "outputs": [],
   "source": [
    "shuffled_data = data.reindex(np.random.permutation(data.index))\n",
    "shuffled_data = shuffled_data.reset_index(drop=True)\n",
    "data_stdzd = (shuffled_data - shuffled_data.mean())/shuffled_data.std()\n",
    "#print data.info()\n",
    "#print data_stdzd.info()"
   ]
  },
  {
   "cell_type": "code",
   "execution_count": 192,
   "metadata": {
    "collapsed": false
   },
   "outputs": [],
   "source": [
    "X_ = data[prediction_columns]\n",
    "Y_ = data['log_paamv']\n",
    "X_ = ss.zscore(np.array(X_),ddof = 1)\n",
    "Y_ = ss.zscore(np.array(Y_),ddof = 1)"
   ]
  },
  {
   "cell_type": "code",
   "execution_count": 193,
   "metadata": {
    "collapsed": false
   },
   "outputs": [],
   "source": [
    "X_data = pd.DataFrame(data_stdzd[prediction_columns])\n",
    "Y_data = pd.DataFrame(data_stdzd['log_paamv'])"
   ]
  },
  {
   "cell_type": "code",
   "execution_count": 194,
   "metadata": {
    "collapsed": false
   },
   "outputs": [
    {
     "name": "stdout",
     "output_type": "stream",
     "text": [
      "823\n"
     ]
    }
   ],
   "source": [
    "print len(X_data)"
   ]
  },
  {
   "cell_type": "code",
   "execution_count": 202,
   "metadata": {
    "collapsed": false
   },
   "outputs": [],
   "source": [
    "def k_cross_fold(len_data,X,y,method=\"linear\",k=10,include_dev_set = False):\n",
    "    fold_size = len_data/k\n",
    "    mse = 0.0\n",
    "    if method == \"linear\" or method == \"pca\":\n",
    "        model = linear_model.LinearRegression()\n",
    "    elif method == \"ridge\":\n",
    "        model = linear_model.Ridge()\n",
    "    elif method == \"lasso\":\n",
    "        model = linear_model.Lasso()\n",
    "    for i in range(0,k-1):\n",
    "        if method == \"pca\":\n",
    "            X_train = X[:fold_size*(i)].append(X[fold_size*(i+2):])\n",
    "            Y_train= y[:fold_size*(i)].append(y[fold_size*(i+2):])\n",
    "            X_dev = X[fold_size*i : fold_size*(i+1)]\n",
    "            Y_dev = y[fold_size*i : fold_size*(i+1)]\n",
    "            X_test = X[fold_size*(i+1) : fold_size*(i+2)]\n",
    "            Y_test = y[fold_size*(i+1) : fold_size*(i+2)]\n",
    "            n_components = 1\n",
    "            least_err = 100\n",
    "            best_n_components = 1\n",
    "            while n_components < len(X.columns):\n",
    "                pca = PCA(n_components = n_components)\n",
    "                pca.fit(X)\n",
    "                X_train_ = pd.DataFrame(pca.transform(X_train))\n",
    "                X_dev_ = pd.DataFrame(pca.transform(X_dev))\n",
    "                model.fit(X_train_,Y_train)\n",
    "                err = np.mean((model.predict(X_dev_) - Y_dev)**2)\n",
    "                if (least_err - err[0]) > 0.00001:\n",
    "                    least_err = err[0]\n",
    "                    best_n_components = n_components\n",
    "                n_components += 1\n",
    "            #print best_n_components\n",
    "            pca = PCA()\n",
    "            pca.set_params(n_components = best_n_components)\n",
    "            pca.fit(X)\n",
    "            X_train = pd.DataFrame(pca.transform(X_train))\n",
    "            X_test = pd.DataFrame(pca.transform(X_test))\n",
    "            model.fit(X_train,Y_train)\n",
    "            err = np.mean((model.predict(X_test) - Y_test)**2)\n",
    "            #print err , i\n",
    "        elif method == \"ridge\" or method == \"lasso\":\n",
    "            X_train = X[:fold_size*(i)].append(X[fold_size*(i+2):])\n",
    "            Y_train= y[:fold_size*(i)].append(y[fold_size*(i+2):])\n",
    "            X_dev = X[fold_size*i : fold_size*(i+1)]\n",
    "            Y_dev = y[fold_size*i : fold_size*(i+1)]\n",
    "            X_test = X[fold_size*(i+1) : fold_size*(i+2)]\n",
    "            Y_test = y[fold_size*(i+1) : fold_size*(i+2)]\n",
    "            least_err = 100\n",
    "            alphas = [(10**i)/10000.0 for i in xrange(-6,6)]\n",
    "            best_alpha = 0\n",
    "            for alpha in alphas:\n",
    "                #print \"alpha %f\"%alpha\n",
    "                model.set_params(alpha=alpha)\n",
    "                model.fit(X_train,Y_train)\n",
    "                y_hat = model.predict(X_dev)\n",
    "                y_hat = pd.DataFrame(y_hat)\n",
    "                err = np.mean((y_hat.values - Y_dev.values)**2)\n",
    "                #print err\n",
    "                if (least_err - err) > 0:\n",
    "                    least_err = err\n",
    "                    best_alpha = alpha\n",
    "            #print best_alpha\n",
    "            model.set_params(alpha=best_alpha)\n",
    "            model.fit(X_train,Y_train)\n",
    "            y_hat = model.predict(X_test)\n",
    "            y_hat = pd.DataFrame(y_hat)\n",
    "            \n",
    "            err = np.mean((y_hat.values - Y_test.values)**2)\n",
    "            #print err\n",
    "        else:\n",
    "            X_train = X[:fold_size*(i)].append(X[fold_size*(i+1):])\n",
    "            Y_train= y[:fold_size*(i)].append(y[fold_size*(i+1):])\n",
    "            X_test = X[fold_size*i : fold_size*(i+1)]\n",
    "            Y_test = y[fold_size*i : fold_size*(i+1)]\n",
    "            model.fit(X_train,Y_train)\n",
    "            err = np.mean((model.predict(X_test) - Y_test)**2)\n",
    "        mse += err\n",
    "    mean_squared_error = (mse/(k-1))\n",
    "    #print \"3. Non-regularized Linear Regression MSE: %0.3f\" % mean_squared_error\n",
    "    return mean_squared_error"
   ]
  },
  {
   "cell_type": "code",
   "execution_count": 203,
   "metadata": {
    "collapsed": false
   },
   "outputs": [
    {
     "name": "stdout",
     "output_type": "stream",
     "text": [
      "3. Non-regularized Linear Regression MSE: 0.124\n"
     ]
    }
   ],
   "source": [
    "reg = linear_model.LinearRegression()\n",
    "print \"3. Non-regularized Linear Regression MSE: %0.3f\" % k_cross_fold(len(X_data),X_data,Y_data,k=10)"
   ]
  },
  {
   "cell_type": "markdown",
   "metadata": {},
   "source": [
    "## 4. Run PCA \n",
    "    Print the percentage of variance explained for each of the first 3 components"
   ]
  },
  {
   "cell_type": "code",
   "execution_count": 204,
   "metadata": {
    "collapsed": false
   },
   "outputs": [
    {
     "name": "stdout",
     "output_type": "stream",
     "text": [
      "4. Percentage variance explained of first three components: [ 0.281  0.139  0.079]\n"
     ]
    }
   ],
   "source": [
    "pca = PCA(n_components=3)\n",
    "pca.fit(X_data)\n",
    "print \"4. Percentage variance explained of first three components: %s\" \\\n",
    "        %str(np.round(pca.explained_variance_ratio_*1000)/1000)"
   ]
  },
  {
   "cell_type": "markdown",
   "metadata": {},
   "source": [
    "## 5. Run regularized predictions "
   ]
  },
  {
   "cell_type": "code",
   "execution_count": 205,
   "metadata": {
    "collapsed": false
   },
   "outputs": [
    {
     "name": "stdout",
     "output_type": "stream",
     "text": [
      "37\n",
      "16\n",
      "39\n",
      "42\n",
      "42\n",
      "41\n",
      "40\n",
      "19\n",
      "31\n",
      "5. a) principal components regression mse: 0.124\n"
     ]
    }
   ],
   "source": [
    "mse = k_cross_fold(len(X_data), X_data,Y_data,method=\"pca\", k=10, include_dev_set=False)\n",
    "print \"5. a) principal components regression mse: %0.3f\" %mse"
   ]
  },
  {
   "cell_type": "code",
   "execution_count": 199,
   "metadata": {
    "collapsed": false
   },
   "outputs": [
    {
     "data": {
      "text/plain": [
       "'n_components = 1\\nleast_mse = 100\\nbest_n_components = 1\\nreg = linear_model.LinearRegression()\\nwhile n_components < len(X_data.columns):\\n    pca = PCA(n_components = n_components)\\n    pca.fit(X_data)\\n    X_pca = pd.DataFrame(pca.transform(X_data))\\n    mse = k_cross_fold(len(X_pca), X_pca,Y_data,k=10, include_dev_set=True)\\n    if (least_mse - mse[0]) > 0.001:\\n        least_mse = mse[0]\\n        best_n_components = n_components\\n    n_components *= 2\\nprint \"Best number of components %d\" %best_n_components\\npca = PCA(n_components= best_n_components)\\npca.fit(X_data)\\nX_pca = pd.DataFrame(pca.transform(X_data))\\nmse = k_cross_fold(len(X_pca), X_pca,Y_data,k=10, include_dev_set=False)\\nprint \"5. a) principal components regression mse: %0.3f\" %mse'"
      ]
     },
     "execution_count": 199,
     "metadata": {},
     "output_type": "execute_result"
    }
   ],
   "source": [
    "'''n_components = 1\n",
    "least_mse = 100\n",
    "best_n_components = 1\n",
    "reg = linear_model.LinearRegression()\n",
    "while n_components < len(X_data.columns):\n",
    "    pca = PCA(n_components = n_components)\n",
    "    pca.fit(X_data)\n",
    "    X_pca = pd.DataFrame(pca.transform(X_data))\n",
    "    mse = k_cross_fold(len(X_pca), X_pca,Y_data,k=10, include_dev_set=True)\n",
    "    if (least_mse - mse[0]) > 0.001:\n",
    "        least_mse = mse[0]\n",
    "        best_n_components = n_components\n",
    "    n_components *= 2\n",
    "print \"Best number of components %d\" %best_n_components\n",
    "pca = PCA(n_components= best_n_components)\n",
    "pca.fit(X_data)\n",
    "X_pca = pd.DataFrame(pca.transform(X_data))\n",
    "mse = k_cross_fold(len(X_pca), X_pca,Y_data,k=10, include_dev_set=False)\n",
    "print \"5. a) principal components regression mse: %0.3f\" %mse'''"
   ]
  },
  {
   "cell_type": "code",
   "execution_count": 200,
   "metadata": {
    "collapsed": false
   },
   "outputs": [
    {
     "name": "stdout",
     "output_type": "stream",
     "text": [
      "5. b) L2 regularized mse: 0.119\n"
     ]
    }
   ],
   "source": [
    "mse = k_cross_fold(len(X_data),X_data,Y_data,method=\"ridge\",k=10,include_dev_set=False)\n",
    "print \"5. b) L2 regularized mse: %0.3f\" %mse"
   ]
  },
  {
   "cell_type": "code",
   "execution_count": 201,
   "metadata": {
    "collapsed": false
   },
   "outputs": [
    {
     "name": "stdout",
     "output_type": "stream",
     "text": [
      "5. c) L1 regularized mse: 0.118\n"
     ]
    }
   ],
   "source": [
    "mse = k_cross_fold(len(X_data),X_data,Y_data,method=\"lasso\",k=10,include_dev_set=False)\n",
    "print \"5. c) L1 regularized mse: %0.3f\" %mse"
   ]
  },
  {
   "cell_type": "code",
   "execution_count": null,
   "metadata": {
    "collapsed": true
   },
   "outputs": [],
   "source": []
  }
 ],
 "metadata": {
  "kernelspec": {
   "display_name": "Python 2",
   "language": "python",
   "name": "python2"
  },
  "language_info": {
   "codemirror_mode": {
    "name": "ipython",
    "version": 2
   },
   "file_extension": ".py",
   "mimetype": "text/x-python",
   "name": "python",
   "nbconvert_exporter": "python",
   "pygments_lexer": "ipython2",
   "version": "2.7.11"
  }
 },
 "nbformat": 4,
 "nbformat_minor": 0
}
