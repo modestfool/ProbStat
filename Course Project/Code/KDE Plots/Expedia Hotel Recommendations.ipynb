{
 "cells": [
  {
   "cell_type": "code",
   "execution_count": null,
   "metadata": {
    "collapsed": false
   },
   "outputs": [],
   "source": [
    "%matplotlib inline\n",
    "import numpy as np \n",
    "import pandas as pd\n",
    "import seaborn as sns\n",
    "import matplotlib.pyplot as plt\n",
    "from datetime import datetime\n",
    "from sklearn.decomposition import PCA"
   ]
  },
  {
   "cell_type": "code",
   "execution_count": null,
   "metadata": {
    "collapsed": false
   },
   "outputs": [],
   "source": [
    "train_set = pd.read_csv('../train.csv', parse_dates=['srch_ci', 'srch_co'])"
   ]
  },
  {
   "cell_type": "code",
   "execution_count": null,
   "metadata": {
    "collapsed": false
   },
   "outputs": [],
   "source": [
    "train_set.describe()"
   ]
  },
  {
   "cell_type": "code",
   "execution_count": null,
   "metadata": {
    "collapsed": false
   },
   "outputs": [],
   "source": [
    "users_group = train_set.groupby('user_id')\n",
    "bookings = users_group.aggregate({'is_booking':np.sum})\n",
    "print np.sum(bookings)"
   ]
  },
  {
   "cell_type": "markdown",
   "metadata": {},
   "source": [
    "## Get the top 100000 users with most transactions"
   ]
  },
  {
   "cell_type": "code",
   "execution_count": null,
   "metadata": {
    "collapsed": true
   },
   "outputs": [],
   "source": [
    "filtered_user_ids_1k = list(train_set['user_id'].value_counts()[0:1000].index)"
   ]
  },
  {
   "cell_type": "code",
   "execution_count": null,
   "metadata": {
    "collapsed": false,
    "scrolled": false
   },
   "outputs": [],
   "source": [
    "filtered_user_ids_10k = list(train_set['user_id'].value_counts()[0:10000].index)"
   ]
  },
  {
   "cell_type": "code",
   "execution_count": null,
   "metadata": {
    "collapsed": true
   },
   "outputs": [],
   "source": [
    "filtered_user_ids_100k = list(train_set['user_id'].value_counts()[0:100000].index)"
   ]
  },
  {
   "cell_type": "code",
   "execution_count": null,
   "metadata": {
    "collapsed": false
   },
   "outputs": [],
   "source": [
    "train_set['user_id'].value_counts()[0:10000].tail(5)"
   ]
  },
  {
   "cell_type": "code",
   "execution_count": null,
   "metadata": {
    "collapsed": false
   },
   "outputs": [],
   "source": [
    "filtered_train_set_1k = train_set[train_set['user_id'].isin(filtered_user_ids_1k)]"
   ]
  },
  {
   "cell_type": "code",
   "execution_count": null,
   "metadata": {
    "collapsed": false
   },
   "outputs": [],
   "source": [
    "filtered_train_set_10k = train_set[train_set['user_id'].isin(filtered_user_ids_10k)]"
   ]
  },
  {
   "cell_type": "code",
   "execution_count": null,
   "metadata": {
    "collapsed": true
   },
   "outputs": [],
   "source": [
    "filtered_train_set_100k = train_set[train_set['user_id'].isin(filtered_user_ids_100k)]"
   ]
  },
  {
   "cell_type": "code",
   "execution_count": null,
   "metadata": {
    "collapsed": false
   },
   "outputs": [],
   "source": [
    "filtered_train_set_10k.describe()"
   ]
  },
  {
   "cell_type": "code",
   "execution_count": null,
   "metadata": {
    "collapsed": false
   },
   "outputs": [],
   "source": [
    "filtered_train_set_10k['srch_ci'] = pd.to_datetime(filtered_train_set_10k['srch_ci'])\n",
    "filtered_train_set_10k['srch_co'] = pd.to_datetime(filtered_train_set_10k['srch_co'])"
   ]
  },
  {
   "cell_type": "code",
   "execution_count": null,
   "metadata": {
    "collapsed": false
   },
   "outputs": [],
   "source": [
    "temp = pd.to_datetime(filtered_train_set_10k['srch_ci'],errors = 'ignore')\n",
    "filtered_train_set_10k['srch_ci'] = temp\n",
    "temp = pd.to_datetime(filtered_train_set_10k['srch_co'],errors = 'ignore')\n",
    "filtered_train_set_10k['srch_co'] = temp"
   ]
  },
  {
   "cell_type": "code",
   "execution_count": null,
   "metadata": {
    "collapsed": false
   },
   "outputs": [],
   "source": [
    "filtered_train_set_10k['num_days'] = (filtered_train_set_10k['srch_co'] - filtered_train_set_10k['srch_ci'])\\\n",
    "                                                            .values.astype('timedelta64[D]').astype(int)"
   ]
  },
  {
   "cell_type": "code",
   "execution_count": null,
   "metadata": {
    "collapsed": false
   },
   "outputs": [],
   "source": [
    "filtered_train_set_10k['num_days'] = filtered_train_set_10k['num_days'].apply(lambda x: abs(x))"
   ]
  },
  {
   "cell_type": "code",
   "execution_count": null,
   "metadata": {
    "collapsed": false
   },
   "outputs": [],
   "source": [
    "filtered_train_set_1k ['num_days'] = \\\n",
    " (filtered_train_set_1k['srch_co'] - filtered_train_set_1k['srch_ci']).values.astype('timedelta64[D]').astype(int)"
   ]
  },
  {
   "cell_type": "code",
   "execution_count": null,
   "metadata": {
    "collapsed": false
   },
   "outputs": [],
   "source": [
    "erroneous = filtered_train_set_10k[filtered_train_set_10k['num_days'] < 0]\n",
    "len(erroneous)"
   ]
  },
  {
   "cell_type": "code",
   "execution_count": null,
   "metadata": {
    "collapsed": true
   },
   "outputs": [],
   "source": [
    "filtered_train_set_10k = filtered_train_set_10k[filtered_train_set_10k['num_days'] >= 0] "
   ]
  },
  {
   "cell_type": "code",
   "execution_count": null,
   "metadata": {
    "collapsed": true
   },
   "outputs": [],
   "source": [
    "temp = pd.to_datetime(train_set['srch_ci'],errors = 'coerce')\n",
    "train_set['srch_ci'] = temp\n",
    "temp = pd.to_datetime(train_set['srch_co'],errors = 'coerce')\n",
    "train_set['srch_co'] = temp"
   ]
  },
  {
   "cell_type": "code",
   "execution_count": null,
   "metadata": {
    "collapsed": false
   },
   "outputs": [],
   "source": [
    "train_set['num_days'] = (train_set['srch_co'] - train_set['srch_ci'])\\\n",
    "                                                            .values.astype('timedelta64[D]').astype(int)"
   ]
  },
  {
   "cell_type": "code",
   "execution_count": null,
   "metadata": {
    "collapsed": true
   },
   "outputs": [],
   "source": [
    "temp = pd.to_datetime(test_data['srch_ci'],errors = 'coerce')\n",
    "test_data['srch_ci'] = temp\n",
    "temp = pd.to_datetime(test_data['srch_co'],errors = 'coerce')\n",
    "test_data['srch_co'] = temp"
   ]
  },
  {
   "cell_type": "code",
   "execution_count": null,
   "metadata": {
    "collapsed": true
   },
   "outputs": [],
   "source": [
    "test_data['num_days'] = (test_data['srch_co'] - test_data['srch_ci'])\\\n",
    "                                                            .values.astype('timedelta64[D]').astype(int)"
   ]
  },
  {
   "cell_type": "code",
   "execution_count": null,
   "metadata": {
    "collapsed": false
   },
   "outputs": [],
   "source": [
    "filtered_train_set_10k = filtered_train_set_10k.drop('hours_to_checkin',axis=1)"
   ]
  },
  {
   "cell_type": "code",
   "execution_count": null,
   "metadata": {
    "collapsed": false
   },
   "outputs": [],
   "source": [
    "filtered_train_set_10k['date_time'] = pd.to_datetime(filtered_train_set_10k[\"date_time\"])"
   ]
  },
  {
   "cell_type": "code",
   "execution_count": null,
   "metadata": {
    "collapsed": false
   },
   "outputs": [],
   "source": [
    "filtered_train_set_10k['num_days_to_checkin'] = \\\n",
    "            (filtered_train_set_10k['srch_ci'] - filtered_train_set_10k['date_time'])\\\n",
    "                            .values.astype('timedelta64[D]').astype(int)"
   ]
  },
  {
   "cell_type": "code",
   "execution_count": null,
   "metadata": {
    "collapsed": false
   },
   "outputs": [],
   "source": [
    "(filtered_train_set_10k['num_days_to_checkin'] < 0).sum()"
   ]
  },
  {
   "cell_type": "code",
   "execution_count": null,
   "metadata": {
    "collapsed": false
   },
   "outputs": [],
   "source": [
    "filtered_train_set_10k['num_days_to_checkin'].describe()"
   ]
  },
  {
   "cell_type": "code",
   "execution_count": null,
   "metadata": {
    "collapsed": true
   },
   "outputs": [],
   "source": [
    "filtered_train_set_10k['num_days'] = filtered_train_set_10k['num_days'].apply(lambda x: abs(x))"
   ]
  },
  {
   "cell_type": "code",
   "execution_count": null,
   "metadata": {
    "collapsed": true
   },
   "outputs": [],
   "source": [
    "filtered_train_set_10k['month'] = filtered_train_set_10k['date_time'].apply(lambda x: x.month)"
   ]
  },
  {
   "cell_type": "code",
   "execution_count": null,
   "metadata": {
    "collapsed": false
   },
   "outputs": [],
   "source": [
    "len(filtered_train_set_10k)"
   ]
  },
  {
   "cell_type": "code",
   "execution_count": null,
   "metadata": {
    "collapsed": false
   },
   "outputs": [],
   "source": [
    "filtered_train_set_10k = filtered_train_set_10k[filtered_train_set_10k['num_days_to_checkin']<366]\n",
    "print len(filtered_train_set_10k)"
   ]
  },
  {
   "cell_type": "code",
   "execution_count": null,
   "metadata": {
    "collapsed": false
   },
   "outputs": [],
   "source": [
    "filtered_train_set_10k = filtered_train_set_10k[filtered_train_set_10k['num_days'] < 365]"
   ]
  },
  {
   "cell_type": "code",
   "execution_count": null,
   "metadata": {
    "collapsed": true
   },
   "outputs": [],
   "source": [
    "filtered_train_set_10k = filtered_train_set_10k.dropna()"
   ]
  },
  {
   "cell_type": "code",
   "execution_count": null,
   "metadata": {
    "collapsed": false
   },
   "outputs": [],
   "source": [
    "filtered_train_set_10k['log2_orig_destination_distance'] = \\\n",
    "                ((np.log2(filtered_train_set_10k['orig_destination_distance'])).round() + 7)"
   ]
  },
  {
   "cell_type": "code",
   "execution_count": null,
   "metadata": {
    "collapsed": false
   },
   "outputs": [],
   "source": [
    "print filtered_train_set_10k['log2_orig_destination_distance'].hist()\n",
    "print len(filtered_train_set_10k)"
   ]
  },
  {
   "cell_type": "code",
   "execution_count": null,
   "metadata": {
    "collapsed": false
   },
   "outputs": [],
   "source": [
    "filtered_train_set_10k['log1p_num_days_to_checkin'] = \\\n",
    "            (np.log1p(filtered_train_set_10k['num_days_to_checkin'])*10).round()"
   ]
  },
  {
   "cell_type": "code",
   "execution_count": null,
   "metadata": {
    "collapsed": false
   },
   "outputs": [],
   "source": [
    "filtered_train_set_10k['log1p_num_days'] =  \\\n",
    "            ((np.log1p(filtered_train_set_10k['num_days']))*10).round()"
   ]
  },
  {
   "cell_type": "markdown",
   "metadata": {},
   "source": [
    "## PCA Model - destinations.csv"
   ]
  },
  {
   "cell_type": "code",
   "execution_count": null,
   "metadata": {
    "collapsed": false
   },
   "outputs": [],
   "source": [
    "destinations = pd.read_csv('../destinations.csv')\n",
    "cols = list(destinations.columns)\n",
    "cols.remove('srch_destination_id')\n",
    "destinations[cols] = (destinations[cols] - destinations[cols].mean())/(destinations[cols].max() - destinations[cols].min())\n",
    "destinations.describe()"
   ]
  },
  {
   "cell_type": "code",
   "execution_count": null,
   "metadata": {
    "collapsed": false
   },
   "outputs": [],
   "source": [
    "pca = PCA(n_components=3)\n",
    "dest_small = pca.fit_transform(destinations[[\"d{0}\".format(i + 1) for i in range(149)]])\n",
    "dest_small = pd.DataFrame(dest_small,columns=['dest1','dest2','dest3'])\n",
    "dest_small[\"srch_destination_id\"] = destinations[\"srch_destination_id\"]"
   ]
  },
  {
   "cell_type": "code",
   "execution_count": null,
   "metadata": {
    "collapsed": false
   },
   "outputs": [],
   "source": [
    "np.sum(pca.explained_variance_ratio_)"
   ]
  },
  {
   "cell_type": "code",
   "execution_count": null,
   "metadata": {
    "collapsed": false,
    "scrolled": false
   },
   "outputs": [],
   "source": [
    "dest_small.head()"
   ]
  },
  {
   "cell_type": "code",
   "execution_count": null,
   "metadata": {
    "collapsed": false
   },
   "outputs": [],
   "source": [
    "dat = filtered_train_set_10k[:100]\n",
    "dat.info()"
   ]
  },
  {
   "cell_type": "code",
   "execution_count": null,
   "metadata": {
    "collapsed": false
   },
   "outputs": [],
   "source": [
    "dummy = pd.merge(filtered_train_set_10k,dest_small,on = 'srch_destination_id')\n",
    "#print dummy.head()"
   ]
  },
  {
   "cell_type": "code",
   "execution_count": null,
   "metadata": {
    "collapsed": false
   },
   "outputs": [],
   "source": [
    "dummy.info()"
   ]
  },
  {
   "cell_type": "code",
   "execution_count": null,
   "metadata": {
    "collapsed": false
   },
   "outputs": [],
   "source": [
    "filtered_train_set_10k = pd.DataFrame(dummy)"
   ]
  },
  {
   "cell_type": "code",
   "execution_count": null,
   "metadata": {
    "collapsed": false
   },
   "outputs": [],
   "source": [
    "filtered_train_set_10k.to_csv('../Top_10k_users.csv.gzip',compression='gzip',index=False)"
   ]
  },
  {
   "cell_type": "code",
   "execution_count": null,
   "metadata": {
    "collapsed": false
   },
   "outputs": [],
   "source": [
    "len(filtered_train_set_1k)"
   ]
  },
  {
   "cell_type": "code",
   "execution_count": null,
   "metadata": {
    "collapsed": false
   },
   "outputs": [],
   "source": [
    "shortlist_users =[]\n",
    "for c in user_id_100:\n",
    "    print c\n",
    "    break\n",
    "    if c == 1:\n",
    "        shortlist_users.append()\n",
    "print shortlist_users"
   ]
  },
  {
   "cell_type": "code",
   "execution_count": null,
   "metadata": {
    "collapsed": true
   },
   "outputs": [],
   "source": [
    "test_set = pd.read_csv('test.csv')"
   ]
  },
  {
   "cell_type": "code",
   "execution_count": null,
   "metadata": {
    "collapsed": false
   },
   "outputs": [],
   "source": [
    "test_set.info()"
   ]
  },
  {
   "cell_type": "markdown",
   "metadata": {},
   "source": [
    "# Top 10000 Users"
   ]
  },
  {
   "cell_type": "code",
   "execution_count": 1,
   "metadata": {
    "collapsed": true
   },
   "outputs": [],
   "source": [
    "%matplotlib inline\n",
    "import numpy as np \n",
    "import pandas as pd\n",
    "import seaborn as sns\n",
    "import matplotlib.pyplot as plt\n",
    "from datetime import datetime\n",
    "from sklearn import naive_bayes\n",
    "import operator\n",
    "from pprint import pprint\n",
    "from sklearn.decomposition import PCA\n",
    "import time\n",
    "from multiprocessing.dummy import Pool as ThreadPool "
   ]
  },
  {
   "cell_type": "code",
   "execution_count": 80,
   "metadata": {
    "collapsed": false
   },
   "outputs": [],
   "source": [
    "filtered_data = pd.read_csv('../Top_10k_users.csv')"
   ]
  },
  {
   "cell_type": "code",
   "execution_count": null,
   "metadata": {
    "collapsed": true
   },
   "outputs": [],
   "source": [
    "#test_data = pd.read_csv('../test.csv')"
   ]
  },
  {
   "cell_type": "code",
   "execution_count": null,
   "metadata": {
    "collapsed": true
   },
   "outputs": [],
   "source": [
    "#destinations_data = pd.read_csv('../destinations.csv')"
   ]
  },
  {
   "cell_type": "markdown",
   "metadata": {},
   "source": [
    "## Randomly permute data before proceeding further and filter users "
   ]
  },
  {
   "cell_type": "code",
   "execution_count": 81,
   "metadata": {
    "collapsed": false
   },
   "outputs": [],
   "source": [
    "s = filtered_data['user_id'].value_counts()\n",
    "users_records_10 = s[s >= 10].index"
   ]
  },
  {
   "cell_type": "code",
   "execution_count": 82,
   "metadata": {
    "collapsed": false
   },
   "outputs": [
    {
     "name": "stdout",
     "output_type": "stream",
     "text": [
      "Int64Index([1187360,  783124,   96700,  685462,   42680, 1011295,   52390,\n",
      "             734404,   73437, 1067676,\n",
      "            ...\n",
      "            1131265,  312984,  770891,   52878,  559098,  381135,  453337,\n",
      "             919526,  870282,  210530],\n",
      "           dtype='int64', length=7221)\n"
     ]
    }
   ],
   "source": [
    "print users_records_10"
   ]
  },
  {
   "cell_type": "code",
   "execution_count": 85,
   "metadata": {
    "collapsed": false
   },
   "outputs": [
    {
     "name": "stdout",
     "output_type": "stream",
     "text": [
      "<class 'pandas.core.frame.DataFrame'>\n",
      "Int64Index: 1682116 entries, 0 to 1684468\n",
      "Data columns (total 33 columns):\n",
      "date_time                         1682116 non-null object\n",
      "site_name                         1682116 non-null int64\n",
      "posa_continent                    1682116 non-null int64\n",
      "user_location_country             1682116 non-null int64\n",
      "user_location_region              1682116 non-null int64\n",
      "user_location_city                1682116 non-null int64\n",
      "orig_destination_distance         1682116 non-null float64\n",
      "user_id                           1682116 non-null int64\n",
      "is_mobile                         1682116 non-null int64\n",
      "is_package                        1682116 non-null int64\n",
      "channel                           1682116 non-null int64\n",
      "srch_ci                           1682116 non-null object\n",
      "srch_co                           1682116 non-null object\n",
      "srch_adults_cnt                   1682116 non-null int64\n",
      "srch_children_cnt                 1682116 non-null int64\n",
      "srch_rm_cnt                       1682116 non-null int64\n",
      "srch_destination_id               1682116 non-null int64\n",
      "srch_destination_type_id          1682116 non-null int64\n",
      "is_booking                        1682116 non-null int64\n",
      "cnt                               1682116 non-null int64\n",
      "hotel_continent                   1682116 non-null int64\n",
      "hotel_country                     1682116 non-null int64\n",
      "hotel_market                      1682116 non-null int64\n",
      "hotel_cluster                     1682116 non-null int64\n",
      "num_days                          1682116 non-null int64\n",
      "num_days_to_checkin               1682116 non-null int64\n",
      "month                             1682116 non-null int64\n",
      "log2_orig_destination_distance    1682116 non-null float64\n",
      "log1p_num_days_to_checkin         1682116 non-null float64\n",
      "log1p_num_days                    1682116 non-null float64\n",
      "dest1                             1682116 non-null float64\n",
      "dest2                             1682116 non-null float64\n",
      "dest3                             1682116 non-null float64\n",
      "dtypes: float64(7), int64(23), object(3)\n",
      "memory usage: 436.3+ MB\n"
     ]
    }
   ],
   "source": [
    "filtered_data = filtered_data[filtered_data['user_id'].isin(users_records_10)]\n",
    "filtered_data.info()"
   ]
  },
  {
   "cell_type": "code",
   "execution_count": 86,
   "metadata": {
    "collapsed": true
   },
   "outputs": [],
   "source": [
    "filtered_data = filtered_data.iloc[np.random.permutation(len(filtered_data))]"
   ]
  },
  {
   "cell_type": "code",
   "execution_count": 95,
   "metadata": {
    "collapsed": false
   },
   "outputs": [
    {
     "data": {
      "text/plain": [
       "1187360    294\n",
       "42680      291\n",
       "1011295    289\n",
       "783124     288\n",
       "96700      283\n",
       "73437      282\n",
       "734404     279\n",
       "685462     271\n",
       "53913      270\n",
       "574653     270\n",
       "946838     269\n",
       "1025243    268\n",
       "64773      267\n",
       "52390      266\n",
       "732273     264\n",
       "1175659    264\n",
       "890273     262\n",
       "526472     262\n",
       "31613      259\n",
       "261678     258\n",
       "158459     258\n",
       "735853     258\n",
       "561327     257\n",
       "1156294    257\n",
       "1016190    257\n",
       "736180     257\n",
       "780534     257\n",
       "91830      256\n",
       "1173495    256\n",
       "840844     255\n",
       "          ... \n",
       "1103108      5\n",
       "338617       5\n",
       "353460       5\n",
       "897655       5\n",
       "448987       5\n",
       "105790       5\n",
       "398323       5\n",
       "815860       5\n",
       "52878        4\n",
       "1169135      4\n",
       "920258       4\n",
       "829258       4\n",
       "1162142      4\n",
       "123011       4\n",
       "432710       4\n",
       "773638       4\n",
       "502145       4\n",
       "1048236      4\n",
       "1181010      4\n",
       "1015171      4\n",
       "647455       4\n",
       "241707       4\n",
       "511568       4\n",
       "940938       4\n",
       "919526       4\n",
       "794837       4\n",
       "1004581      4\n",
       "856462       3\n",
       "453337       3\n",
       "112715       3\n",
       "Name: user_id, dtype: int64"
      ]
     },
     "execution_count": 95,
     "metadata": {},
     "output_type": "execute_result"
    }
   ],
   "source": [
    "filtered_data[:1000000]['user_id'].value_counts()"
   ]
  },
  {
   "cell_type": "code",
   "execution_count": 87,
   "metadata": {
    "collapsed": false
   },
   "outputs": [],
   "source": [
    "X_columns = filtered_data.columns"
   ]
  },
  {
   "cell_type": "code",
   "execution_count": 88,
   "metadata": {
    "collapsed": false
   },
   "outputs": [
    {
     "name": "stdout",
     "output_type": "stream",
     "text": [
      "Index([u'site_name', u'posa_continent', u'user_location_country',\n",
      "       u'user_location_region', u'user_location_city',\n",
      "       u'orig_destination_distance', u'user_id', u'is_mobile', u'is_package',\n",
      "       u'channel', u'srch_adults_cnt', u'srch_children_cnt', u'srch_rm_cnt',\n",
      "       u'srch_destination_id', u'srch_destination_type_id', u'cnt',\n",
      "       u'hotel_continent', u'hotel_country', u'hotel_market', u'num_days',\n",
      "       u'num_days_to_checkin', u'month', u'log2_orig_destination_distance',\n",
      "       u'log1p_num_days_to_checkin', u'log1p_num_days'],\n",
      "      dtype='object')\n"
     ]
    }
   ],
   "source": [
    "X_columns = X_columns.drop(['hotel_cluster','date_time','srch_ci','srch_co','dest1','dest2','dest3','is_booking']).astype(list)\n",
    "print X_columns"
   ]
  },
  {
   "cell_type": "code",
   "execution_count": 5,
   "metadata": {
    "collapsed": false
   },
   "outputs": [],
   "source": [
    "def content_based_nbc (X,Y,X_test,Y_test):\n",
    "    gnb = naive_bayes.GaussianNB()\n",
    "    y_predict = gnb.fit(X,Y).predict(X_test)\n",
    "    y_predict_pb = gnb.predict_proba(X_test)\n",
    "    accuracy_top = 0.0\n",
    "    Y_predicted_top = pd.DataFrame(columns=['cb_recommendations'])\n",
    "    for i in range(len(y_predict_pb)):\n",
    "        ordered ={}\n",
    "        ordered['cb_recommendations'] =\\\n",
    "            sorted(zip (gnb.classes_,y_predict_pb[i]), key= operator.itemgetter(1),reverse=True)[0:5]\n",
    "        Y_predicted_top = Y_predicted_top.append(ordered,ignore_index = True)\n",
    "        accuracy_top += (Y_test[i] in dict(ordered['cb_recommendations']).keys())\n",
    "        #break\n",
    "        #print \"From Top %s,%s,%s\" %(ordered[0][0],y_predict[i],Y[i])\n",
    "    '''%xdel gnb\n",
    "    %xdel y_predict_pb\n",
    "    %xdel y_predict\n",
    "    %xdel ordered'''\n",
    "    accuracy = (Y_test == y_predict).sum()*1.0\n",
    "    #accuracy_top = accuracy_top*1.0/len(X_test)\n",
    "    #print accuracy,accuracy_top\n",
    "    return (accuracy,accuracy_top,Y_predicted_top)"
   ]
  },
  {
   "cell_type": "code",
   "execution_count": 6,
   "metadata": {
    "collapsed": false
   },
   "outputs": [
    {
     "name": "stdout",
     "output_type": "stream",
     "text": [
      "Before dropping na 1684469\n",
      "After dropping na 1684469\n"
     ]
    }
   ],
   "source": [
    "print \"Before dropping na\", len(filtered_data)#, len(test_data)\n",
    "#filtered_data['orig_destination_distance'] = filtered_data['orig_destination_distance'].fillna(-1)\n",
    "filtered_data = filtered_data.dropna()\n",
    "#test_data = test_data.dropna()\n",
    "filtered_data = filtered_data.reset_index(drop=True)\n",
    "#test_data = test_data.reset_index(drop=True)\n",
    "print \"After dropping na\", len(filtered_data)#, len(test_data)\n",
    "#filtered_data = filtered_data[filtered_data['num_days']>=0]"
   ]
  },
  {
   "cell_type": "code",
   "execution_count": null,
   "metadata": {
    "collapsed": true
   },
   "outputs": [],
   "source": [
    "def get_recommendations(test_users_grouped):\n",
    "    predictions = pd.DataFrame(columns=['id','hotel_cluster'])\n",
    "    for user,filtered_test in test_users_grouped:\n",
    "        try:\n",
    "            filtered_train = train_grouped.get_group(user)\n",
    "            \n",
    "            filtered_train = filtered_train.fillna(0)\n",
    "            filtered_train = filtered_train.reset_index(drop=True)\n",
    "\n",
    "            filtered_test = filtered_test.fillna(0)\n",
    "            filtered_test = filtered_test.reset_index(drop=True)\n",
    "\n",
    "            X_train = filtered_train[columns]\n",
    "            Y_train = filtered_train['hotel_cluster']\n",
    "            X_test = filtered_test[columns]\n",
    "            X_test_id = filtered_test['id'].astype(int)\n",
    "            if len(X_train) < 1:\n",
    "                print \"No training data\"\n",
    "                continue\n",
    "            if len(X_test) < 1:\n",
    "                print \"No test data\"\n",
    "                continue\n",
    "            pred_dict = {}\n",
    "            Y_predicted_top = content_based_nbc(X_train,Y_train,X_test)\n",
    "            for i in range(len(X_test)):\n",
    "                pred_dict['id'] = int(X_test_id[i])\n",
    "                pred_dict['hotel_cluster'] = ' '.join([str(x) for x in Y_predicted_top[i]])\n",
    "                predictions = predictions.append(pred_dict,ignore_index=True)\n",
    "                #pprint(pred_dict)\n",
    "            #pprint(Y_predicted_top)\n",
    "            %xdel X_train\n",
    "            %xdel X_test\n",
    "            %xdel Y_train\n",
    "            %xdel Y_predicted_top\n",
    "        except ValueError as e:\n",
    "            print e, user\n",
    "    predictions.to_csv('predictions_group.csv',index=False)"
   ]
  },
  {
   "cell_type": "code",
   "execution_count": 90,
   "metadata": {
    "collapsed": false
   },
   "outputs": [
    {
     "name": "stdout",
     "output_type": "stream",
     "text": [
      "7221\n"
     ]
    }
   ],
   "source": [
    "users = filtered_data['user_id'].unique()\n",
    "print len(users)"
   ]
  },
  {
   "cell_type": "code",
   "execution_count": 98,
   "metadata": {
    "collapsed": false,
    "scrolled": true
   },
   "outputs": [],
   "source": [
    "def k_fold(filtered_data, k=5):\n",
    "    accuracy = {}\n",
    "    avg_accuracy = 0.0\n",
    "    avg_accuracy_top = 0.0\n",
    "    \n",
    "    #users = filtered_data['user_id'].unique()\n",
    "    filtered_with_recommendations = pd.DataFrame(columns =list(X_columns) + ['hotel_cluster','cb_recommendations'])\n",
    "    #print len(users)\n",
    "    filtered_data_grouped = filtered_data.groupby('user_id')\n",
    "    print len(filtered_data_grouped)\n",
    "    #for user in users:\n",
    "    for user,filtered in filtered_data_grouped:\n",
    "        try:\n",
    "            filtered_with_recommendations_user = pd.DataFrame(columns =list(X_columns) + \\\n",
    "                                                              ['hotel_cluster','cb_recommendations'])\n",
    "            '''filtered = filtered_data[filtered_data['user_id'] == user]\n",
    "\n",
    "            filtered = filtered.dropna()'''\n",
    "            filtered = filtered.reset_index(drop=True)\n",
    "            \n",
    "            fold_size = len(filtered)/k\n",
    "            \n",
    "            avg_accuracy_user = 0.0\n",
    "            avg_accuracy_top_user = 0.0\n",
    "            \n",
    "            skipped_folds = 0\n",
    "            for i in range(k):\n",
    "                filtered_train = filtered[:fold_size*(i)].append(filtered[fold_size*(i+1):])\n",
    "                filtered_test =  filtered[fold_size*(i):fold_size*(i+1)]\n",
    "                \n",
    "                filtered_train = filtered_train.reset_index(drop=True)\n",
    "                filtered_test = filtered_test.reset_index(drop=True)\n",
    "               \n",
    "                X_train = filtered_train[X_columns]\n",
    "                Y_train = filtered_train['hotel_cluster']\n",
    "                \n",
    "                X_test = filtered_test[X_columns]\n",
    "                Y_test = filtered_test['hotel_cluster']\n",
    "                \n",
    "                #print X_train.shape, Y_train.shape\n",
    "                #print X_test.shape, Y_test.shape\n",
    "                #break\n",
    "                \n",
    "                if len(X_train) < 1:\n",
    "                    skipped_folds +=1\n",
    "                    #print fold_size, len(filtered)\n",
    "                    #print \"No training data\"\n",
    "                    continue\n",
    "                if len(X_test) < 1:\n",
    "                    skipped_folds +=1\n",
    "                    #print fold_size, len(filtered)\n",
    "                    #print \"No test data\"\n",
    "                    continue\n",
    "                \n",
    "                acc,acc_top,Y_predicted_top = content_based_nbc(X_train,Y_train,X_test,Y_test)\n",
    "                accuracy[user] = acc\n",
    "                avg_accuracy_user += acc\n",
    "                avg_accuracy_top_user += acc_top\n",
    "            if k != skipped_folds:\n",
    "                avg_accuracy += avg_accuracy_user*1.0/(k-skipped_folds)\n",
    "                avg_accuracy_top += avg_accuracy_top_user*1.0/(k-skipped_folds)\n",
    "\n",
    "            #break\n",
    "        except ValueError as e:\n",
    "            print e, user\n",
    "    print avg_accuracy*1.0/len(users),avg_accuracy_top*1.0/len(users)"
   ]
  },
  {
   "cell_type": "code",
   "execution_count": 19,
   "metadata": {
    "collapsed": false
   },
   "outputs": [],
   "source": [
    "def get_cb_recommendations(train_set,test_set):\n",
    "    accuracy = {}\n",
    "    avg_accuracy = 0.0\n",
    "    avg_accuracy_top = 0.0\n",
    "\n",
    "    filtered_with_recommendations = pd.DataFrame(columns = list(X_columns) + ['hotel_cluster','cb_recommendations'])\n",
    "    Y_predicted_top = pd.DataFrame(columns=['cb_recommendations'])\n",
    "    #print len(users)\n",
    "    train_set_grouped = train_set.groupby('user_id')\n",
    "    test_set_grouped = test_set.groupby('user_id')\n",
    "    \n",
    "    for user,filtered_test in test_set_grouped:\n",
    "        try:\n",
    "            filtered_with_recommendations_user = pd.DataFrame(columns = list(X_columns) +\\\n",
    "                                                              ['hotel_cluster','cb_recommendations'])\n",
    "            filtered_train = train_set_grouped.get_group(user)\n",
    "            \n",
    "            #filtered_train = filtered_train.dropna()\n",
    "            filtered_train = filtered_train.reset_index(drop=True)\n",
    "\n",
    "            #filtered_test = filtered_test.dropna()\n",
    "            filtered_test = filtered_test.reset_index(drop=True)\n",
    "\n",
    "            X_train = filtered_train[X_columns]\n",
    "            Y_train = filtered_train['hotel_cluster']\n",
    "            \n",
    "            X_test = filtered_test[X_columns]\n",
    "            Y_test = filtered_test['hotel_cluster']\n",
    "            \n",
    "            if len(X_train) < 1:\n",
    "                print \"No training data\"\n",
    "                continue\n",
    "            if len(X_test) < 1:\n",
    "                print \"No test data\"\n",
    "                continue\n",
    "            #return values from the NBC model\n",
    "            acc,acc_top,Y_predicted_top = content_based_nbc(X_train,Y_train,X_test,Y_test)\n",
    "            \n",
    "            filtered_with_recommendations_user = pd.concat([X_test,Y_test,Y_predicted_top],axis=1)\n",
    "            filtered_with_recommendations = \\\n",
    "                pd.concat([filtered_with_recommendations,filtered_with_recommendations_user],axis=0,ignore_index=True)\n",
    "            #print len(X_test),len(Y_test),len(Y_predicted_top),len(filtered_with_recommendations)\n",
    "            \n",
    "            accuracy[user] = acc\n",
    "            avg_accuracy += acc\n",
    "            avg_accuracy_top += acc_top\n",
    "            #break\n",
    "        except ValueError as e:\n",
    "            print e, user\n",
    "            \n",
    "    print avg_accuracy*1.0/len(filtered_with_recommendations)\n",
    "    print avg_accuracy_top*1.0/len(filtered_with_recommendations)\n",
    "    return filtered_with_recommendations"
   ]
  },
  {
   "cell_type": "code",
   "execution_count": 27,
   "metadata": {
    "collapsed": false
   },
   "outputs": [
    {
     "name": "stdout",
     "output_type": "stream",
     "text": [
      "2016-05-11 19:18:53\n"
     ]
    }
   ],
   "source": [
    "curr_time  = datetime.fromtimestamp(int(time.time()))\n",
    "print curr_time"
   ]
  },
  {
   "cell_type": "code",
   "execution_count": 28,
   "metadata": {
    "collapsed": false,
    "scrolled": true
   },
   "outputs": [
    {
     "name": "stdout",
     "output_type": "stream",
     "text": [
      "0.377816985649\n",
      "0.7800529425\n"
     ]
    }
   ],
   "source": [
    "filtered_data_with_recos = get_cb_recommendations(filtered_data,filtered_data)"
   ]
  },
  {
   "cell_type": "code",
   "execution_count": 48,
   "metadata": {
    "collapsed": false
   },
   "outputs": [
    {
     "name": "stdout",
     "output_type": "stream",
     "text": [
      "0.77\n",
      "0.956\n"
     ]
    }
   ],
   "source": [
    "filtered_data_with_recos = get_cb_recommendations(filtered_data[:1000],filtered_data[:1000])"
   ]
  },
  {
   "cell_type": "code",
   "execution_count": 100,
   "metadata": {
    "collapsed": false
   },
   "outputs": [
    {
     "name": "stdout",
     "output_type": "stream",
     "text": [
      "7221\n"
     ]
    },
    {
     "ename": "KeyboardInterrupt",
     "evalue": "",
     "output_type": "error",
     "traceback": [
      "\u001b[0;31m---------------------------------------------------------------------------\u001b[0m",
      "\u001b[0;31mKeyboardInterrupt\u001b[0m                         Traceback (most recent call last)",
      "\u001b[0;32m<ipython-input-100-d275697b03f9>\u001b[0m in \u001b[0;36m<module>\u001b[0;34m()\u001b[0m\n\u001b[0;32m----> 1\u001b[0;31m \u001b[0mk_fold\u001b[0m\u001b[0;34m(\u001b[0m\u001b[0mfiltered_data\u001b[0m\u001b[0;34m)\u001b[0m\u001b[0;34m\u001b[0m\u001b[0m\n\u001b[0m",
      "\u001b[0;32m<ipython-input-98-f33c28152708>\u001b[0m in \u001b[0;36mk_fold\u001b[0;34m(filtered_data, k)\u001b[0m\n\u001b[1;32m     52\u001b[0m                     \u001b[0;32mcontinue\u001b[0m\u001b[0;34m\u001b[0m\u001b[0m\n\u001b[1;32m     53\u001b[0m \u001b[0;34m\u001b[0m\u001b[0m\n\u001b[0;32m---> 54\u001b[0;31m                 \u001b[0macc\u001b[0m\u001b[0;34m,\u001b[0m\u001b[0macc_top\u001b[0m\u001b[0;34m,\u001b[0m\u001b[0mY_predicted_top\u001b[0m \u001b[0;34m=\u001b[0m \u001b[0mcontent_based_nbc\u001b[0m\u001b[0;34m(\u001b[0m\u001b[0mX_train\u001b[0m\u001b[0;34m,\u001b[0m\u001b[0mY_train\u001b[0m\u001b[0;34m,\u001b[0m\u001b[0mX_test\u001b[0m\u001b[0;34m,\u001b[0m\u001b[0mY_test\u001b[0m\u001b[0;34m)\u001b[0m\u001b[0;34m\u001b[0m\u001b[0m\n\u001b[0m\u001b[1;32m     55\u001b[0m                 \u001b[0maccuracy\u001b[0m\u001b[0;34m[\u001b[0m\u001b[0muser\u001b[0m\u001b[0;34m]\u001b[0m \u001b[0;34m=\u001b[0m \u001b[0macc\u001b[0m\u001b[0;34m\u001b[0m\u001b[0m\n\u001b[1;32m     56\u001b[0m                 \u001b[0mavg_accuracy_user\u001b[0m \u001b[0;34m+=\u001b[0m \u001b[0macc\u001b[0m\u001b[0;34m\u001b[0m\u001b[0m\n",
      "\u001b[0;32m<ipython-input-5-f6918a0cdb50>\u001b[0m in \u001b[0;36mcontent_based_nbc\u001b[0;34m(X, Y, X_test, Y_test)\u001b[0m\n\u001b[1;32m      7\u001b[0m     \u001b[0;32mfor\u001b[0m \u001b[0mi\u001b[0m \u001b[0;32min\u001b[0m \u001b[0mrange\u001b[0m\u001b[0;34m(\u001b[0m\u001b[0mlen\u001b[0m\u001b[0;34m(\u001b[0m\u001b[0my_predict_pb\u001b[0m\u001b[0;34m)\u001b[0m\u001b[0;34m)\u001b[0m\u001b[0;34m:\u001b[0m\u001b[0;34m\u001b[0m\u001b[0m\n\u001b[1;32m      8\u001b[0m         \u001b[0mordered\u001b[0m \u001b[0;34m=\u001b[0m\u001b[0;34m{\u001b[0m\u001b[0;34m}\u001b[0m\u001b[0;34m\u001b[0m\u001b[0m\n\u001b[0;32m----> 9\u001b[0;31m         \u001b[0mordered\u001b[0m\u001b[0;34m[\u001b[0m\u001b[0;34m'cb_recommendations'\u001b[0m\u001b[0;34m]\u001b[0m \u001b[0;34m=\u001b[0m            \u001b[0msorted\u001b[0m\u001b[0;34m(\u001b[0m\u001b[0mzip\u001b[0m \u001b[0;34m(\u001b[0m\u001b[0mgnb\u001b[0m\u001b[0;34m.\u001b[0m\u001b[0mclasses_\u001b[0m\u001b[0;34m,\u001b[0m\u001b[0my_predict_pb\u001b[0m\u001b[0;34m[\u001b[0m\u001b[0mi\u001b[0m\u001b[0;34m]\u001b[0m\u001b[0;34m)\u001b[0m\u001b[0;34m,\u001b[0m \u001b[0mkey\u001b[0m\u001b[0;34m=\u001b[0m \u001b[0moperator\u001b[0m\u001b[0;34m.\u001b[0m\u001b[0mitemgetter\u001b[0m\u001b[0;34m(\u001b[0m\u001b[0;36m1\u001b[0m\u001b[0;34m)\u001b[0m\u001b[0;34m,\u001b[0m\u001b[0mreverse\u001b[0m\u001b[0;34m=\u001b[0m\u001b[0mTrue\u001b[0m\u001b[0;34m)\u001b[0m\u001b[0;34m[\u001b[0m\u001b[0;36m0\u001b[0m\u001b[0;34m:\u001b[0m\u001b[0;36m5\u001b[0m\u001b[0;34m]\u001b[0m\u001b[0;34m\u001b[0m\u001b[0m\n\u001b[0m\u001b[1;32m     10\u001b[0m         \u001b[0mY_predicted_top\u001b[0m \u001b[0;34m=\u001b[0m \u001b[0mY_predicted_top\u001b[0m\u001b[0;34m.\u001b[0m\u001b[0mappend\u001b[0m\u001b[0;34m(\u001b[0m\u001b[0mordered\u001b[0m\u001b[0;34m,\u001b[0m\u001b[0mignore_index\u001b[0m \u001b[0;34m=\u001b[0m \u001b[0mTrue\u001b[0m\u001b[0;34m)\u001b[0m\u001b[0;34m\u001b[0m\u001b[0m\n\u001b[1;32m     11\u001b[0m         \u001b[0maccuracy_top\u001b[0m \u001b[0;34m+=\u001b[0m \u001b[0;34m(\u001b[0m\u001b[0mY_test\u001b[0m\u001b[0;34m[\u001b[0m\u001b[0mi\u001b[0m\u001b[0;34m]\u001b[0m \u001b[0;32min\u001b[0m \u001b[0mdict\u001b[0m\u001b[0;34m(\u001b[0m\u001b[0mordered\u001b[0m\u001b[0;34m[\u001b[0m\u001b[0;34m'cb_recommendations'\u001b[0m\u001b[0;34m]\u001b[0m\u001b[0;34m)\u001b[0m\u001b[0;34m.\u001b[0m\u001b[0mkeys\u001b[0m\u001b[0;34m(\u001b[0m\u001b[0;34m)\u001b[0m\u001b[0;34m)\u001b[0m\u001b[0;34m\u001b[0m\u001b[0m\n",
      "\u001b[0;31mKeyboardInterrupt\u001b[0m: "
     ]
    }
   ],
   "source": [
    "k_fold(filtered_data)"
   ]
  },
  {
   "cell_type": "code",
   "execution_count": 29,
   "metadata": {
    "collapsed": false
   },
   "outputs": [
    {
     "name": "stdout",
     "output_type": "stream",
     "text": [
      "2:03:31\n"
     ]
    }
   ],
   "source": [
    "print datetime.fromtimestamp(int(time.time())) - curr_time"
   ]
  },
  {
   "cell_type": "code",
   "execution_count": 39,
   "metadata": {
    "collapsed": false
   },
   "outputs": [
    {
     "data": {
      "text/plain": [
       "423"
      ]
     },
     "execution_count": 39,
     "metadata": {},
     "output_type": "execute_result"
    }
   ],
   "source": [
    "(filtered_data['user_id'].value_counts() <= 5).sum()"
   ]
  },
  {
   "cell_type": "code",
   "execution_count": 31,
   "metadata": {
    "collapsed": false
   },
   "outputs": [],
   "source": [
    "filtered_data_with_recos.to_csv('../Top_10k_users_with_CB.csv.gzip',compression='gzip',index=False)"
   ]
  },
  {
   "cell_type": "code",
   "execution_count": null,
   "metadata": {
    "collapsed": false
   },
   "outputs": [],
   "source": [
    "X = filtered_data[filtered_data['user_id'] == users[0]][columns]\n",
    "print len(X), len(filtered_data)"
   ]
  },
  {
   "cell_type": "code",
   "execution_count": null,
   "metadata": {
    "collapsed": false
   },
   "outputs": [],
   "source": [
    "gnb = naive_bayes.GaussianNB()\n",
    "y_predict = gnb.fit(X,filtered_data[filtered_data['user_id'] == users[0]]['hotel_cluster']).predict(X)"
   ]
  },
  {
   "cell_type": "code",
   "execution_count": null,
   "metadata": {
    "collapsed": false
   },
   "outputs": [],
   "source": [
    "print(\"Number of mislabeled points out of a total %d points : %d\"\\\n",
    "      %(len(filtered_data),(filtered_data[\"hotel_cluster\"]!= y_predict).sum()))"
   ]
  },
  {
   "cell_type": "code",
   "execution_count": null,
   "metadata": {
    "collapsed": false
   },
   "outputs": [],
   "source": [
    "print (filtered_data[filtered_data['user_id'] == users[0]][\"hotel_cluster\"]== y_predict).sum()*1.0/len(X)"
   ]
  },
  {
   "cell_type": "code",
   "execution_count": null,
   "metadata": {
    "collapsed": true
   },
   "outputs": [],
   "source": [
    "import operator"
   ]
  },
  {
   "cell_type": "code",
   "execution_count": null,
   "metadata": {
    "collapsed": false
   },
   "outputs": [],
   "source": [
    "pred = gnb.predict_proba(X)\n",
    "print sorted(zip(gnb.classes_,pred[0]), key= operator.itemgetter(1),reverse=True)[0:5]\n",
    "print y_predict[-1]"
   ]
  },
  {
   "cell_type": "code",
   "execution_count": null,
   "metadata": {
    "collapsed": false
   },
   "outputs": [],
   "source": [
    "y_top = []\n",
    "for i in range(len(ordered)):\n",
    "    y_top.append(ordered[i])\n",
    "print y_top"
   ]
  },
  {
   "cell_type": "code",
   "execution_count": null,
   "metadata": {
    "collapsed": false
   },
   "outputs": [],
   "source": [
    "y_predict"
   ]
  },
  {
   "cell_type": "code",
   "execution_count": null,
   "metadata": {
    "collapsed": false
   },
   "outputs": [],
   "source": [
    "first_users = zip(ordered[0],pred[0][ordered[0]])[:-10:-1]"
   ]
  },
  {
   "cell_type": "code",
   "execution_count": null,
   "metadata": {
    "collapsed": false
   },
   "outputs": [],
   "source": [
    "a = 0.0\n",
    "a += (ordered[0][-1] == 3)\n",
    "print a"
   ]
  },
  {
   "cell_type": "code",
   "execution_count": null,
   "metadata": {
    "collapsed": false
   },
   "outputs": [],
   "source": [
    "zip(ordered[0],pred[0][ordered[0]])[::-1]"
   ]
  },
  {
   "cell_type": "code",
   "execution_count": null,
   "metadata": {
    "collapsed": false
   },
   "outputs": [],
   "source": [
    "a = 0\n",
    "t = [1,2,3,4,5]\n",
    "a += ([2] in t)\n",
    "print a"
   ]
  },
  {
   "cell_type": "code",
   "execution_count": null,
   "metadata": {
    "collapsed": true
   },
   "outputs": [],
   "source": [
    "nan_values = filtered_data[pd.isnull(filtered_data).any(axis=1)]"
   ]
  },
  {
   "cell_type": "code",
   "execution_count": null,
   "metadata": {
    "collapsed": false
   },
   "outputs": [],
   "source": [
    "len(nan_values)"
   ]
  },
  {
   "cell_type": "code",
   "execution_count": null,
   "metadata": {
    "collapsed": false
   },
   "outputs": [],
   "source": [
    "for col in nan_values.columns:\n",
    "    null_d = pd.isnull(nan_values[col])\n",
    "    print col, null_d.sum()"
   ]
  },
  {
   "cell_type": "code",
   "execution_count": null,
   "metadata": {
    "collapsed": false
   },
   "outputs": [],
   "source": [
    "nan_values['num_days'].value_counts()"
   ]
  },
  {
   "cell_type": "code",
   "execution_count": null,
   "metadata": {
    "collapsed": false
   },
   "outputs": [],
   "source": [
    "d = filtered_data['orig_destination_distance']\n",
    "d = d.dropna().astype(int)\n",
    "print len(d)\n",
    "print d.value_counts()"
   ]
  },
  {
   "cell_type": "code",
   "execution_count": null,
   "metadata": {
    "collapsed": false
   },
   "outputs": [],
   "source": [
    "sns.stripplot(d)"
   ]
  },
  {
   "cell_type": "code",
   "execution_count": null,
   "metadata": {
    "collapsed": false
   },
   "outputs": [],
   "source": [
    "print len(test_data['id'].unique())\n",
    "print len(test_data['id'])"
   ]
  },
  {
   "cell_type": "code",
   "execution_count": null,
   "metadata": {
    "collapsed": false
   },
   "outputs": [],
   "source": [
    "filtered_data.info()"
   ]
  },
  {
   "cell_type": "code",
   "execution_count": null,
   "metadata": {
    "collapsed": false,
    "scrolled": true
   },
   "outputs": [],
   "source": [
    "plt.hist((np.log(filtered_data['orig_destination_distance'])), \n",
    "         bins = np.arange(min(np.log(filtered_data['orig_destination_distance'])),\n",
    "                                            max(np.log(filtered_data['orig_destination_distance']))))"
   ]
  },
  {
   "cell_type": "code",
   "execution_count": null,
   "metadata": {
    "collapsed": false,
    "scrolled": true
   },
   "outputs": [],
   "source": [
    "orig =(filtered_data['orig_destination_distance'])"
   ]
  },
  {
   "cell_type": "code",
   "execution_count": null,
   "metadata": {
    "collapsed": true
   },
   "outputs": [],
   "source": [
    "orig = (orig - orig.mean())/(orig.max() - orig.min())"
   ]
  },
  {
   "cell_type": "code",
   "execution_count": null,
   "metadata": {
    "collapsed": false
   },
   "outputs": [],
   "source": [
    "(orig*1000).describe()"
   ]
  },
  {
   "cell_type": "code",
   "execution_count": null,
   "metadata": {
    "collapsed": false
   },
   "outputs": [],
   "source": [
    "((np.log2(filtered_data['orig_destination_distance'])).round() + 7).value_counts(normalize= True)"
   ]
  },
  {
   "cell_type": "code",
   "execution_count": null,
   "metadata": {
    "collapsed": false
   },
   "outputs": [],
   "source": [
    "filtered_data['num_days'].round(decimals=1).value_counts(normalize = True)"
   ]
  },
  {
   "cell_type": "code",
   "execution_count": null,
   "metadata": {
    "collapsed": false
   },
   "outputs": [],
   "source": [
    "((np.log10(filtered_data['num_days'])).round()).value_counts()"
   ]
  },
  {
   "cell_type": "code",
   "execution_count": null,
   "metadata": {
    "collapsed": false
   },
   "outputs": [],
   "source": [
    "p = plt.hist((filtered_data['num_days']))"
   ]
  },
  {
   "cell_type": "code",
   "execution_count": null,
   "metadata": {
    "collapsed": false
   },
   "outputs": [],
   "source": []
  },
  {
   "cell_type": "code",
   "execution_count": 152,
   "metadata": {
    "collapsed": true
   },
   "outputs": [],
   "source": [
    "def sqr(x):\n",
    "    return x*x"
   ]
  },
  {
   "cell_type": "code",
   "execution_count": 160,
   "metadata": {
    "collapsed": false
   },
   "outputs": [],
   "source": [
    "d = datetime.fromtimestamp(time.time())"
   ]
  },
  {
   "cell_type": "code",
   "execution_count": 161,
   "metadata": {
    "collapsed": false
   },
   "outputs": [],
   "source": [
    "for i in range(10000000):\n",
    "    sqr(i)"
   ]
  },
  {
   "cell_type": "code",
   "execution_count": 162,
   "metadata": {
    "collapsed": false,
    "scrolled": true
   },
   "outputs": [
    {
     "name": "stdout",
     "output_type": "stream",
     "text": [
      "0:00:02.068365\n"
     ]
    }
   ],
   "source": [
    "print datetime.fromtimestamp(time.time()) - d"
   ]
  },
  {
   "cell_type": "code",
   "execution_count": 163,
   "metadata": {
    "collapsed": true
   },
   "outputs": [],
   "source": [
    "v = list(range(10000000))"
   ]
  },
  {
   "cell_type": "code",
   "execution_count": 164,
   "metadata": {
    "collapsed": true
   },
   "outputs": [],
   "source": [
    "d = datetime.fromtimestamp(time.time())"
   ]
  },
  {
   "cell_type": "code",
   "execution_count": 165,
   "metadata": {
    "collapsed": false
   },
   "outputs": [],
   "source": [
    "pool = ThreadPool(10)\n",
    "j = pool.map(sqr,v)\n",
    "pool.close() \n",
    "pool.join()"
   ]
  },
  {
   "cell_type": "code",
   "execution_count": 166,
   "metadata": {
    "collapsed": false
   },
   "outputs": [
    {
     "name": "stdout",
     "output_type": "stream",
     "text": [
      "0:00:02.558243\n"
     ]
    }
   ],
   "source": [
    "print datetime.fromtimestamp(time.time()) - d"
   ]
  },
  {
   "cell_type": "code",
   "execution_count": 50,
   "metadata": {
    "collapsed": false
   },
   "outputs": [
    {
     "data": {
      "text/plain": [
       "8250     61648\n",
       "8267     47581\n",
       "8745     28089\n",
       "8253     25673\n",
       "8268     25445\n",
       "8791     25409\n",
       "8279     19100\n",
       "8260     18407\n",
       "7635     18043\n",
       "11439    17351\n",
       "8254     16643\n",
       "12206    15931\n",
       "8278     15320\n",
       "8746     15030\n",
       "11938    14119\n",
       "8788     12367\n",
       "8230     11828\n",
       "12227    11419\n",
       "8291     11026\n",
       "11353    10506\n",
       "8785      9511\n",
       "12175     9335\n",
       "5405      8889\n",
       "12233     8884\n",
       "8810      8195\n",
       "8213      8140\n",
       "669       7986\n",
       "8824      7962\n",
       "8223      7695\n",
       "468       7282\n",
       "         ...  \n",
       "18551        1\n",
       "37010        1\n",
       "36237        1\n",
       "1693         1\n",
       "15004        1\n",
       "56962        1\n",
       "64670        1\n",
       "42637        1\n",
       "54427        1\n",
       "57729        1\n",
       "15005        1\n",
       "11673        1\n",
       "28311        1\n",
       "234          1\n",
       "9886         1\n",
       "17043        1\n",
       "56960        1\n",
       "18069        1\n",
       "32404        1\n",
       "21910        1\n",
       "11934        1\n",
       "25740        1\n",
       "31973        1\n",
       "27879        1\n",
       "19593        1\n",
       "48779        1\n",
       "30354        1\n",
       "32403        1\n",
       "5352         1\n",
       "34556        1\n",
       "Name: srch_destination_id, dtype: int64"
      ]
     },
     "execution_count": 50,
     "metadata": {},
     "output_type": "execute_result"
    }
   ],
   "source": [
    "filtered_data['srch_destination_id'].value_counts()"
   ]
  },
  {
   "cell_type": "code",
   "execution_count": 56,
   "metadata": {
    "collapsed": true
   },
   "outputs": [],
   "source": [
    "from sklearn.neighbors import KernelDensity\n",
    "def kde_plot(kernel, X, label, color=\"#aaaaff\", bw = 1):\n",
    "    #create the estimator:\n",
    "    kde_X = KernelDensity(kernel=kernel, bandwidth=bw).fit(X)\n",
    "    #setup range:\n",
    "    range = np.linspace(X.min()-bw*3, X.max()+bw*3, 80)[:,np.newaxis]\n",
    "    #print range\n",
    "    #plot:\n",
    "    plt.fill(range[:,0], np.exp(kde_X.score_samples(range)), fc=color, alpha=.6,label= label)\n",
    "    dots = [y-np.random.rand()*.005 for y in np.zeros(len(X))] #all points, randomly jittered on the y axis\n",
    "    plt.plot(X[:,0], dots, '+k', color=color)\n",
    "    plt.legend(loc ='upper right')\n",
    "    return kde_X"
   ]
  },
  {
   "cell_type": "code",
   "execution_count": 57,
   "metadata": {
    "collapsed": false
   },
   "outputs": [
    {
     "name": "stderr",
     "output_type": "stream",
     "text": [
      "/Users/basavakanaparthi/anaconda/lib/python2.7/site-packages/sklearn/utils/validation.py:386: DeprecationWarning: Passing 1d arrays as data is deprecated in 0.17 and willraise ValueError in 0.19. Reshape your data either using X.reshape(-1, 1) if your data has a single feature or X.reshape(1, -1) if it contains a single sample.\n",
      "  DeprecationWarning)\n"
     ]
    },
    {
     "ename": "ValueError",
     "evalue": "query data dimension must match training data dimension",
     "output_type": "error",
     "traceback": [
      "\u001b[0;31m---------------------------------------------------------------------------\u001b[0m",
      "\u001b[0;31mValueError\u001b[0m                                Traceback (most recent call last)",
      "\u001b[0;32m<ipython-input-57-ac45c58e4c05>\u001b[0m in \u001b[0;36m<module>\u001b[0;34m()\u001b[0m\n\u001b[1;32m      2\u001b[0m \u001b[0md\u001b[0m \u001b[0;34m=\u001b[0m \u001b[0;36m1\u001b[0m\u001b[0;34m\u001b[0m\u001b[0m\n\u001b[1;32m      3\u001b[0m \u001b[0mn\u001b[0m \u001b[0;34m=\u001b[0m \u001b[0mlen\u001b[0m\u001b[0;34m(\u001b[0m\u001b[0mfiltered_data\u001b[0m\u001b[0;34m)\u001b[0m\u001b[0;34m\u001b[0m\u001b[0m\n\u001b[0;32m----> 4\u001b[0;31m \u001b[0mkde_plot\u001b[0m\u001b[0;34m(\u001b[0m\u001b[0;34m'gaussian'\u001b[0m\u001b[0;34m,\u001b[0m \u001b[0mfiltered_data\u001b[0m\u001b[0;34m[\u001b[0m\u001b[0;34m'hotel_cluster'\u001b[0m\u001b[0;34m]\u001b[0m\u001b[0;34m,\u001b[0m \u001b[0;34m'Hotel'\u001b[0m\u001b[0;34m,\u001b[0m\u001b[0;34m'#aaaaff'\u001b[0m\u001b[0;34m,\u001b[0m\u001b[0mn\u001b[0m\u001b[0;34m**\u001b[0m\u001b[0;34m(\u001b[0m\u001b[0;34m-\u001b[0m\u001b[0;36m1.\u001b[0m\u001b[0;34m/\u001b[0m\u001b[0;34m(\u001b[0m\u001b[0md\u001b[0m\u001b[0;34m+\u001b[0m\u001b[0;36m4\u001b[0m\u001b[0;34m)\u001b[0m\u001b[0;34m)\u001b[0m\u001b[0;34m)\u001b[0m\u001b[0;34m\u001b[0m\u001b[0m\n\u001b[0m",
      "\u001b[0;32m<ipython-input-56-e55d14b2136b>\u001b[0m in \u001b[0;36mkde_plot\u001b[0;34m(kernel, X, label, color, bw)\u001b[0m\n\u001b[1;32m      7\u001b[0m     \u001b[0;31m#print range\u001b[0m\u001b[0;34m\u001b[0m\u001b[0;34m\u001b[0m\u001b[0m\n\u001b[1;32m      8\u001b[0m     \u001b[0;31m#plot:\u001b[0m\u001b[0;34m\u001b[0m\u001b[0;34m\u001b[0m\u001b[0m\n\u001b[0;32m----> 9\u001b[0;31m     \u001b[0mplt\u001b[0m\u001b[0;34m.\u001b[0m\u001b[0mfill\u001b[0m\u001b[0;34m(\u001b[0m\u001b[0mrange\u001b[0m\u001b[0;34m[\u001b[0m\u001b[0;34m:\u001b[0m\u001b[0;34m,\u001b[0m\u001b[0;36m0\u001b[0m\u001b[0;34m]\u001b[0m\u001b[0;34m,\u001b[0m \u001b[0mnp\u001b[0m\u001b[0;34m.\u001b[0m\u001b[0mexp\u001b[0m\u001b[0;34m(\u001b[0m\u001b[0mkde_X\u001b[0m\u001b[0;34m.\u001b[0m\u001b[0mscore_samples\u001b[0m\u001b[0;34m(\u001b[0m\u001b[0mrange\u001b[0m\u001b[0;34m)\u001b[0m\u001b[0;34m)\u001b[0m\u001b[0;34m,\u001b[0m \u001b[0mfc\u001b[0m\u001b[0;34m=\u001b[0m\u001b[0mcolor\u001b[0m\u001b[0;34m,\u001b[0m \u001b[0malpha\u001b[0m\u001b[0;34m=\u001b[0m\u001b[0;36m.6\u001b[0m\u001b[0;34m,\u001b[0m\u001b[0mlabel\u001b[0m\u001b[0;34m=\u001b[0m \u001b[0mlabel\u001b[0m\u001b[0;34m)\u001b[0m\u001b[0;34m\u001b[0m\u001b[0m\n\u001b[0m\u001b[1;32m     10\u001b[0m     \u001b[0mdots\u001b[0m \u001b[0;34m=\u001b[0m \u001b[0;34m[\u001b[0m\u001b[0my\u001b[0m\u001b[0;34m-\u001b[0m\u001b[0mnp\u001b[0m\u001b[0;34m.\u001b[0m\u001b[0mrandom\u001b[0m\u001b[0;34m.\u001b[0m\u001b[0mrand\u001b[0m\u001b[0;34m(\u001b[0m\u001b[0;34m)\u001b[0m\u001b[0;34m*\u001b[0m\u001b[0;36m.005\u001b[0m \u001b[0;32mfor\u001b[0m \u001b[0my\u001b[0m \u001b[0;32min\u001b[0m \u001b[0mnp\u001b[0m\u001b[0;34m.\u001b[0m\u001b[0mzeros\u001b[0m\u001b[0;34m(\u001b[0m\u001b[0mlen\u001b[0m\u001b[0;34m(\u001b[0m\u001b[0mX\u001b[0m\u001b[0;34m)\u001b[0m\u001b[0;34m)\u001b[0m\u001b[0;34m]\u001b[0m \u001b[0;31m#all points, randomly jittered on the y axis\u001b[0m\u001b[0;34m\u001b[0m\u001b[0m\n\u001b[1;32m     11\u001b[0m     \u001b[0mplt\u001b[0m\u001b[0;34m.\u001b[0m\u001b[0mplot\u001b[0m\u001b[0;34m(\u001b[0m\u001b[0mX\u001b[0m\u001b[0;34m[\u001b[0m\u001b[0;34m:\u001b[0m\u001b[0;34m,\u001b[0m\u001b[0;36m0\u001b[0m\u001b[0;34m]\u001b[0m\u001b[0;34m,\u001b[0m \u001b[0mdots\u001b[0m\u001b[0;34m,\u001b[0m \u001b[0;34m'+k'\u001b[0m\u001b[0;34m,\u001b[0m \u001b[0mcolor\u001b[0m\u001b[0;34m=\u001b[0m\u001b[0mcolor\u001b[0m\u001b[0;34m)\u001b[0m\u001b[0;34m\u001b[0m\u001b[0m\n",
      "\u001b[0;32m/Users/basavakanaparthi/anaconda/lib/python2.7/site-packages/sklearn/neighbors/kde.pyc\u001b[0m in \u001b[0;36mscore_samples\u001b[0;34m(self, X)\u001b[0m\n\u001b[1;32m    155\u001b[0m         log_density = self.tree_.kernel_density(\n\u001b[1;32m    156\u001b[0m             \u001b[0mX\u001b[0m\u001b[0;34m,\u001b[0m \u001b[0mh\u001b[0m\u001b[0;34m=\u001b[0m\u001b[0mself\u001b[0m\u001b[0;34m.\u001b[0m\u001b[0mbandwidth\u001b[0m\u001b[0;34m,\u001b[0m \u001b[0mkernel\u001b[0m\u001b[0;34m=\u001b[0m\u001b[0mself\u001b[0m\u001b[0;34m.\u001b[0m\u001b[0mkernel\u001b[0m\u001b[0;34m,\u001b[0m \u001b[0matol\u001b[0m\u001b[0;34m=\u001b[0m\u001b[0matol_N\u001b[0m\u001b[0;34m,\u001b[0m\u001b[0;34m\u001b[0m\u001b[0m\n\u001b[0;32m--> 157\u001b[0;31m             rtol=self.rtol, breadth_first=self.breadth_first, return_log=True)\n\u001b[0m\u001b[1;32m    158\u001b[0m         \u001b[0mlog_density\u001b[0m \u001b[0;34m-=\u001b[0m \u001b[0mnp\u001b[0m\u001b[0;34m.\u001b[0m\u001b[0mlog\u001b[0m\u001b[0;34m(\u001b[0m\u001b[0mN\u001b[0m\u001b[0;34m)\u001b[0m\u001b[0;34m\u001b[0m\u001b[0m\n\u001b[1;32m    159\u001b[0m         \u001b[0;32mreturn\u001b[0m \u001b[0mlog_density\u001b[0m\u001b[0;34m\u001b[0m\u001b[0m\n",
      "\u001b[0;32msklearn/neighbors/binary_tree.pxi\u001b[0m in \u001b[0;36msklearn.neighbors.kd_tree.BinaryTree.kernel_density (sklearn/neighbors/kd_tree.c:13088)\u001b[0;34m()\u001b[0m\n",
      "\u001b[0;31mValueError\u001b[0m: query data dimension must match training data dimension"
     ]
    }
   ],
   "source": [
    "# Using Scott's Rule for BW estimation\n",
    "d = 1\n",
    "n = len(filtered_data)\n",
    "kde_plot('gaussian', filtered_data['hotel_cluster'], 'Hotel','#aaaaff',n**(-1./(d+4)))"
   ]
  },
  {
   "cell_type": "code",
   "execution_count": null,
   "metadata": {
    "collapsed": false,
    "scrolled": true
   },
   "outputs": [
    {
     "name": "stdout",
     "output_type": "stream",
     "text": [
      "site_name\n"
     ]
    },
    {
     "data": {
      "image/png": "[encoded data removed]",
      "text/plain": [
       "<matplotlib.figure.Figure at 0x140342590>"
      ]
     },
     "metadata": {},
     "output_type": "display_data"
    },
    {
     "name": "stdout",
     "output_type": "stream",
     "text": [
      "posa_continent\n"
     ]
    },
    {
     "data": {
      "image/png": "[encoded data removed]",
      "text/plain": [
       "<matplotlib.figure.Figure at 0x14099da90>"
      ]
     },
     "metadata": {},
     "output_type": "display_data"
    },
    {
     "name": "stdout",
     "output_type": "stream",
     "text": [
      "user_location_country\n"
     ]
    },
    {
     "data": {
      "image/png": "[encoded data removed]",
      "text/plain": [
       "<matplotlib.figure.Figure at 0x140d42850>"
      ]
     },
     "metadata": {},
     "output_type": "display_data"
    },
    {
     "name": "stdout",
     "output_type": "stream",
     "text": [
      "user_location_region\n"
     ]
    },
    {
     "data": {
      "image/png": "[encoded data removed]",
      "text/plain": [
       "<matplotlib.figure.Figure at 0x140477890>"
      ]
     },
     "metadata": {},
     "output_type": "display_data"
    },
    {
     "name": "stdout",
     "output_type": "stream",
     "text": [
      "user_location_city\n"
     ]
    },
    {
     "data": {
      "image/png": "[encoded data removed]",
      "text/plain": [
       "<matplotlib.figure.Figure at 0x14114ddd0>"
      ]
     },
     "metadata": {},
     "output_type": "display_data"
    }
   ],
   "source": [
    "for col in X_columns:\n",
    "    try:\n",
    "        k = filtered_data[col][:100000].plot(kind='kde',title = col,legend = True)\n",
    "        print col\n",
    "        plt.savefig(col +'.png')\n",
    "        plt.show()\n",
    "        #break\n",
    "    except TypeError as e:\n",
    "        print col\n",
    "        continue"
   ]
  },
  {
   "cell_type": "code",
   "execution_count": null,
   "metadata": {
    "collapsed": true
   },
   "outputs": [],
   "source": []
  }
 ],
 "metadata": {
  "kernelspec": {
   "display_name": "Python 2",
   "language": "python",
   "name": "python2"
  },
  "language_info": {
   "codemirror_mode": {
    "name": "ipython",
    "version": 2
   },
   "file_extension": ".py",
   "mimetype": "text/x-python",
   "name": "python",
   "nbconvert_exporter": "python",
   "pygments_lexer": "ipython2",
   "version": "2.7.11"
  }
 },
 "nbformat": 4,
 "nbformat_minor": 0
}
