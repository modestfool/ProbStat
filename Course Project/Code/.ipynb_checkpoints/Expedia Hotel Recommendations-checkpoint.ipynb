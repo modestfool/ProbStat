{
 "cells": [
  {
   "cell_type": "code",
   "execution_count": 1,
   "metadata": {
    "collapsed": false
   },
   "outputs": [],
   "source": [
    "%matplotlib inline\n",
    "import numpy as np \n",
    "import pandas as pd\n",
    "import seaborn as sns\n",
    "import matplotlib.pyplot as plt\n",
    "from datetime import datetime\n",
    "from sklearn.decomposition import PCA"
   ]
  },
  {
   "cell_type": "code",
   "execution_count": 2,
   "metadata": {
    "collapsed": false
   },
   "outputs": [],
   "source": [
    "train_set = pd.read_csv('../train.csv', parse_dates=['srch_ci', 'srch_co'])"
   ]
  },
  {
   "cell_type": "code",
   "execution_count": 3,
   "metadata": {
    "collapsed": false
   },
   "outputs": [],
   "source": [
    "test_set = pd.read_csv('../test.csv',parse_dates=['srch_ci', 'srch_co'])"
   ]
  },
  {
   "cell_type": "code",
   "execution_count": null,
   "metadata": {
    "collapsed": false
   },
   "outputs": [],
   "source": [
    "train_set.info()"
   ]
  },
  {
   "cell_type": "code",
   "execution_count": null,
   "metadata": {
    "collapsed": false
   },
   "outputs": [],
   "source": [
    "test_set.info()"
   ]
  },
  {
   "cell_type": "code",
   "execution_count": null,
   "metadata": {
    "collapsed": false
   },
   "outputs": [],
   "source": [
    "users_group = train_set.groupby('user_id')\n",
    "bookings = users_group.aggregate({'is_booking':np.sum})\n",
    "print np.sum(bookings)"
   ]
  },
  {
   "cell_type": "code",
   "execution_count": 4,
   "metadata": {
    "collapsed": false
   },
   "outputs": [],
   "source": [
    "train_set['srch_co'] = train_set['srch_co'].apply(lambda x: pd.to_datetime(x,errors='coerce'))"
   ]
  },
  {
   "cell_type": "code",
   "execution_count": 5,
   "metadata": {
    "collapsed": false
   },
   "outputs": [],
   "source": [
    "train_set['srch_ci'] = train_set['srch_ci'].apply(lambda x: pd.to_datetime(x,errors='coerce'))"
   ]
  },
  {
   "cell_type": "code",
   "execution_count": null,
   "metadata": {
    "collapsed": true
   },
   "outputs": [],
   "source": [
    "temp = pd.to_datetime(train_set['srch_ci'],errors = 'coerce')\n",
    "train_set['srch_ci'] = temp\n",
    "temp = pd.to_datetime(train_set['srch_co'],errors = 'coerce')\n",
    "train_set['srch_co'] = temp"
   ]
  },
  {
   "cell_type": "code",
   "execution_count": 6,
   "metadata": {
    "collapsed": false
   },
   "outputs": [],
   "source": [
    "train_set['num_days'] = (train_set['srch_co'] - train_set['srch_ci'])\\\n",
    "                                                            .values.astype('timedelta64[D]').astype(int)"
   ]
  },
  {
   "cell_type": "code",
   "execution_count": 7,
   "metadata": {
    "collapsed": true
   },
   "outputs": [],
   "source": [
    "train_set['date_time'] = train_set['date_time'].apply(lambda x: pd.to_datetime(x,errors='coerce'))"
   ]
  },
  {
   "cell_type": "code",
   "execution_count": 8,
   "metadata": {
    "collapsed": true
   },
   "outputs": [],
   "source": [
    "train_set['num_days_to_checkin'] = \\\n",
    "            (train_set['srch_ci'] - train_set['date_time'])\\\n",
    "                            .values.astype('timedelta64[D]').astype(int)"
   ]
  },
  {
   "cell_type": "code",
   "execution_count": 9,
   "metadata": {
    "collapsed": true
   },
   "outputs": [],
   "source": [
    "test_set['srch_ci'] = test_set['srch_ci'].apply(lambda x: pd.to_datetime(x,errors='coerce'))"
   ]
  },
  {
   "cell_type": "code",
   "execution_count": 10,
   "metadata": {
    "collapsed": true
   },
   "outputs": [],
   "source": [
    "test_set['srch_co'] = test_set['srch_co'].apply(lambda x: pd.to_datetime(x,errors='coerce'))"
   ]
  },
  {
   "cell_type": "code",
   "execution_count": null,
   "metadata": {
    "collapsed": true
   },
   "outputs": [],
   "source": [
    "temp = pd.to_datetime(test_set['srch_ci'],errors = 'coerce')\n",
    "test_set['srch_ci'] = temp\n",
    "temp = pd.to_datetime(test_set['srch_co'],errors = 'coerce')\n",
    "test_set['srch_co'] = temp"
   ]
  },
  {
   "cell_type": "code",
   "execution_count": 11,
   "metadata": {
    "collapsed": true
   },
   "outputs": [],
   "source": [
    "test_set['num_days'] = (test_set['srch_co'] - test_set['srch_ci'])\\\n",
    "                                                            .values.astype('timedelta64[D]').astype(int)"
   ]
  },
  {
   "cell_type": "code",
   "execution_count": 12,
   "metadata": {
    "collapsed": true
   },
   "outputs": [],
   "source": [
    "test_set['date_time'] = test_set['date_time'].apply(lambda x: pd.to_datetime(x,errors='coerce'))"
   ]
  },
  {
   "cell_type": "code",
   "execution_count": 13,
   "metadata": {
    "collapsed": false
   },
   "outputs": [],
   "source": [
    "test_set['num_days_to_checkin'] = \\\n",
    "            (test_set['srch_ci'] - test_set['date_time'])\\\n",
    "                            .values.astype('timedelta64[D]').astype(int)"
   ]
  },
  {
   "cell_type": "markdown",
   "metadata": {},
   "source": [
    "## Get the top 10000 users with most transactions"
   ]
  },
  {
   "cell_type": "code",
   "execution_count": null,
   "metadata": {
    "collapsed": true
   },
   "outputs": [],
   "source": [
    "filtered_user_ids_10k = list(train_set['user_id'].value_counts()[0:10000].index)"
   ]
  },
  {
   "cell_type": "code",
   "execution_count": null,
   "metadata": {
    "collapsed": false
   },
   "outputs": [],
   "source": [
    "train_set['user_id'].value_counts()[0:10000].tail(5)"
   ]
  },
  {
   "cell_type": "code",
   "execution_count": null,
   "metadata": {
    "collapsed": false
   },
   "outputs": [],
   "source": [
    "filtered_train_set_10k = train_set[train_set['user_id'].isin(filtered_user_ids_10k)]"
   ]
  },
  {
   "cell_type": "code",
   "execution_count": null,
   "metadata": {
    "collapsed": false
   },
   "outputs": [],
   "source": [
    "filtered_train_set_10k.describe()"
   ]
  },
  {
   "cell_type": "code",
   "execution_count": null,
   "metadata": {
    "collapsed": false
   },
   "outputs": [],
   "source": [
    "filtered_train_set_10k['srch_ci'] = pd.to_datetime(filtered_train_set_10k['srch_ci'])\n",
    "filtered_train_set_10k['srch_co'] = pd.to_datetime(filtered_train_set_10k['srch_co'])"
   ]
  },
  {
   "cell_type": "code",
   "execution_count": null,
   "metadata": {
    "collapsed": false
   },
   "outputs": [],
   "source": [
    "temp = pd.to_datetime(filtered_train_set_10k['srch_ci'],errors = 'ignore')\n",
    "filtered_train_set_10k['srch_ci'] = temp\n",
    "temp = pd.to_datetime(filtered_train_set_10k['srch_co'],errors = 'ignore')\n",
    "filtered_train_set_10k['srch_co'] = temp"
   ]
  },
  {
   "cell_type": "code",
   "execution_count": null,
   "metadata": {
    "collapsed": false
   },
   "outputs": [],
   "source": [
    "filtered_train_set_10k['num_days'] = (filtered_train_set_10k['srch_co'] - filtered_train_set_10k['srch_ci'])\\\n",
    "                                                            .values.astype('timedelta64[D]').astype(int)"
   ]
  },
  {
   "cell_type": "code",
   "execution_count": null,
   "metadata": {
    "collapsed": false
   },
   "outputs": [],
   "source": [
    "filtered_train_set_10k['num_days'] = filtered_train_set_10k['num_days'].apply(lambda x: abs(x))"
   ]
  },
  {
   "cell_type": "code",
   "execution_count": null,
   "metadata": {
    "collapsed": false
   },
   "outputs": [],
   "source": [
    "filtered_train_set_1k ['num_days'] = \\\n",
    " (filtered_train_set_1k['srch_co'] - filtered_train_set_1k['srch_ci']).values.astype('timedelta64[D]').astype(int)"
   ]
  },
  {
   "cell_type": "code",
   "execution_count": null,
   "metadata": {
    "collapsed": false
   },
   "outputs": [],
   "source": [
    "erroneous = filtered_train_set_10k[filtered_train_set_10k['num_days'] < 0]\n",
    "len(erroneous)"
   ]
  },
  {
   "cell_type": "code",
   "execution_count": null,
   "metadata": {
    "collapsed": true
   },
   "outputs": [],
   "source": [
    "filtered_train_set_10k = filtered_train_set_10k[filtered_train_set_10k['num_days'] >= 0] "
   ]
  },
  {
   "cell_type": "code",
   "execution_count": null,
   "metadata": {
    "collapsed": false
   },
   "outputs": [],
   "source": [
    "filtered_train_set_10k = filtered_train_set_10k.drop('hours_to_checkin',axis=1)"
   ]
  },
  {
   "cell_type": "code",
   "execution_count": null,
   "metadata": {
    "collapsed": false
   },
   "outputs": [],
   "source": [
    "filtered_train_set_10k['date_time'] = pd.to_datetime(filtered_train_set_10k[\"date_time\"])"
   ]
  },
  {
   "cell_type": "code",
   "execution_count": null,
   "metadata": {
    "collapsed": false
   },
   "outputs": [],
   "source": [
    "filtered_train_set_10k['num_days_to_checkin'] = \\\n",
    "            (filtered_train_set_10k['srch_ci'] - filtered_train_set_10k['date_time'])\\\n",
    "                            .values.astype('timedelta64[D]').astype(int)"
   ]
  },
  {
   "cell_type": "code",
   "execution_count": null,
   "metadata": {
    "collapsed": false
   },
   "outputs": [],
   "source": [
    "(filtered_train_set_10k['num_days_to_checkin'] < 0).sum()"
   ]
  },
  {
   "cell_type": "code",
   "execution_count": null,
   "metadata": {
    "collapsed": false
   },
   "outputs": [],
   "source": [
    "filtered_train_set_10k['num_days_to_checkin'].describe()"
   ]
  },
  {
   "cell_type": "code",
   "execution_count": null,
   "metadata": {
    "collapsed": true
   },
   "outputs": [],
   "source": [
    "filtered_train_set_10k['num_days'] = filtered_train_set_10k['num_days'].apply(lambda x: abs(x))"
   ]
  },
  {
   "cell_type": "code",
   "execution_count": null,
   "metadata": {
    "collapsed": true
   },
   "outputs": [],
   "source": [
    "filtered_train_set_10k['month'] = filtered_train_set_10k['date_time'].apply(lambda x: x.month)"
   ]
  },
  {
   "cell_type": "code",
   "execution_count": null,
   "metadata": {
    "collapsed": false
   },
   "outputs": [],
   "source": [
    "len(filtered_train_set_10k)"
   ]
  },
  {
   "cell_type": "code",
   "execution_count": null,
   "metadata": {
    "collapsed": false
   },
   "outputs": [],
   "source": [
    "filtered_train_set_10k = filtered_train_set_10k[filtered_train_set_10k['num_days_to_checkin']<366]\n",
    "print len(filtered_train_set_10k)"
   ]
  },
  {
   "cell_type": "code",
   "execution_count": null,
   "metadata": {
    "collapsed": false
   },
   "outputs": [],
   "source": [
    "filtered_train_set_10k = filtered_train_set_10k[filtered_train_set_10k['num_days'] < 365]"
   ]
  },
  {
   "cell_type": "code",
   "execution_count": null,
   "metadata": {
    "collapsed": true
   },
   "outputs": [],
   "source": [
    "filtered_train_set_10k = filtered_train_set_10k.dropna()"
   ]
  },
  {
   "cell_type": "code",
   "execution_count": null,
   "metadata": {
    "collapsed": false
   },
   "outputs": [],
   "source": [
    "filtered_train_set_10k['log2_orig_destination_distance'] = \\\n",
    "                ((np.log2(filtered_train_set_10k['orig_destination_distance'])).round() + 7)"
   ]
  },
  {
   "cell_type": "code",
   "execution_count": null,
   "metadata": {
    "collapsed": false
   },
   "outputs": [],
   "source": [
    "print filtered_train_set_10k['log2_orig_destination_distance'].hist()\n",
    "print len(filtered_train_set_10k)"
   ]
  },
  {
   "cell_type": "code",
   "execution_count": null,
   "metadata": {
    "collapsed": false
   },
   "outputs": [],
   "source": [
    "filtered_train_set_10k['log1p_num_days_to_checkin'] = \\\n",
    "            (np.log1p(filtered_train_set_10k['num_days_to_checkin'])*10).round()"
   ]
  },
  {
   "cell_type": "code",
   "execution_count": null,
   "metadata": {
    "collapsed": false
   },
   "outputs": [],
   "source": [
    "filtered_train_set_10k['log1p_num_days'] =  \\\n",
    "            ((np.log1p(filtered_train_set_10k['num_days']))*10).round()"
   ]
  },
  {
   "cell_type": "markdown",
   "metadata": {},
   "source": [
    "## PCA Model - destinations.csv"
   ]
  },
  {
   "cell_type": "code",
   "execution_count": null,
   "metadata": {
    "collapsed": false
   },
   "outputs": [],
   "source": [
    "destinations = pd.read_csv('../destinations.csv')\n",
    "cols = list(destinations.columns)\n",
    "cols.remove('srch_destination_id')\n",
    "destinations[cols] = (destinations[cols] - destinations[cols].mean())/(destinations[cols].max() - destinations[cols].min())\n",
    "destinations.describe()"
   ]
  },
  {
   "cell_type": "code",
   "execution_count": null,
   "metadata": {
    "collapsed": false
   },
   "outputs": [],
   "source": [
    "pca = PCA(n_components=5)\n",
    "dest_small = pca.fit_transform(destinations[[\"d{0}\".format(i + 1) for i in range(149)]])\n",
    "dest_small = pd.DataFrame(dest_small,columns=[[\"d{0}\".format(i + 1) for i in range(5)]])\n",
    "dest_small[\"srch_destination_id\"] = destinations[\"srch_destination_id\"]"
   ]
  },
  {
   "cell_type": "code",
   "execution_count": null,
   "metadata": {
    "collapsed": false
   },
   "outputs": [],
   "source": [
    "np.sum(pca.explained_variance_ratio_)"
   ]
  },
  {
   "cell_type": "code",
   "execution_count": null,
   "metadata": {
    "collapsed": false
   },
   "outputs": [],
   "source": [
    "print len(destinations['srch_destination_id'].value_counts())\n",
    "print len(train_set['srch_destination_id'].value_counts())"
   ]
  },
  {
   "cell_type": "code",
   "execution_count": null,
   "metadata": {
    "collapsed": false,
    "scrolled": false
   },
   "outputs": [],
   "source": [
    "dest_small.head()"
   ]
  },
  {
   "cell_type": "code",
   "execution_count": null,
   "metadata": {
    "collapsed": false
   },
   "outputs": [],
   "source": [
    "dat = filtered_train_set_10k[:100]\n",
    "dat.info()"
   ]
  },
  {
   "cell_type": "code",
   "execution_count": null,
   "metadata": {
    "collapsed": false
   },
   "outputs": [],
   "source": [
    "dummy = pd.merge(test_set,dest_small,on = 'srch_destination_id')"
   ]
  },
  {
   "cell_type": "code",
   "execution_count": null,
   "metadata": {
    "collapsed": false
   },
   "outputs": [],
   "source": [
    "print len(dummy)"
   ]
  },
  {
   "cell_type": "code",
   "execution_count": null,
   "metadata": {
    "collapsed": false
   },
   "outputs": [],
   "source": [
    "dummy.dropna()\n",
    "print len(dummy)"
   ]
  },
  {
   "cell_type": "code",
   "execution_count": null,
   "metadata": {
    "collapsed": false
   },
   "outputs": [],
   "source": [
    "dummy.info()"
   ]
  },
  {
   "cell_type": "code",
   "execution_count": null,
   "metadata": {
    "collapsed": true
   },
   "outputs": [],
   "source": [
    "test_set = pd.DataFrame(dummy)"
   ]
  },
  {
   "cell_type": "code",
   "execution_count": null,
   "metadata": {
    "collapsed": false
   },
   "outputs": [],
   "source": [
    "filtered_train_set_10k = pd.DataFrame(dummy)"
   ]
  },
  {
   "cell_type": "code",
   "execution_count": null,
   "metadata": {
    "collapsed": false
   },
   "outputs": [],
   "source": [
    "filtered_train_set_10k.to_csv('../Top_10k_users.csv.gzip',compression='gzip',index=False)"
   ]
  },
  {
   "cell_type": "code",
   "execution_count": null,
   "metadata": {
    "collapsed": false
   },
   "outputs": [],
   "source": [
    "shortlist_users =[]\n",
    "for c in user_id_100:\n",
    "    print c\n",
    "    break\n",
    "    if c == 1:\n",
    "        shortlist_users.append()\n",
    "print shortlist_users"
   ]
  },
  {
   "cell_type": "markdown",
   "metadata": {},
   "source": [
    "### Test users are a subset of Train set"
   ]
  },
  {
   "cell_type": "code",
   "execution_count": null,
   "metadata": {
    "collapsed": false
   },
   "outputs": [],
   "source": [
    "set(test_set['user_id'].unique()) - set(train_set['user_id'].unique())"
   ]
  },
  {
   "cell_type": "markdown",
   "metadata": {},
   "source": [
    "# Top 10000 Users"
   ]
  },
  {
   "cell_type": "code",
   "execution_count": 14,
   "metadata": {
    "collapsed": true
   },
   "outputs": [],
   "source": [
    "%matplotlib inline\n",
    "import numpy as np \n",
    "import pandas as pd\n",
    "import seaborn as sns\n",
    "import matplotlib.pyplot as plt\n",
    "from datetime import datetime\n",
    "from sklearn import naive_bayes\n",
    "import operator\n",
    "from pprint import pprint\n",
    "from sklearn.decomposition import PCA\n",
    "import time\n",
    "from multiprocessing.dummy import Pool as ThreadPool "
   ]
  },
  {
   "cell_type": "code",
   "execution_count": null,
   "metadata": {
    "collapsed": false
   },
   "outputs": [],
   "source": [
    "filtered_data = pd.read_csv('../Top_10k_users.csv')"
   ]
  },
  {
   "cell_type": "code",
   "execution_count": null,
   "metadata": {
    "collapsed": true
   },
   "outputs": [],
   "source": [
    "#test_data = pd.read_csv('../test.csv')"
   ]
  },
  {
   "cell_type": "code",
   "execution_count": null,
   "metadata": {
    "collapsed": true
   },
   "outputs": [],
   "source": [
    "#destinations_data = pd.read_csv('../destinations.csv')"
   ]
  },
  {
   "cell_type": "markdown",
   "metadata": {},
   "source": [
    "## Randomly permute data before proceeding further and filter users with atleast 10 records"
   ]
  },
  {
   "cell_type": "code",
   "execution_count": null,
   "metadata": {
    "collapsed": false
   },
   "outputs": [],
   "source": [
    "s = filtered_data['user_id'].value_counts()\n",
    "users_records_10 = s[s >= 10].index"
   ]
  },
  {
   "cell_type": "code",
   "execution_count": null,
   "metadata": {
    "collapsed": false
   },
   "outputs": [],
   "source": [
    "print users_records_10"
   ]
  },
  {
   "cell_type": "code",
   "execution_count": null,
   "metadata": {
    "collapsed": false
   },
   "outputs": [],
   "source": [
    "filtered_data = filtered_data[filtered_data['user_id'].isin(users_records_10)]\n",
    "filtered_data.info()"
   ]
  },
  {
   "cell_type": "code",
   "execution_count": null,
   "metadata": {
    "collapsed": true
   },
   "outputs": [],
   "source": [
    "filtered_data = filtered_data.iloc[np.random.permutation(len(filtered_data))]"
   ]
  },
  {
   "cell_type": "code",
   "execution_count": null,
   "metadata": {
    "collapsed": false
   },
   "outputs": [],
   "source": [
    "X_columns = filtered_data.columns"
   ]
  },
  {
   "cell_type": "code",
   "execution_count": 21,
   "metadata": {
    "collapsed": false
   },
   "outputs": [
    {
     "name": "stdout",
     "output_type": "stream",
     "text": [
      "Index([u'site_name', u'posa_continent', u'user_location_country',\n",
      "       u'user_location_region', u'user_location_city',\n",
      "       u'orig_destination_distance', u'user_id', u'is_mobile', u'is_package',\n",
      "       u'channel', u'srch_adults_cnt', u'srch_children_cnt', u'srch_rm_cnt',\n",
      "       u'srch_destination_id', u'srch_destination_type_id', u'hotel_continent',\n",
      "       u'hotel_country', u'hotel_market', u'num_days', u'num_days_to_checkin'],\n",
      "      dtype='object')\n"
     ]
    }
   ],
   "source": [
    "X_columns = test_set.columns\n",
    "X_columns = X_columns.drop(['id', 'date_time','srch_ci','srch_co']).astype(list)\n",
    "print X_columns"
   ]
  },
  {
   "cell_type": "code",
   "execution_count": 41,
   "metadata": {
    "collapsed": false
   },
   "outputs": [],
   "source": [
    "def content_based_nbc (X,Y,X_test):\n",
    "    gnb = naive_bayes.GaussianNB()\n",
    "    y_predict = gnb.fit(X,Y).predict(X_test)\n",
    "\n",
    "    y_predict_pb = gnb.predict_proba(X_test)\n",
    "    #accuracy_top = 0.0\n",
    "    #Y_predicted_top = pd.DataFrame(columns=['cb_recommendations'])\n",
    "    for i in range(len(y_predict_pb)):\n",
    "        ordered ={}\n",
    "        '''ordered['cb_recommendations'] =\\\n",
    "            [c for c,i in (sorted(zip (gnb.classes_,y_predict_pb[i]), key= operator.itemgetter(1),reverse=True)[0:5])]\n",
    "        '''\n",
    "        ordered = [c for c,i in (sorted(zip (gnb.classes_,y_predict_pb[i]), key= operator.itemgetter(1),reverse=True)[0:5])]\n",
    "        # ordered - get only cluster ids without probabilities\n",
    "        #print ordered\n",
    "        #ordered = list([c for c,i in ordered])\n",
    "        #Y_predicted_top = Y_predicted_top.append(ordered,ignore_index = True)\n",
    "        #accuracy_top += (Y_test[i] in dict(ordered['cb_recommendations']).keys())\n",
    "        #break\n",
    "        #print \"From Top %s,%s,%s\" %(ordered[0][0],y_predict[i],Y[i])\n",
    "    \n",
    "    '''%xdel gnb\n",
    "    %xdel y_predict_pb\n",
    "    %xdel y_predict\n",
    "    %xdel ordered'''\n",
    "    #accuracy = (Y_test == y_predict).sum()*1.0\n",
    "    #accuracy_top = accuracy_top*1.0/len(X_test)\n",
    "    #print accuracy,accuracy_top\n",
    "    #return (accuracy,accuracy_top,Y_predicted_top)\n",
    "    return ordered"
   ]
  },
  {
   "cell_type": "code",
   "execution_count": null,
   "metadata": {
    "collapsed": false
   },
   "outputs": [],
   "source": [
    "print \"Before dropping na\", len(filtered_data)#, len(test_data)\n",
    "#filtered_data['orig_destination_distance'] = filtered_data['orig_destination_distance'].fillna(-1)\n",
    "filtered_data = filtered_data.dropna()\n",
    "#test_data = test_data.dropna()\n",
    "filtered_data = filtered_data.reset_index(drop=True)\n",
    "#test_data = test_data.reset_index(drop=True)\n",
    "print \"After dropping na\", len(filtered_data)#, len(test_data)\n",
    "#filtered_data = filtered_data[filtered_data['num_days']>=0]"
   ]
  },
  {
   "cell_type": "markdown",
   "metadata": {},
   "source": [
    "## Get recommendations on test.csv"
   ]
  },
  {
   "cell_type": "code",
   "execution_count": 56,
   "metadata": {
    "collapsed": false
   },
   "outputs": [],
   "source": [
    "def get_recommendations(test_users_grouped,train_users_grouped):\n",
    "    #predictions = pd.DataFrame(columns=['id','hotel_cluster'])\n",
    "    iterations = 0\n",
    "    filename = '../predictions_group.csv'\n",
    "    writefile = open(filename,'wb')\n",
    "    writefile.write('id, hotel_cluster \\n')\n",
    "    for user,filtered_test in test_users_grouped:\n",
    "        iterations += 1\n",
    "        if iterations%1000 == 0:\n",
    "            print \"Finished %d items\" %iterations\n",
    "        try:\n",
    "            filtered_train = train_users_grouped.get_group(user)\n",
    "            \n",
    "            #print len(filtered_test), len(filtered_train)\n",
    "            filtered_train = filtered_train.fillna(0)\n",
    "            filtered_train = filtered_train.reset_index(drop=True)\n",
    "\n",
    "            filtered_test = filtered_test.fillna(0)\n",
    "            filtered_test = filtered_test.reset_index(drop=True)\n",
    "\n",
    "            X_train = filtered_train[X_columns]\n",
    "            Y_train = filtered_train['hotel_cluster']\n",
    "            X_test = filtered_test[X_columns]\n",
    "            X_test_id = filtered_test['id'].astype(int)\n",
    "            if len(X_train) < 1:\n",
    "                print \"No training data\"\n",
    "                continue\n",
    "            if len(X_test) < 1:\n",
    "                print \"No test data\"\n",
    "                continue\n",
    "            #pred_dict = {}\n",
    "            \n",
    "            Y_predicted_top = content_based_nbc(X_train,Y_train,X_test)\n",
    "            \n",
    "            #print Y_predicted_top, type(Y_predicted_top)\n",
    "            \n",
    "            for i in range(len(X_test)):\n",
    "                #pred_dict['id'] = str(X_test_id[i])\n",
    "                #pred_dict['hotel_cluster'] = ' '.join([str(x) for x in Y_predicted_top])\n",
    "                entry = str(X_test_id[i]) + ',' + ' '.join([str(x) for x in Y_predicted_top]) + '\\n'\n",
    "                writefile.write(entry)\n",
    "                #predictions = predictions.append(pred_dict,ignore_index=True)\n",
    "                #pprint(pred_dict)\n",
    "            #pprint(Y_predicted_top)\n",
    "            #%xdel X_train\n",
    "            #%xdel X_test\n",
    "            #%xdel Y_train\n",
    "            #%xdel Y_predicted_top\n",
    "        except ValueError as e:\n",
    "            print e, user\n",
    "        #break\n",
    "    writefile.close()\n",
    "    #predictions.to_csv('../predictions_group_test.csv',index=False)"
   ]
  },
  {
   "cell_type": "code",
   "execution_count": 46,
   "metadata": {
    "collapsed": true
   },
   "outputs": [],
   "source": [
    "test_set_grouped = test_set.groupby('user_id')\n",
    "train_set_grouped = train_set.groupby('user_id')"
   ]
  },
  {
   "cell_type": "code",
   "execution_count": 57,
   "metadata": {
    "collapsed": false,
    "scrolled": true
   },
   "outputs": [
    {
     "name": "stdout",
     "output_type": "stream",
     "text": [
      "Finished 1000 items\n",
      "Finished 2000 items\n",
      "Finished 3000 items\n",
      "Finished 4000 items\n",
      "Finished 5000 items\n",
      "Finished 6000 items\n",
      "Finished 7000 items\n",
      "Finished 8000 items\n",
      "Finished 9000 items\n",
      "Finished 10000 items\n",
      "Finished 11000 items\n",
      "Finished 12000 items\n",
      "Finished 13000 items\n",
      "Finished 14000 items\n",
      "Finished 15000 items\n",
      "Finished 16000 items\n",
      "Finished 17000 items\n",
      "Finished 18000 items\n",
      "Finished 19000 items\n",
      "Finished 20000 items\n",
      "Finished 21000 items\n",
      "Finished 22000 items\n",
      "Finished 23000 items\n",
      "Finished 24000 items\n",
      "Finished 25000 items\n",
      "Finished 26000 items\n",
      "Finished 27000 items\n",
      "Finished 28000 items\n",
      "Finished 29000 items\n",
      "Finished 30000 items\n",
      "Finished 31000 items\n",
      "Finished 32000 items\n",
      "Finished 33000 items\n",
      "Finished 34000 items\n",
      "Finished 35000 items\n",
      "Finished 36000 items\n",
      "Finished 37000 items\n",
      "Finished 38000 items\n",
      "Finished 39000 items\n",
      "Finished 40000 items\n",
      "Finished 41000 items\n",
      "Finished 42000 items\n",
      "Finished 43000 items\n",
      "Finished 44000 items\n",
      "Finished 45000 items\n",
      "Finished 46000 items\n",
      "Finished 47000 items\n",
      "Finished 48000 items\n",
      "Finished 49000 items\n",
      "Finished 50000 items\n",
      "Finished 51000 items\n",
      "Finished 52000 items\n",
      "Finished 53000 items\n",
      "Finished 54000 items\n",
      "Finished 55000 items\n",
      "Finished 56000 items\n",
      "Finished 57000 items\n",
      "Finished 58000 items\n",
      "Finished 59000 items\n",
      "Finished 60000 items\n",
      "Finished 61000 items\n",
      "Finished 62000 items\n",
      "Finished 63000 items\n",
      "Finished 64000 items\n",
      "Finished 65000 items\n",
      "Finished 66000 items\n",
      "Finished 67000 items\n",
      "Finished 68000 items\n",
      "Finished 69000 items\n",
      "Finished 70000 items\n",
      "Finished 71000 items\n",
      "Finished 72000 items\n",
      "Finished 73000 items\n",
      "Finished 74000 items\n",
      "Finished 75000 items\n",
      "Finished 76000 items\n",
      "Finished 77000 items\n",
      "Finished 78000 items\n",
      "Finished 79000 items\n",
      "Finished 80000 items\n",
      "Finished 81000 items\n",
      "Finished 82000 items\n",
      "Finished 83000 items\n",
      "Finished 84000 items\n",
      "Finished 85000 items\n",
      "Finished 86000 items\n",
      "Finished 87000 items\n",
      "Finished 88000 items\n",
      "Finished 89000 items\n",
      "Finished 90000 items\n",
      "Finished 91000 items\n",
      "Finished 92000 items\n",
      "Finished 93000 items\n",
      "Finished 94000 items\n",
      "Finished 95000 items\n",
      "Finished 96000 items\n",
      "Finished 97000 items\n",
      "Finished 98000 items\n",
      "Finished 99000 items\n",
      "Finished 100000 items\n",
      "Finished 101000 items\n",
      "Finished 102000 items\n",
      "Finished 103000 items\n",
      "Finished 104000 items\n",
      "Finished 105000 items\n",
      "Finished 106000 items\n",
      "Finished 107000 items\n",
      "Finished 108000 items\n",
      "Finished 109000 items\n",
      "Finished 110000 items\n",
      "Finished 111000 items\n",
      "Finished 112000 items\n",
      "Finished 113000 items\n",
      "Finished 114000 items\n",
      "Finished 115000 items\n",
      "Finished 116000 items\n",
      "Finished 117000 items\n",
      "Finished 118000 items\n",
      "Finished 119000 items\n",
      "Finished 120000 items\n",
      "Finished 121000 items\n",
      "Finished 122000 items\n",
      "Finished 123000 items\n",
      "Finished 124000 items\n",
      "Finished 125000 items\n",
      "Finished 126000 items\n",
      "Finished 127000 items\n",
      "Finished 128000 items\n",
      "Finished 129000 items\n",
      "Finished 130000 items\n",
      "Finished 131000 items\n",
      "Finished 132000 items\n",
      "Finished 133000 items\n",
      "Finished 134000 items\n",
      "Finished 135000 items\n",
      "Finished 136000 items\n",
      "Finished 137000 items\n",
      "Finished 138000 items\n",
      "Finished 139000 items\n",
      "Finished 140000 items\n",
      "Finished 141000 items\n",
      "Finished 142000 items\n",
      "Finished 143000 items\n",
      "Finished 144000 items\n",
      "Finished 145000 items\n",
      "Finished 146000 items\n",
      "Finished 147000 items\n",
      "Finished 148000 items\n",
      "Finished 149000 items\n",
      "Finished 150000 items\n",
      "Finished 151000 items\n",
      "Finished 152000 items\n",
      "Finished 153000 items\n",
      "Finished 154000 items\n",
      "Finished 155000 items\n",
      "Finished 156000 items\n",
      "Finished 157000 items\n",
      "Finished 158000 items\n",
      "Finished 159000 items\n",
      "Finished 160000 items\n",
      "Finished 161000 items\n",
      "Finished 162000 items\n",
      "Finished 163000 items\n",
      "Finished 164000 items\n",
      "Finished 165000 items\n",
      "Finished 166000 items\n",
      "Finished 167000 items\n",
      "Finished 168000 items\n",
      "Finished 169000 items\n",
      "Finished 170000 items\n",
      "Finished 171000 items\n",
      "Finished 172000 items\n",
      "Finished 173000 items\n",
      "Finished 174000 items\n",
      "Finished 175000 items\n",
      "Finished 176000 items\n",
      "Finished 177000 items\n",
      "Finished 178000 items\n",
      "Finished 179000 items\n",
      "Finished 180000 items\n",
      "Finished 181000 items\n",
      "Finished 182000 items\n",
      "Finished 183000 items\n",
      "Finished 184000 items\n",
      "Finished 185000 items\n",
      "Finished 186000 items\n",
      "Finished 187000 items\n",
      "Finished 188000 items\n",
      "Finished 189000 items\n",
      "Finished 190000 items\n",
      "Finished 191000 items\n",
      "Finished 192000 items\n",
      "Finished 193000 items\n",
      "Finished 194000 items\n",
      "Finished 195000 items\n",
      "Finished 196000 items\n",
      "Finished 197000 items\n",
      "Finished 198000 items\n",
      "Finished 199000 items\n",
      "Finished 200000 items\n",
      "Finished 201000 items\n",
      "Finished 202000 items\n",
      "Finished 203000 items\n",
      "Finished 204000 items\n",
      "Finished 205000 items\n",
      "Finished 206000 items\n",
      "Finished 207000 items\n",
      "Finished 208000 items\n",
      "Finished 209000 items\n",
      "Finished 210000 items\n",
      "Finished 211000 items\n",
      "Finished 212000 items\n",
      "Finished 213000 items\n",
      "Finished 214000 items\n",
      "Finished 215000 items\n",
      "Finished 216000 items\n",
      "Finished 217000 items\n",
      "Finished 218000 items\n",
      "Finished 219000 items\n",
      "Finished 220000 items\n",
      "Finished 221000 items\n",
      "Finished 222000 items\n",
      "Finished 223000 items\n",
      "Finished 224000 items\n",
      "Finished 225000 items\n",
      "Finished 226000 items\n",
      "Finished 227000 items\n",
      "Finished 228000 items\n",
      "Finished 229000 items\n",
      "Finished 230000 items\n",
      "Finished 231000 items\n",
      "Finished 232000 items\n",
      "Finished 233000 items\n",
      "Finished 234000 items\n",
      "Finished 235000 items\n",
      "Finished 236000 items\n",
      "Finished 237000 items\n",
      "Finished 238000 items\n",
      "Finished 239000 items\n",
      "Finished 240000 items\n",
      "Finished 241000 items\n",
      "Finished 242000 items\n",
      "Finished 243000 items\n",
      "Finished 244000 items\n",
      "Finished 245000 items\n",
      "Finished 246000 items\n",
      "Finished 247000 items\n",
      "Finished 248000 items\n",
      "Finished 249000 items\n",
      "Finished 250000 items\n",
      "Finished 251000 items\n",
      "Finished 252000 items\n",
      "Finished 253000 items\n",
      "Finished 254000 items\n",
      "Finished 255000 items\n",
      "Finished 256000 items\n",
      "Finished 257000 items\n",
      "Finished 258000 items\n",
      "Finished 259000 items\n",
      "Finished 260000 items\n",
      "Finished 261000 items\n",
      "Finished 262000 items\n",
      "Finished 263000 items\n",
      "Finished 264000 items\n",
      "Finished 265000 items\n",
      "Finished 266000 items\n",
      "Finished 267000 items\n",
      "Finished 268000 items\n",
      "Finished 269000 items\n",
      "Finished 270000 items\n",
      "Finished 271000 items\n",
      "Finished 272000 items\n",
      "Finished 273000 items\n",
      "Finished 274000 items\n",
      "Finished 275000 items\n",
      "Finished 276000 items\n",
      "Finished 277000 items\n",
      "Finished 278000 items\n",
      "Finished 279000 items\n",
      "Finished 280000 items\n",
      "Finished 281000 items\n",
      "Finished 282000 items\n",
      "Finished 283000 items\n",
      "Finished 284000 items\n",
      "Finished 285000 items\n",
      "Finished 286000 items\n",
      "Finished 287000 items\n",
      "Finished 288000 items\n",
      "Finished 289000 items\n",
      "Finished 290000 items\n",
      "Finished 291000 items\n",
      "Finished 292000 items\n",
      "Finished 293000 items\n",
      "Finished 294000 items\n",
      "Finished 295000 items\n",
      "Finished 296000 items\n",
      "Finished 297000 items\n",
      "Finished 298000 items\n",
      "Finished 299000 items\n",
      "Finished 300000 items\n",
      "Finished 301000 items\n",
      "Finished 302000 items\n",
      "Finished 303000 items\n",
      "Finished 304000 items\n",
      "Finished 305000 items\n",
      "Finished 306000 items\n",
      "Finished 307000 items\n",
      "Finished 308000 items\n",
      "Finished 309000 items\n",
      "Finished 310000 items\n",
      "Finished 311000 items\n",
      "Finished 312000 items\n",
      "Finished 313000 items\n",
      "Finished 314000 items\n",
      "Finished 315000 items\n",
      "Finished 316000 items\n",
      "Finished 317000 items\n",
      "Finished 318000 items\n",
      "Finished 319000 items\n",
      "Finished 320000 items\n",
      "Finished 321000 items\n",
      "Finished 322000 items\n",
      "Finished 323000 items\n",
      "Finished 324000 items\n",
      "Finished 325000 items\n",
      "Finished 326000 items\n",
      "Finished 327000 items\n",
      "Finished 328000 items\n",
      "Finished 329000 items\n",
      "Finished 330000 items\n",
      "Finished 331000 items\n",
      "Finished 332000 items\n",
      "Finished 333000 items\n",
      "Finished 334000 items\n",
      "Finished 335000 items\n",
      "Finished 336000 items\n",
      "Finished 337000 items\n",
      "Finished 338000 items\n",
      "Finished 339000 items\n",
      "Finished 340000 items\n",
      "Finished 341000 items\n",
      "Finished 342000 items\n",
      "Finished 343000 items\n",
      "Finished 344000 items\n",
      "Finished 345000 items\n",
      "Finished 346000 items\n",
      "Finished 347000 items\n",
      "Finished 348000 items\n",
      "Finished 349000 items\n",
      "Finished 350000 items\n",
      "Finished 351000 items\n",
      "Finished 352000 items\n",
      "Finished 353000 items\n",
      "Finished 354000 items\n",
      "Finished 355000 items\n",
      "Finished 356000 items\n",
      "Finished 357000 items\n",
      "Finished 358000 items\n",
      "Finished 359000 items\n",
      "Finished 360000 items\n",
      "Finished 361000 items\n",
      "Finished 362000 items\n",
      "Finished 363000 items\n",
      "Finished 364000 items\n",
      "Finished 365000 items\n",
      "Finished 366000 items\n",
      "Finished 367000 items\n",
      "Finished 368000 items\n",
      "Finished 369000 items\n",
      "Finished 370000 items\n",
      "Finished 371000 items\n",
      "Finished 372000 items\n",
      "Finished 373000 items\n",
      "Finished 374000 items\n",
      "Finished 375000 items\n",
      "Finished 376000 items\n",
      "Finished 377000 items\n",
      "Finished 378000 items\n",
      "Finished 379000 items\n",
      "Finished 380000 items\n",
      "Finished 381000 items\n",
      "Finished 382000 items\n",
      "Finished 383000 items\n",
      "Finished 384000 items\n",
      "Finished 385000 items\n",
      "Finished 386000 items\n",
      "Finished 387000 items\n",
      "Finished 388000 items\n",
      "Finished 389000 items\n",
      "Finished 390000 items\n",
      "Finished 391000 items\n",
      "Finished 392000 items\n",
      "Finished 393000 items\n",
      "Finished 394000 items\n",
      "Finished 395000 items\n",
      "Finished 396000 items\n",
      "Finished 397000 items\n",
      "Finished 398000 items\n",
      "Finished 399000 items\n",
      "Finished 400000 items\n",
      "Finished 401000 items\n",
      "Finished 402000 items\n",
      "Finished 403000 items\n",
      "Finished 404000 items\n",
      "Finished 405000 items\n",
      "Finished 406000 items\n",
      "Finished 407000 items\n",
      "Finished 408000 items\n",
      "Finished 409000 items\n",
      "Finished 410000 items\n",
      "Finished 411000 items\n",
      "Finished 412000 items\n",
      "Finished 413000 items\n",
      "Finished 414000 items\n",
      "Finished 415000 items\n",
      "Finished 416000 items\n",
      "Finished 417000 items\n",
      "Finished 418000 items\n",
      "Finished 419000 items\n",
      "Finished 420000 items\n",
      "Finished 421000 items\n",
      "Finished 422000 items\n",
      "Finished 423000 items\n",
      "Finished 424000 items\n",
      "Finished 425000 items\n",
      "Finished 426000 items\n",
      "Finished 427000 items\n",
      "Finished 428000 items\n",
      "Finished 429000 items\n",
      "Finished 430000 items\n",
      "Finished 431000 items\n",
      "Finished 432000 items\n",
      "Finished 433000 items\n",
      "Finished 434000 items\n",
      "Finished 435000 items\n",
      "Finished 436000 items\n",
      "Finished 437000 items\n",
      "Finished 438000 items\n",
      "Finished 439000 items\n",
      "Finished 440000 items\n",
      "Finished 441000 items\n",
      "Finished 442000 items\n",
      "Finished 443000 items\n",
      "Finished 444000 items\n",
      "Finished 445000 items\n",
      "Finished 446000 items\n",
      "Finished 447000 items\n",
      "Finished 448000 items\n",
      "Finished 449000 items\n",
      "Finished 450000 items\n",
      "Finished 451000 items\n",
      "Finished 452000 items\n",
      "Finished 453000 items\n",
      "Finished 454000 items\n",
      "Finished 455000 items\n",
      "Finished 456000 items\n",
      "Finished 457000 items\n",
      "Finished 458000 items\n",
      "Finished 459000 items\n",
      "Finished 460000 items\n",
      "Finished 461000 items\n",
      "Finished 462000 items\n",
      "Finished 463000 items\n",
      "Finished 464000 items\n",
      "Finished 465000 items\n",
      "Finished 466000 items\n",
      "Finished 467000 items\n",
      "Finished 468000 items\n",
      "Finished 469000 items\n",
      "Finished 470000 items\n",
      "Finished 471000 items\n",
      "Finished 472000 items\n",
      "Finished 473000 items\n",
      "Finished 474000 items\n",
      "Finished 475000 items\n",
      "Finished 476000 items\n",
      "Finished 477000 items\n",
      "Finished 478000 items\n",
      "Finished 479000 items\n",
      "Finished 480000 items\n",
      "Finished 481000 items\n",
      "Finished 482000 items\n",
      "Finished 483000 items\n",
      "Finished 484000 items\n",
      "Finished 485000 items\n",
      "Finished 486000 items\n",
      "Finished 487000 items\n",
      "Finished 488000 items\n",
      "Finished 489000 items\n",
      "Finished 490000 items\n",
      "Finished 491000 items\n",
      "Finished 492000 items\n",
      "Finished 493000 items\n",
      "Finished 494000 items\n",
      "Finished 495000 items\n",
      "Finished 496000 items\n",
      "Finished 497000 items\n",
      "Finished 498000 items\n",
      "Finished 499000 items\n",
      "Finished 500000 items\n",
      "Finished 501000 items\n",
      "Finished 502000 items\n",
      "Finished 503000 items\n",
      "Finished 504000 items\n",
      "Finished 505000 items\n",
      "Finished 506000 items\n",
      "Finished 507000 items\n",
      "Finished 508000 items\n",
      "Finished 509000 items\n",
      "Finished 510000 items\n",
      "Finished 511000 items\n",
      "Finished 512000 items\n",
      "Finished 513000 items\n",
      "Finished 514000 items\n",
      "Finished 515000 items\n",
      "Finished 516000 items\n",
      "Finished 517000 items\n",
      "Finished 518000 items\n",
      "Finished 519000 items\n",
      "Finished 520000 items\n",
      "Finished 521000 items\n",
      "Finished 522000 items\n",
      "Finished 523000 items\n",
      "Finished 524000 items\n",
      "Finished 525000 items\n",
      "Finished 526000 items\n",
      "Finished 527000 items\n",
      "Finished 528000 items\n",
      "Finished 529000 items\n",
      "Finished 530000 items\n",
      "Finished 531000 items\n",
      "Finished 532000 items\n",
      "Finished 533000 items\n",
      "Finished 534000 items\n",
      "Finished 535000 items\n",
      "Finished 536000 items\n",
      "Finished 537000 items\n",
      "Finished 538000 items\n",
      "Finished 539000 items\n",
      "Finished 540000 items\n",
      "Finished 541000 items\n",
      "Finished 542000 items\n",
      "Finished 543000 items\n",
      "Finished 544000 items\n",
      "Finished 545000 items\n",
      "Finished 546000 items\n",
      "Finished 547000 items\n",
      "Finished 548000 items\n",
      "Finished 549000 items\n",
      "Finished 550000 items\n",
      "Finished 551000 items\n",
      "Finished 552000 items\n",
      "Finished 553000 items\n",
      "Finished 554000 items\n",
      "Finished 555000 items\n",
      "Finished 556000 items\n",
      "Finished 557000 items\n",
      "Finished 558000 items\n",
      "Finished 559000 items\n",
      "Finished 560000 items\n",
      "Finished 561000 items\n",
      "Finished 562000 items\n",
      "Finished 563000 items\n",
      "Finished 564000 items\n",
      "Finished 565000 items\n",
      "Finished 566000 items\n",
      "Finished 567000 items\n",
      "Finished 568000 items\n",
      "Finished 569000 items\n",
      "Finished 570000 items\n",
      "Finished 571000 items\n",
      "Finished 572000 items\n",
      "Finished 573000 items\n",
      "Finished 574000 items\n",
      "Finished 575000 items\n",
      "Finished 576000 items\n",
      "Finished 577000 items\n",
      "Finished 578000 items\n",
      "Finished 579000 items\n",
      "Finished 580000 items\n",
      "Finished 581000 items\n",
      "Finished 582000 items\n",
      "Finished 583000 items\n",
      "Finished 584000 items\n",
      "Finished 585000 items\n",
      "Finished 586000 items\n",
      "Finished 587000 items\n",
      "Finished 588000 items\n",
      "Finished 589000 items\n",
      "Finished 590000 items\n",
      "Finished 591000 items\n",
      "Finished 592000 items\n",
      "Finished 593000 items\n",
      "Finished 594000 items\n",
      "Finished 595000 items\n",
      "Finished 596000 items\n",
      "Finished 597000 items\n",
      "Finished 598000 items\n",
      "Finished 599000 items\n",
      "Finished 600000 items\n",
      "Finished 601000 items\n",
      "Finished 602000 items\n",
      "Finished 603000 items\n",
      "Finished 604000 items\n",
      "Finished 605000 items\n",
      "Finished 606000 items\n",
      "Finished 607000 items\n",
      "Finished 608000 items\n",
      "Finished 609000 items\n",
      "Finished 610000 items\n",
      "Finished 611000 items\n",
      "Finished 612000 items\n",
      "Finished 613000 items\n",
      "Finished 614000 items\n",
      "Finished 615000 items\n",
      "Finished 616000 items\n",
      "Finished 617000 items\n",
      "Finished 618000 items\n",
      "Finished 619000 items\n",
      "Finished 620000 items\n",
      "Finished 621000 items\n",
      "Finished 622000 items\n",
      "Finished 623000 items\n",
      "Finished 624000 items\n",
      "Finished 625000 items\n",
      "Finished 626000 items\n",
      "Finished 627000 items\n",
      "Finished 628000 items\n",
      "Finished 629000 items\n",
      "Finished 630000 items\n",
      "Finished 631000 items\n",
      "Finished 632000 items\n",
      "Finished 633000 items\n",
      "Finished 634000 items\n",
      "Finished 635000 items\n",
      "Finished 636000 items\n",
      "Finished 637000 items\n",
      "Finished 638000 items\n",
      "Finished 639000 items\n",
      "Finished 640000 items\n",
      "Finished 641000 items\n",
      "Finished 642000 items\n",
      "Finished 643000 items\n",
      "Finished 644000 items\n",
      "Finished 645000 items\n",
      "Finished 646000 items\n",
      "Finished 647000 items\n",
      "Finished 648000 items\n",
      "Finished 649000 items\n",
      "Finished 650000 items\n",
      "Finished 651000 items\n",
      "Finished 652000 items\n",
      "Finished 653000 items\n",
      "Finished 654000 items\n",
      "Finished 655000 items\n",
      "Finished 656000 items\n",
      "Finished 657000 items\n",
      "Finished 658000 items\n",
      "Finished 659000 items\n",
      "Finished 660000 items\n",
      "Finished 661000 items\n",
      "Finished 662000 items\n",
      "Finished 663000 items\n",
      "Finished 664000 items\n",
      "Finished 665000 items\n",
      "Finished 666000 items\n",
      "Finished 667000 items\n",
      "Finished 668000 items\n",
      "Finished 669000 items\n",
      "Finished 670000 items\n",
      "Finished 671000 items\n",
      "Finished 672000 items\n",
      "Finished 673000 items\n",
      "Finished 674000 items\n",
      "Finished 675000 items\n",
      "Finished 676000 items\n",
      "Finished 677000 items\n",
      "Finished 678000 items\n",
      "Finished 679000 items\n",
      "Finished 680000 items\n",
      "Finished 681000 items\n",
      "Finished 682000 items\n",
      "Finished 683000 items\n",
      "Finished 684000 items\n",
      "Finished 685000 items\n",
      "Finished 686000 items\n",
      "Finished 687000 items\n",
      "Finished 688000 items\n",
      "Finished 689000 items\n",
      "Finished 690000 items\n",
      "Finished 691000 items\n",
      "Finished 692000 items\n",
      "Finished 693000 items\n",
      "Finished 694000 items\n",
      "Finished 695000 items\n",
      "Finished 696000 items\n",
      "Finished 697000 items\n",
      "Finished 698000 items\n",
      "Finished 699000 items\n",
      "Finished 700000 items\n",
      "Finished 701000 items\n",
      "Finished 702000 items\n",
      "Finished 703000 items\n",
      "Finished 704000 items\n",
      "Finished 705000 items\n",
      "Finished 706000 items\n",
      "Finished 707000 items\n",
      "Finished 708000 items\n",
      "Finished 709000 items\n",
      "Finished 710000 items\n",
      "Finished 711000 items\n",
      "Finished 712000 items\n",
      "Finished 713000 items\n",
      "Finished 714000 items\n",
      "Finished 715000 items\n",
      "Finished 716000 items\n",
      "Finished 717000 items\n",
      "Finished 718000 items\n",
      "Finished 719000 items\n",
      "Finished 720000 items\n",
      "Finished 721000 items\n",
      "Finished 722000 items\n",
      "Finished 723000 items\n",
      "Finished 724000 items\n",
      "Finished 725000 items\n",
      "Finished 726000 items\n",
      "Finished 727000 items\n",
      "Finished 728000 items\n",
      "Finished 729000 items\n",
      "Finished 730000 items\n",
      "Finished 731000 items\n",
      "Finished 732000 items\n",
      "Finished 733000 items\n",
      "Finished 734000 items\n",
      "Finished 735000 items\n",
      "Finished 736000 items\n",
      "Finished 737000 items\n",
      "Finished 738000 items\n",
      "Finished 739000 items\n",
      "Finished 740000 items\n",
      "Finished 741000 items\n",
      "Finished 742000 items\n",
      "Finished 743000 items\n",
      "Finished 744000 items\n",
      "Finished 745000 items\n",
      "Finished 746000 items\n",
      "Finished 747000 items\n",
      "Finished 748000 items\n",
      "Finished 749000 items\n",
      "Finished 750000 items\n",
      "Finished 751000 items\n",
      "Finished 752000 items\n",
      "Finished 753000 items\n",
      "Finished 754000 items\n",
      "Finished 755000 items\n",
      "Finished 756000 items\n",
      "Finished 757000 items\n",
      "Finished 758000 items\n",
      "Finished 759000 items\n",
      "Finished 760000 items\n",
      "Finished 761000 items\n",
      "Finished 762000 items\n",
      "Finished 763000 items\n",
      "Finished 764000 items\n",
      "Finished 765000 items\n",
      "Finished 766000 items\n",
      "Finished 767000 items\n",
      "Finished 768000 items\n",
      "Finished 769000 items\n",
      "Finished 770000 items\n",
      "Finished 771000 items\n",
      "Finished 772000 items\n",
      "Finished 773000 items\n",
      "Finished 774000 items\n",
      "Finished 775000 items\n",
      "Finished 776000 items\n",
      "Finished 777000 items\n",
      "Finished 778000 items\n",
      "Finished 779000 items\n",
      "Finished 780000 items\n",
      "Finished 781000 items\n",
      "Finished 782000 items\n",
      "Finished 783000 items\n",
      "Finished 784000 items\n",
      "Finished 785000 items\n",
      "Finished 786000 items\n",
      "Finished 787000 items\n",
      "Finished 788000 items\n",
      "Finished 789000 items\n",
      "Finished 790000 items\n",
      "Finished 791000 items\n",
      "Finished 792000 items\n",
      "Finished 793000 items\n",
      "Finished 794000 items\n",
      "Finished 795000 items\n",
      "Finished 796000 items\n",
      "Finished 797000 items\n",
      "Finished 798000 items\n",
      "Finished 799000 items\n",
      "Finished 800000 items\n",
      "Finished 801000 items\n",
      "Finished 802000 items\n",
      "Finished 803000 items\n",
      "Finished 804000 items\n",
      "Finished 805000 items\n",
      "Finished 806000 items\n",
      "Finished 807000 items\n",
      "Finished 808000 items\n",
      "Finished 809000 items\n",
      "Finished 810000 items\n",
      "Finished 811000 items\n",
      "Finished 812000 items\n",
      "Finished 813000 items\n",
      "Finished 814000 items\n",
      "Finished 815000 items\n",
      "Finished 816000 items\n",
      "Finished 817000 items\n",
      "Finished 818000 items\n",
      "Finished 819000 items\n",
      "Finished 820000 items\n",
      "Finished 821000 items\n",
      "Finished 822000 items\n",
      "Finished 823000 items\n",
      "Finished 824000 items\n",
      "Finished 825000 items\n",
      "Finished 826000 items\n",
      "Finished 827000 items\n",
      "Finished 828000 items\n",
      "Finished 829000 items\n",
      "Finished 830000 items\n",
      "Finished 831000 items\n",
      "Finished 832000 items\n",
      "Finished 833000 items\n",
      "Finished 834000 items\n",
      "Finished 835000 items\n",
      "Finished 836000 items\n",
      "Finished 837000 items\n",
      "Finished 838000 items\n",
      "Finished 839000 items\n",
      "Finished 840000 items\n",
      "Finished 841000 items\n",
      "Finished 842000 items\n",
      "Finished 843000 items\n",
      "Finished 844000 items\n",
      "Finished 845000 items\n",
      "Finished 846000 items\n",
      "Finished 847000 items\n",
      "Finished 848000 items\n",
      "Finished 849000 items\n",
      "Finished 850000 items\n",
      "Finished 851000 items\n",
      "Finished 852000 items\n",
      "Finished 853000 items\n",
      "Finished 854000 items\n",
      "Finished 855000 items\n",
      "Finished 856000 items\n",
      "Finished 857000 items\n",
      "Finished 858000 items\n",
      "Finished 859000 items\n",
      "Finished 860000 items\n",
      "Finished 861000 items\n",
      "Finished 862000 items\n",
      "Finished 863000 items\n",
      "Finished 864000 items\n",
      "Finished 865000 items\n",
      "Finished 866000 items\n",
      "Finished 867000 items\n",
      "Finished 868000 items\n",
      "Finished 869000 items\n",
      "Finished 870000 items\n",
      "Finished 871000 items\n",
      "Finished 872000 items\n",
      "Finished 873000 items\n",
      "Finished 874000 items\n",
      "Finished 875000 items\n",
      "Finished 876000 items\n",
      "Finished 877000 items\n",
      "Finished 878000 items\n",
      "Finished 879000 items\n",
      "Finished 880000 items\n",
      "Finished 881000 items\n",
      "Finished 882000 items\n",
      "Finished 883000 items\n",
      "Finished 884000 items\n",
      "Finished 885000 items\n",
      "Finished 886000 items\n",
      "Finished 887000 items\n",
      "Finished 888000 items\n",
      "Finished 889000 items\n",
      "Finished 890000 items\n",
      "Finished 891000 items\n",
      "Finished 892000 items\n",
      "Finished 893000 items\n",
      "Finished 894000 items\n",
      "Finished 895000 items\n",
      "Finished 896000 items\n",
      "Finished 897000 items\n",
      "Finished 898000 items\n",
      "Finished 899000 items\n",
      "Finished 900000 items\n",
      "Finished 901000 items\n",
      "Finished 902000 items\n",
      "Finished 903000 items\n",
      "Finished 904000 items\n",
      "Finished 905000 items\n",
      "Finished 906000 items\n",
      "Finished 907000 items\n",
      "Finished 908000 items\n",
      "Finished 909000 items\n",
      "Finished 910000 items\n",
      "Finished 911000 items\n",
      "Finished 912000 items\n",
      "Finished 913000 items\n",
      "Finished 914000 items\n",
      "Finished 915000 items\n",
      "Finished 916000 items\n",
      "Finished 917000 items\n",
      "Finished 918000 items\n",
      "Finished 919000 items\n",
      "Finished 920000 items\n",
      "Finished 921000 items\n",
      "Finished 922000 items\n",
      "Finished 923000 items\n",
      "Finished 924000 items\n",
      "Finished 925000 items\n",
      "Finished 926000 items\n",
      "Finished 927000 items\n",
      "Finished 928000 items\n",
      "Finished 929000 items\n",
      "Finished 930000 items\n",
      "Finished 931000 items\n",
      "Finished 932000 items\n",
      "Finished 933000 items\n",
      "Finished 934000 items\n",
      "Finished 935000 items\n",
      "Finished 936000 items\n",
      "Finished 937000 items\n",
      "Finished 938000 items\n",
      "Finished 939000 items\n",
      "Finished 940000 items\n",
      "Finished 941000 items\n",
      "Finished 942000 items\n",
      "Finished 943000 items\n",
      "Finished 944000 items\n",
      "Finished 945000 items\n",
      "Finished 946000 items\n",
      "Finished 947000 items\n",
      "Finished 948000 items\n",
      "Finished 949000 items\n",
      "Finished 950000 items\n",
      "Finished 951000 items\n",
      "Finished 952000 items\n",
      "Finished 953000 items\n",
      "Finished 954000 items\n",
      "Finished 955000 items\n",
      "Finished 956000 items\n",
      "Finished 957000 items\n",
      "Finished 958000 items\n",
      "Finished 959000 items\n",
      "Finished 960000 items\n",
      "Finished 961000 items\n",
      "Finished 962000 items\n",
      "Finished 963000 items\n",
      "Finished 964000 items\n",
      "Finished 965000 items\n",
      "Finished 966000 items\n",
      "Finished 967000 items\n",
      "Finished 968000 items\n",
      "Finished 969000 items\n",
      "Finished 970000 items\n",
      "Finished 971000 items\n",
      "Finished 972000 items\n",
      "Finished 973000 items\n",
      "Finished 974000 items\n",
      "Finished 975000 items\n",
      "Finished 976000 items\n",
      "Finished 977000 items\n",
      "Finished 978000 items\n",
      "Finished 979000 items\n",
      "Finished 980000 items\n",
      "Finished 981000 items\n",
      "Finished 982000 items\n",
      "Finished 983000 items\n",
      "Finished 984000 items\n",
      "Finished 985000 items\n",
      "Finished 986000 items\n",
      "Finished 987000 items\n",
      "Finished 988000 items\n",
      "Finished 989000 items\n",
      "Finished 990000 items\n",
      "Finished 991000 items\n",
      "Finished 992000 items\n",
      "Finished 993000 items\n",
      "Finished 994000 items\n",
      "Finished 995000 items\n",
      "Finished 996000 items\n",
      "Finished 997000 items\n",
      "Finished 998000 items\n",
      "Finished 999000 items\n",
      "Finished 1000000 items\n",
      "Finished 1001000 items\n",
      "Finished 1002000 items\n",
      "Finished 1003000 items\n",
      "Finished 1004000 items\n",
      "Finished 1005000 items\n",
      "Finished 1006000 items\n",
      "Finished 1007000 items\n",
      "Finished 1008000 items\n",
      "Finished 1009000 items\n",
      "Finished 1010000 items\n",
      "Finished 1011000 items\n",
      "Finished 1012000 items\n",
      "Finished 1013000 items\n",
      "Finished 1014000 items\n",
      "Finished 1015000 items\n",
      "Finished 1016000 items\n",
      "Finished 1017000 items\n",
      "Finished 1018000 items\n",
      "Finished 1019000 items\n",
      "Finished 1020000 items\n",
      "Finished 1021000 items\n",
      "Finished 1022000 items\n",
      "Finished 1023000 items\n",
      "Finished 1024000 items\n",
      "Finished 1025000 items\n",
      "Finished 1026000 items\n",
      "Finished 1027000 items\n",
      "Finished 1028000 items\n",
      "Finished 1029000 items\n",
      "Finished 1030000 items\n",
      "Finished 1031000 items\n",
      "Finished 1032000 items\n",
      "Finished 1033000 items\n",
      "Finished 1034000 items\n",
      "Finished 1035000 items\n",
      "Finished 1036000 items\n",
      "Finished 1037000 items\n",
      "Finished 1038000 items\n",
      "Finished 1039000 items\n",
      "Finished 1040000 items\n",
      "Finished 1041000 items\n",
      "Finished 1042000 items\n",
      "Finished 1043000 items\n",
      "Finished 1044000 items\n",
      "Finished 1045000 items\n",
      "Finished 1046000 items\n",
      "Finished 1047000 items\n",
      "Finished 1048000 items\n",
      "Finished 1049000 items\n",
      "Finished 1050000 items\n",
      "Finished 1051000 items\n",
      "Finished 1052000 items\n",
      "Finished 1053000 items\n",
      "Finished 1054000 items\n",
      "Finished 1055000 items\n",
      "Finished 1056000 items\n",
      "Finished 1057000 items\n",
      "Finished 1058000 items\n",
      "Finished 1059000 items\n",
      "Finished 1060000 items\n",
      "Finished 1061000 items\n",
      "Finished 1062000 items\n",
      "Finished 1063000 items\n",
      "Finished 1064000 items\n",
      "Finished 1065000 items\n",
      "Finished 1066000 items\n",
      "Finished 1067000 items\n",
      "Finished 1068000 items\n",
      "Finished 1069000 items\n",
      "Finished 1070000 items\n",
      "Finished 1071000 items\n",
      "Finished 1072000 items\n",
      "Finished 1073000 items\n",
      "Finished 1074000 items\n",
      "Finished 1075000 items\n",
      "Finished 1076000 items\n",
      "Finished 1077000 items\n",
      "Finished 1078000 items\n",
      "Finished 1079000 items\n",
      "Finished 1080000 items\n",
      "Finished 1081000 items\n",
      "Finished 1082000 items\n",
      "Finished 1083000 items\n",
      "Finished 1084000 items\n",
      "Finished 1085000 items\n",
      "Finished 1086000 items\n",
      "Finished 1087000 items\n",
      "Finished 1088000 items\n",
      "Finished 1089000 items\n",
      "Finished 1090000 items\n",
      "Finished 1091000 items\n",
      "Finished 1092000 items\n",
      "Finished 1093000 items\n",
      "Finished 1094000 items\n",
      "Finished 1095000 items\n",
      "Finished 1096000 items\n",
      "Finished 1097000 items\n",
      "Finished 1098000 items\n",
      "Finished 1099000 items\n",
      "Finished 1100000 items\n",
      "Finished 1101000 items\n",
      "Finished 1102000 items\n",
      "Finished 1103000 items\n",
      "Finished 1104000 items\n",
      "Finished 1105000 items\n",
      "Finished 1106000 items\n",
      "Finished 1107000 items\n",
      "Finished 1108000 items\n",
      "Finished 1109000 items\n",
      "Finished 1110000 items\n",
      "Finished 1111000 items\n",
      "Finished 1112000 items\n",
      "Finished 1113000 items\n",
      "Finished 1114000 items\n",
      "Finished 1115000 items\n",
      "Finished 1116000 items\n",
      "Finished 1117000 items\n",
      "Finished 1118000 items\n",
      "Finished 1119000 items\n",
      "Finished 1120000 items\n",
      "Finished 1121000 items\n",
      "Finished 1122000 items\n",
      "Finished 1123000 items\n",
      "Finished 1124000 items\n",
      "Finished 1125000 items\n",
      "Finished 1126000 items\n",
      "Finished 1127000 items\n",
      "Finished 1128000 items\n",
      "Finished 1129000 items\n",
      "Finished 1130000 items\n",
      "Finished 1131000 items\n",
      "Finished 1132000 items\n",
      "Finished 1133000 items\n",
      "Finished 1134000 items\n",
      "Finished 1135000 items\n",
      "Finished 1136000 items\n",
      "Finished 1137000 items\n",
      "Finished 1138000 items\n",
      "Finished 1139000 items\n",
      "Finished 1140000 items\n",
      "Finished 1141000 items\n",
      "Finished 1142000 items\n",
      "Finished 1143000 items\n",
      "Finished 1144000 items\n",
      "Finished 1145000 items\n",
      "Finished 1146000 items\n",
      "Finished 1147000 items\n",
      "Finished 1148000 items\n",
      "Finished 1149000 items\n",
      "Finished 1150000 items\n",
      "Finished 1151000 items\n",
      "Finished 1152000 items\n",
      "Finished 1153000 items\n",
      "Finished 1154000 items\n",
      "Finished 1155000 items\n",
      "Finished 1156000 items\n",
      "Finished 1157000 items\n",
      "Finished 1158000 items\n",
      "Finished 1159000 items\n",
      "Finished 1160000 items\n",
      "Finished 1161000 items\n",
      "Finished 1162000 items\n",
      "Finished 1163000 items\n",
      "Finished 1164000 items\n",
      "Finished 1165000 items\n",
      "Finished 1166000 items\n",
      "Finished 1167000 items\n",
      "Finished 1168000 items\n",
      "Finished 1169000 items\n",
      "Finished 1170000 items\n",
      "Finished 1171000 items\n",
      "Finished 1172000 items\n",
      "Finished 1173000 items\n",
      "Finished 1174000 items\n",
      "Finished 1175000 items\n",
      "Finished 1176000 items\n",
      "Finished 1177000 items\n",
      "Finished 1178000 items\n",
      "Finished 1179000 items\n",
      "Finished 1180000 items\n",
      "Finished 1181000 items\n"
     ]
    }
   ],
   "source": [
    "get_recommendations(test_set_grouped,train_set_grouped)"
   ]
  },
  {
   "cell_type": "code",
   "execution_count": 59,
   "metadata": {
    "collapsed": false
   },
   "outputs": [
    {
     "name": "stdout",
     "output_type": "stream",
     "text": [
      "2528243\n"
     ]
    }
   ],
   "source": [
    "print len(test_set)"
   ]
  },
  {
   "cell_type": "code",
   "execution_count": 60,
   "metadata": {
    "collapsed": false
   },
   "outputs": [
    {
     "name": "stdout",
     "output_type": "stream",
     "text": [
      "2528243\n"
     ]
    }
   ],
   "source": [
    "results = pd.read_csv('../predictions_group.csv')\n",
    "print len(results)"
   ]
  },
  {
   "cell_type": "code",
   "execution_count": 61,
   "metadata": {
    "collapsed": false
   },
   "outputs": [
    {
     "data": {
      "text/html": [
       "<div>\n",
       "<table border=\"1\" class=\"dataframe\">\n",
       "  <thead>\n",
       "    <tr style=\"text-align: right;\">\n",
       "      <th></th>\n",
       "      <th>id</th>\n",
       "      <th>hotel_cluster</th>\n",
       "    </tr>\n",
       "  </thead>\n",
       "  <tbody>\n",
       "    <tr>\n",
       "      <th>0</th>\n",
       "      <td>361344</td>\n",
       "      <td>28 19 40 56 72</td>\n",
       "    </tr>\n",
       "    <tr>\n",
       "      <th>1</th>\n",
       "      <td>361345</td>\n",
       "      <td>28 19 40 56 72</td>\n",
       "    </tr>\n",
       "    <tr>\n",
       "      <th>2</th>\n",
       "      <td>0</td>\n",
       "      <td>60 20</td>\n",
       "    </tr>\n",
       "    <tr>\n",
       "      <th>3</th>\n",
       "      <td>1</td>\n",
       "      <td>60 20</td>\n",
       "    </tr>\n",
       "    <tr>\n",
       "      <th>4</th>\n",
       "      <td>723207</td>\n",
       "      <td>91 1 18 21 41</td>\n",
       "    </tr>\n",
       "  </tbody>\n",
       "</table>\n",
       "</div>"
      ],
      "text/plain": [
       "       id   hotel_cluster\n",
       "0  361344  28 19 40 56 72\n",
       "1  361345  28 19 40 56 72\n",
       "2       0           60 20\n",
       "3       1           60 20\n",
       "4  723207   91 1 18 21 41"
      ]
     },
     "execution_count": 61,
     "metadata": {},
     "output_type": "execute_result"
    }
   ],
   "source": [
    "results.head()"
   ]
  },
  {
   "cell_type": "code",
   "execution_count": 64,
   "metadata": {
    "collapsed": false
   },
   "outputs": [
    {
     "name": "stderr",
     "output_type": "stream",
     "text": [
      "/Users/basavakanaparthi/anaconda/lib/python2.7/site-packages/ipykernel/__main__.py:1: FutureWarning: sort(columns=....) is deprecated, use sort_values(by=.....)\n",
      "  if __name__ == '__main__':\n"
     ]
    }
   ],
   "source": [
    "results = results.sort(columns='id')"
   ]
  },
  {
   "cell_type": "code",
   "execution_count": 66,
   "metadata": {
    "collapsed": false
   },
   "outputs": [],
   "source": [
    "results = results.reset_index(drop=True)"
   ]
  },
  {
   "cell_type": "code",
   "execution_count": 69,
   "metadata": {
    "collapsed": false
   },
   "outputs": [
    {
     "ename": "SyntaxError",
     "evalue": "invalid syntax (<ipython-input-69-0348ae54acfa>, line 1)",
     "output_type": "error",
     "traceback": [
      "\u001b[0;36m  File \u001b[0;32m\"<ipython-input-69-0348ae54acfa>\"\u001b[0;36m, line \u001b[0;32m1\u001b[0m\n\u001b[0;31m    results.to_csv(('../predictions.csv.gzip',compression='gzip',index=False))\u001b[0m\n\u001b[0m                                                         ^\u001b[0m\n\u001b[0;31mSyntaxError\u001b[0m\u001b[0;31m:\u001b[0m invalid syntax\n"
     ]
    }
   ],
   "source": [
    "results.to_csv('../predictions.csv.gzip',compression='gzip',index=False)"
   ]
  },
  {
   "cell_type": "code",
   "execution_count": 67,
   "metadata": {
    "collapsed": false
   },
   "outputs": [
    {
     "ename": "NameError",
     "evalue": "name 'filtered_data' is not defined",
     "output_type": "error",
     "traceback": [
      "\u001b[0;31m---------------------------------------------------------------------------\u001b[0m",
      "\u001b[0;31mNameError\u001b[0m                                 Traceback (most recent call last)",
      "\u001b[0;32m<ipython-input-67-232954c91f7a>\u001b[0m in \u001b[0;36m<module>\u001b[0;34m()\u001b[0m\n\u001b[0;32m----> 1\u001b[0;31m \u001b[0musers\u001b[0m \u001b[0;34m=\u001b[0m \u001b[0mfiltered_data\u001b[0m\u001b[0;34m[\u001b[0m\u001b[0;34m'user_id'\u001b[0m\u001b[0;34m]\u001b[0m\u001b[0;34m.\u001b[0m\u001b[0munique\u001b[0m\u001b[0;34m(\u001b[0m\u001b[0;34m)\u001b[0m\u001b[0;34m\u001b[0m\u001b[0m\n\u001b[0m\u001b[1;32m      2\u001b[0m \u001b[0;32mprint\u001b[0m \u001b[0;34m\"Number of unique users: \"\u001b[0m\u001b[0;34m,\u001b[0m\u001b[0mlen\u001b[0m\u001b[0;34m(\u001b[0m\u001b[0musers\u001b[0m\u001b[0;34m)\u001b[0m\u001b[0;34m\u001b[0m\u001b[0m\n",
      "\u001b[0;31mNameError\u001b[0m: name 'filtered_data' is not defined"
     ]
    }
   ],
   "source": [
    "users = filtered_data['user_id'].unique()\n",
    "print \"Number of unique users: \",len(users)"
   ]
  },
  {
   "cell_type": "code",
   "execution_count": null,
   "metadata": {
    "collapsed": false,
    "scrolled": true
   },
   "outputs": [],
   "source": [
    "def k_fold(filtered_data, k=5):\n",
    "    accuracy = {}\n",
    "    avg_accuracy = 0.0\n",
    "    avg_accuracy_top = 0.0\n",
    "    \n",
    "    #users = filtered_data['user_id'].unique()\n",
    "    filtered_with_recommendations = pd.DataFrame(columns =list(X_columns) + ['hotel_cluster','cb_recommendations'])\n",
    "    #print len(users)\n",
    "    filtered_data_grouped = filtered_data.groupby('user_id')\n",
    "    print len(filtered_data_grouped)\n",
    "    #for user in users:\n",
    "    for user,filtered in filtered_data_grouped:\n",
    "        try:\n",
    "            filtered_with_recommendations_user = pd.DataFrame(columns =list(X_columns) + \\\n",
    "                                                              ['hotel_cluster','cb_recommendations'])\n",
    "            '''filtered = filtered_data[filtered_data['user_id'] == user]\n",
    "\n",
    "            filtered = filtered.dropna()'''\n",
    "            filtered = filtered.reset_index(drop=True)\n",
    "            \n",
    "            fold_size = len(filtered)/k\n",
    "            \n",
    "            avg_accuracy_user = 0.0\n",
    "            avg_accuracy_top_user = 0.0\n",
    "            \n",
    "            skipped_folds = 0\n",
    "            for i in range(k):\n",
    "                filtered_train = filtered[:fold_size*(i)].append(filtered[fold_size*(i+1):])\n",
    "                filtered_test =  filtered[fold_size*(i):fold_size*(i+1)]\n",
    "                \n",
    "                filtered_train = filtered_train.reset_index(drop=True)\n",
    "                filtered_test = filtered_test.reset_index(drop=True)\n",
    "               \n",
    "                X_train = filtered_train[X_columns]\n",
    "                Y_train = filtered_train['hotel_cluster']\n",
    "                \n",
    "                X_test = filtered_test[X_columns]\n",
    "                Y_test = filtered_test['hotel_cluster']\n",
    "                \n",
    "                #print X_train.shape, Y_train.shape\n",
    "                #print X_test.shape, Y_test.shape\n",
    "                #break\n",
    "                \n",
    "                if len(X_train) < 1:\n",
    "                    skipped_folds +=1\n",
    "                    #print fold_size, len(filtered)\n",
    "                    #print \"No training data\"\n",
    "                    continue\n",
    "                if len(X_test) < 1:\n",
    "                    skipped_folds +=1\n",
    "                    #print fold_size, len(filtered)\n",
    "                    #print \"No test data\"\n",
    "                    continue\n",
    "                \n",
    "                acc,acc_top,Y_predicted_top = content_based_nbc(X_train,Y_train,X_test,Y_test)\n",
    "                accuracy[user] = acc\n",
    "                avg_accuracy_user += acc\n",
    "                avg_accuracy_top_user += acc_top\n",
    "            if k != skipped_folds:\n",
    "                avg_accuracy += avg_accuracy_user*1.0/(k-skipped_folds)\n",
    "                avg_accuracy_top += avg_accuracy_top_user*1.0/(k-skipped_folds)\n",
    "\n",
    "            #break\n",
    "        except ValueError as e:\n",
    "            print e, user\n",
    "    print avg_accuracy*1.0/len(users),avg_accuracy_top*1.0/len(users)"
   ]
  },
  {
   "cell_type": "code",
   "execution_count": null,
   "metadata": {
    "collapsed": false
   },
   "outputs": [],
   "source": [
    "def get_cb_recommendations(train_set,test_set):\n",
    "    accuracy = {}\n",
    "    avg_accuracy = 0.0\n",
    "    avg_accuracy_top = 0.0\n",
    "\n",
    "    filtered_with_recommendations = pd.DataFrame(columns = list(X_columns) + ['hotel_cluster','cb_recommendations'])\n",
    "    Y_predicted_top = pd.DataFrame(columns=['cb_recommendations'])\n",
    "    #print len(users)\n",
    "    train_set_grouped = train_set.groupby('user_id')\n",
    "    test_set_grouped = test_set.groupby('user_id')\n",
    "    \n",
    "    for user,filtered_test in test_set_grouped:\n",
    "        try:\n",
    "            filtered_with_recommendations_user = pd.DataFrame(columns = list(X_columns) +\\\n",
    "                                                              ['hotel_cluster','cb_recommendations'])\n",
    "            filtered_train = train_set_grouped.get_group(user)\n",
    "            \n",
    "            #filtered_train = filtered_train.dropna()\n",
    "            filtered_train = filtered_train.reset_index(drop=True)\n",
    "\n",
    "            #filtered_test = filtered_test.dropna()\n",
    "            filtered_test = filtered_test.reset_index(drop=True)\n",
    "\n",
    "            X_train = filtered_train[X_columns]\n",
    "            Y_train = filtered_train['hotel_cluster']\n",
    "            \n",
    "            X_test = filtered_test[X_columns]\n",
    "            Y_test = filtered_test['hotel_cluster']\n",
    "            \n",
    "            if len(X_train) < 1:\n",
    "                print \"No training data\"\n",
    "                continue\n",
    "            if len(X_test) < 1:\n",
    "                print \"No test data\"\n",
    "                continue\n",
    "            #return values from the NBC model\n",
    "            acc,acc_top,Y_predicted_top = content_based_nbc(X_train,Y_train,X_test,Y_test)\n",
    "            \n",
    "            filtered_with_recommendations_user = pd.concat([X_test,Y_test,Y_predicted_top],axis=1)\n",
    "            filtered_with_recommendations = \\\n",
    "                pd.concat([filtered_with_recommendations,filtered_with_recommendations_user],axis=0,ignore_index=True)\n",
    "            #print len(X_test),len(Y_test),len(Y_predicted_top),len(filtered_with_recommendations)\n",
    "            \n",
    "            accuracy[user] = acc\n",
    "            avg_accuracy += acc\n",
    "            avg_accuracy_top += acc_top\n",
    "            #break\n",
    "        except ValueError as e:\n",
    "            print e, user\n",
    "            \n",
    "    print avg_accuracy*1.0/len(filtered_with_recommendations)\n",
    "    print avg_accuracy_top*1.0/len(filtered_with_recommendations)\n",
    "    return filtered_with_recommendations"
   ]
  },
  {
   "cell_type": "code",
   "execution_count": null,
   "metadata": {
    "collapsed": false
   },
   "outputs": [],
   "source": [
    "curr_time  = datetime.fromtimestamp(int(time.time()))\n",
    "print curr_time"
   ]
  },
  {
   "cell_type": "code",
   "execution_count": null,
   "metadata": {
    "collapsed": false,
    "scrolled": true
   },
   "outputs": [],
   "source": [
    "filtered_data_with_recos = get_cb_recommendations(filtered_data,filtered_data)"
   ]
  },
  {
   "cell_type": "code",
   "execution_count": null,
   "metadata": {
    "collapsed": false
   },
   "outputs": [],
   "source": [
    "filtered_data_with_recos = get_cb_recommendations(filtered_data[:1000],filtered_data[:1000])"
   ]
  },
  {
   "cell_type": "code",
   "execution_count": null,
   "metadata": {
    "collapsed": false,
    "scrolled": true
   },
   "outputs": [],
   "source": [
    "for col in X_columns:\n",
    "    try:\n",
    "        k = filtered_data[col][:100000].plot(kind='kde',title = col,legend = True)\n",
    "        print col\n",
    "        plt.savefig(col +'.png')\n",
    "        plt.show()\n",
    "        #break\n",
    "    except TypeError as e:\n",
    "        print col\n",
    "        continue"
   ]
  },
  {
   "cell_type": "code",
   "execution_count": null,
   "metadata": {
    "collapsed": true
   },
   "outputs": [],
   "source": [
    "naive_bayes.MultinomialNB"
   ]
  }
 ],
 "metadata": {
  "kernelspec": {
   "display_name": "Python 2",
   "language": "python",
   "name": "python2"
  }
 },
 "nbformat": 4,
 "nbformat_minor": 0
}
