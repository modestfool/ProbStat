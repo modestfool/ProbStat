{
 "cells": [
  {
   "cell_type": "code",
   "execution_count": null,
   "metadata": {
    "collapsed": false
   },
   "outputs": [],
   "source": [
    "%matplotlib inline\n",
    "import numpy as np \n",
    "import pandas as pd\n",
    "import seaborn as sns\n",
    "import matplotlib.pyplot as plt\n",
    "from datetime import datetime"
   ]
  },
  {
   "cell_type": "code",
   "execution_count": null,
   "metadata": {
    "collapsed": false
   },
   "outputs": [],
   "source": [
    "train_set = pd.read_csv('train.csv', parse_dates=['srch_ci', 'srch_co'])\n",
    "train_set.decr()"
   ]
  },
  {
   "cell_type": "code",
   "execution_count": null,
   "metadata": {
    "collapsed": false
   },
   "outputs": [],
   "source": [
    "users_group = train_set.groupby('user_id')\n",
    "bookings = users_group.aggregate({'is_booking':np.sum})\n",
    "print np.sum(bookings)"
   ]
  },
  {
   "cell_type": "markdown",
   "metadata": {},
   "source": [
    "## Get the top 100000 users with most transactions"
   ]
  },
  {
   "cell_type": "code",
   "execution_count": null,
   "metadata": {
    "collapsed": true
   },
   "outputs": [],
   "source": [
    "filtered_user_ids_1k = list(train_set['user_id'].value_counts()[0:1000].index)"
   ]
  },
  {
   "cell_type": "code",
   "execution_count": null,
   "metadata": {
    "collapsed": false,
    "scrolled": false
   },
   "outputs": [],
   "source": [
    "filtered_user_ids_10k = list(train_set['user_id'].value_counts()[0:10000].index)"
   ]
  },
  {
   "cell_type": "code",
   "execution_count": null,
   "metadata": {
    "collapsed": true
   },
   "outputs": [],
   "source": [
    "filtered_user_ids_100k = list(train_set['user_id'].value_counts()[0:100000].index)"
   ]
  },
  {
   "cell_type": "code",
   "execution_count": null,
   "metadata": {
    "collapsed": false
   },
   "outputs": [],
   "source": [
    "train_set['user_id'].value_counts()[0:1000].tail(5)"
   ]
  },
  {
   "cell_type": "code",
   "execution_count": null,
   "metadata": {
    "collapsed": false
   },
   "outputs": [],
   "source": [
    "filtered_train_set_10k = train_set[train_set['user_id'].isin(filtered_user_ids_10k)]\n",
    "filtered_train_set_100k = train_set[train_set['user_id'].isin(filtered_user_ids_100k)]"
   ]
  },
  {
   "cell_type": "code",
   "execution_count": null,
   "metadata": {
    "collapsed": false
   },
   "outputs": [],
   "source": [
    "filtered_train_set_1k = train_set[train_set['user_id'].isin(filtered_user_ids_1k)]"
   ]
  },
  {
   "cell_type": "code",
   "execution_count": null,
   "metadata": {
    "collapsed": false
   },
   "outputs": [],
   "source": [
    "filtered_train_set_10k.describe()"
   ]
  },
  {
   "cell_type": "code",
   "execution_count": null,
   "metadata": {
    "collapsed": false
   },
   "outputs": [],
   "source": [
    "filtered_train_set_10k['srch_ci'] = pd.to_datetime(filtered_train_set_10k['srch_ci'])\n",
    "filtered_train_set_10k['srch_co'] = pd.to_datetime(filtered_train_set_10k['srch_co'])"
   ]
  },
  {
   "cell_type": "code",
   "execution_count": null,
   "metadata": {
    "collapsed": false
   },
   "outputs": [],
   "source": [
    "temp = pd.to_datetime(filtered_train_set_1k['srch_ci'],errors = 'ignore')\n",
    "filtered_train_set_1k['srch_ci'] = temp\n",
    "temp = pd.to_datetime(filtered_train_set_1k['srch_co'],errors = 'ignore')\n",
    "filtered_train_set_1k['srch_co'] = temp"
   ]
  },
  {
   "cell_type": "code",
   "execution_count": null,
   "metadata": {
    "collapsed": false
   },
   "outputs": [],
   "source": [
    "filtered_train_set_10k['num_days'] = (filtered_train_set_10k['srch_co'] - filtered_train_set_10k['srch_ci']).values.astype('timedelta64[D]').astype(int)"
   ]
  },
  {
   "cell_type": "code",
   "execution_count": null,
   "metadata": {
    "collapsed": false
   },
   "outputs": [],
   "source": [
    "filtered_train_set_1k ['num_days'] = \\\n",
    " (filtered_train_set_1k['srch_co'] - filtered_train_set_1k['srch_ci']).values.astype('timedelta64[D]').astype(int)"
   ]
  },
  {
   "cell_type": "code",
   "execution_count": null,
   "metadata": {
    "collapsed": false
   },
   "outputs": [],
   "source": [
    "erroneous = filtered_train_set_1k[filtered_train_set_1k['num_days'] < 0]\n",
    "len(erroneous)"
   ]
  },
  {
   "cell_type": "code",
   "execution_count": null,
   "metadata": {
    "collapsed": false
   },
   "outputs": [],
   "source": [
    "print filtered_user_ids_1k[-2:]"
   ]
  },
  {
   "cell_type": "code",
   "execution_count": null,
   "metadata": {
    "collapsed": false
   },
   "outputs": [],
   "source": [
    "filtered_train_set_1k.to_csv('Top_1k_users.gzip',compression='gzip',index=False)"
   ]
  },
  {
   "cell_type": "code",
   "execution_count": null,
   "metadata": {
    "collapsed": false
   },
   "outputs": [],
   "source": [
    "len(filtered_train_set_1k)"
   ]
  },
  {
   "cell_type": "code",
   "execution_count": null,
   "metadata": {
    "collapsed": false
   },
   "outputs": [],
   "source": [
    "shortlist_users =[]\n",
    "for c in user_id_100:\n",
    "    print c\n",
    "    break\n",
    "    if c == 1:\n",
    "        shortlist_users.append()\n",
    "print shortlist_users"
   ]
  },
  {
   "cell_type": "code",
   "execution_count": null,
   "metadata": {
    "collapsed": true
   },
   "outputs": [],
   "source": [
    "test_set = pd.read_csv('test.csv')"
   ]
  },
  {
   "cell_type": "code",
   "execution_count": null,
   "metadata": {
    "collapsed": false
   },
   "outputs": [],
   "source": [
    "test_set.info()"
   ]
  },
  {
   "cell_type": "markdown",
   "metadata": {},
   "source": [
    "# Top 1000 Users"
   ]
  },
  {
   "cell_type": "code",
   "execution_count": 17,
   "metadata": {
    "collapsed": true
   },
   "outputs": [],
   "source": [
    "%matplotlib inline\n",
    "import numpy as np \n",
    "import pandas as pd\n",
    "import seaborn as sns\n",
    "import matplotlib.pyplot as plt\n",
    "from datetime import datetime\n",
    "from sklearn import naive_bayes\n",
    "import operator\n",
    "from pprint import pprint"
   ]
  },
  {
   "cell_type": "code",
   "execution_count": 2,
   "metadata": {
    "collapsed": false
   },
   "outputs": [],
   "source": [
    "filtered_data = pd.read_csv('Top_10k_users.csv')"
   ]
  },
  {
   "cell_type": "code",
   "execution_count": 3,
   "metadata": {
    "collapsed": false
   },
   "outputs": [
    {
     "name": "stdout",
     "output_type": "stream",
     "text": [
      "<class 'pandas.core.frame.DataFrame'>\n",
      "Int64Index: 396468 entries, 0 to 396467\n",
      "Data columns (total 25 columns):\n",
      "date_time                    396468 non-null object\n",
      "site_name                    396468 non-null int64\n",
      "posa_continent               396468 non-null int64\n",
      "user_location_country        396468 non-null int64\n",
      "user_location_region         396468 non-null int64\n",
      "user_location_city           396468 non-null int64\n",
      "orig_destination_distance    209515 non-null float64\n",
      "user_id                      396468 non-null int64\n",
      "is_mobile                    396468 non-null int64\n",
      "is_package                   396468 non-null int64\n",
      "channel                      396468 non-null int64\n",
      "srch_ci                      396270 non-null object\n",
      "srch_co                      396270 non-null object\n",
      "srch_adults_cnt              396468 non-null int64\n",
      "srch_children_cnt            396468 non-null int64\n",
      "srch_rm_cnt                  396468 non-null int64\n",
      "srch_destination_id          396468 non-null int64\n",
      "srch_destination_type_id     396468 non-null int64\n",
      "is_booking                   396468 non-null int64\n",
      "cnt                          396468 non-null int64\n",
      "hotel_continent              396468 non-null int64\n",
      "hotel_country                396468 non-null int64\n",
      "hotel_market                 396468 non-null int64\n",
      "hotel_cluster                396468 non-null int64\n",
      "num_days                     396468 non-null int64\n",
      "dtypes: float64(1), int64(21), object(3)\n",
      "memory usage: 78.6+ MB\n"
     ]
    }
   ],
   "source": [
    "filtered_data.info()"
   ]
  },
  {
   "cell_type": "code",
   "execution_count": 4,
   "metadata": {
    "collapsed": true
   },
   "outputs": [],
   "source": [
    "columns = filtered_data.columns"
   ]
  },
  {
   "cell_type": "code",
   "execution_count": 5,
   "metadata": {
    "collapsed": false
   },
   "outputs": [
    {
     "name": "stdout",
     "output_type": "stream",
     "text": [
      "Index([u'site_name', u'posa_continent', u'user_location_country',\n",
      "       u'user_location_region', u'user_location_city',\n",
      "       u'orig_destination_distance', u'user_id', u'is_mobile', u'is_package',\n",
      "       u'channel', u'srch_adults_cnt', u'srch_children_cnt', u'srch_rm_cnt',\n",
      "       u'srch_destination_id', u'srch_destination_type_id', u'is_booking',\n",
      "       u'cnt', u'hotel_continent', u'hotel_country', u'hotel_market',\n",
      "       u'num_days'],\n",
      "      dtype='object')\n"
     ]
    }
   ],
   "source": [
    "columns = columns.drop(['hotel_cluster','date_time','srch_ci','srch_co']).astype(list)\n",
    "print columns"
   ]
  },
  {
   "cell_type": "code",
   "execution_count": 16,
   "metadata": {
    "collapsed": false
   },
   "outputs": [],
   "source": [
    "def content_based_nbc (X,Y):\n",
    "    gnb = naive_bayes.GaussianNB()\n",
    "    y_predict = gnb.fit(X,Y).predict(X)\n",
    "    y_predict_pb = gnb.predict_proba(X)\n",
    "    accuracy_top = 0.0\n",
    "    Y_predicted_top = []\n",
    "    for i in range(len(y_predict_pb)):\n",
    "        ordered = sorted(zip(gnb.classes_,y_predict_pb[i]), key= operator.itemgetter(1),reverse=True)[0:3]\n",
    "        Y_predicted_top.append(ordered)\n",
    "        if (len(ordered) >= 3):\n",
    "            accuracy_top += ((ordered[0][0] == Y[i]) or (ordered[1][0] == Y[i]) or (ordered[2][0] == Y[i]))\n",
    "        elif (len(ordered) >= 2):\n",
    "            accuracy_top += ((ordered[0][0] == Y[i]) or (ordered[1][0] == Y[i]))\n",
    "        else:\n",
    "            accuracy_top += ((ordered[0][0] == Y[i]))\n",
    "        #print \"From Top %s,%s,%s\" %(ordered[0][0],y_predict[i],Y[i])\n",
    "    '''%xdel gnb\n",
    "    %xdel y_predict_pb\n",
    "    %xdel y_predict\n",
    "    %xdel ordered'''\n",
    "    accuracy = (Y == y_predict).sum()*1.0/len(X)\n",
    "    accuracy_top = accuracy_top*1.0/len(X)\n",
    "    #print accuracy,accuracy_top\n",
    "    return (accuracy,accuracy_top,Y_predicted_top)"
   ]
  },
  {
   "cell_type": "code",
   "execution_count": 7,
   "metadata": {
    "collapsed": false
   },
   "outputs": [
    {
     "name": "stdout",
     "output_type": "stream",
     "text": [
      "1000\n",
      "Before dropping na 396468\n",
      "After dropping na 209444\n"
     ]
    }
   ],
   "source": [
    "users = filtered_data['user_id'].unique()\n",
    "print len(users)\n",
    "print \"Before dropping na\", len(filtered_data)\n",
    "filtered_data = filtered_data.dropna()\n",
    "filtered_data = filtered_data.reset_index(drop=True)\n",
    "print \"After dropping na\", len(filtered_data)\n",
    "#filtered_data = filtered_data[filtered_data['num_days']>=0]"
   ]
  },
  {
   "cell_type": "code",
   "execution_count": 8,
   "metadata": {
    "collapsed": false
   },
   "outputs": [
    {
     "name": "stdout",
     "output_type": "stream",
     "text": [
      "740\n"
     ]
    }
   ],
   "source": [
    "users = filtered_data['user_id'].unique()\n",
    "print len(users)"
   ]
  },
  {
   "cell_type": "code",
   "execution_count": null,
   "metadata": {
    "collapsed": false
   },
   "outputs": [],
   "source": [
    "ordered[-1][:-5:-1]"
   ]
  },
  {
   "cell_type": "code",
   "execution_count": 19,
   "metadata": {
    "collapsed": false,
    "scrolled": true
   },
   "outputs": [
    {
     "name": "stdout",
     "output_type": "stream",
     "text": [
      "0.398971610773 0.614429472914\n"
     ]
    }
   ],
   "source": [
    "accuracy = {}\n",
    "avg_accuracy = 0.0\n",
    "avg_accuracy_top = 0.0\n",
    "#Y_predicted_top = []\n",
    "for user in users:\n",
    "    filtered = filtered_data[filtered_data['user_id'] == user]\n",
    "    filtered = filtered.reset_index(drop=True)\n",
    "    X = filtered[columns]\n",
    "    Y = filtered['hotel_cluster']\n",
    "    acc,acc_top,Y_predicted_top = content_based_nbc(X,Y)\n",
    "    accuracy[user] = acc\n",
    "    avg_accuracy += acc\n",
    "    avg_accuracy_top += acc_top\n",
    "    #pprint(Y_predicted_top)\n",
    "    %xdel X\n",
    "    %xdel Y \n",
    "    %xdel filtered\n",
    "    %xdel Y_predicted_top\n",
    "print avg_accuracy*1.0/len(users),avg_accuracy_top*1.0/len(users)"
   ]
  },
  {
   "cell_type": "code",
   "execution_count": null,
   "metadata": {
    "collapsed": false
   },
   "outputs": [],
   "source": [
    "X = filtered_data[filtered_data['user_id'] == users[0]][columns]\n",
    "print len(X), len(filtered_data)"
   ]
  },
  {
   "cell_type": "code",
   "execution_count": null,
   "metadata": {
    "collapsed": false
   },
   "outputs": [],
   "source": [
    "gnb = naive_bayes.GaussianNB()\n",
    "y_predict = gnb.fit(X,filtered_data[filtered_data['user_id'] == users[0]]['hotel_cluster']).predict(X)"
   ]
  },
  {
   "cell_type": "code",
   "execution_count": null,
   "metadata": {
    "collapsed": false
   },
   "outputs": [],
   "source": [
    "print(\"Number of mislabeled points out of a total %d points : %d\"\\\n",
    "      %(len(filtered_data),(filtered_data[\"hotel_cluster\"]!= y_predict).sum()))"
   ]
  },
  {
   "cell_type": "code",
   "execution_count": null,
   "metadata": {
    "collapsed": false
   },
   "outputs": [],
   "source": [
    "print (filtered_data[filtered_data['user_id'] == users[0]][\"hotel_cluster\"]== y_predict).sum()*1.0/len(X)"
   ]
  },
  {
   "cell_type": "code",
   "execution_count": null,
   "metadata": {
    "collapsed": true
   },
   "outputs": [],
   "source": [
    "import operator"
   ]
  },
  {
   "cell_type": "code",
   "execution_count": null,
   "metadata": {
    "collapsed": false
   },
   "outputs": [],
   "source": [
    "pred = gnb.predict_proba(X)\n",
    "print sorted(zip(gnb.classes_,pred[0]), key= operator.itemgetter(1),reverse=True)[0:5]\n",
    "print y_predict[-1]"
   ]
  },
  {
   "cell_type": "code",
   "execution_count": null,
   "metadata": {
    "collapsed": false
   },
   "outputs": [],
   "source": [
    "y_top = []\n",
    "for i in range(len(ordered)):\n",
    "    y_top.append(ordered[i])\n",
    "print y_top"
   ]
  },
  {
   "cell_type": "code",
   "execution_count": null,
   "metadata": {
    "collapsed": false
   },
   "outputs": [],
   "source": [
    "y_predict"
   ]
  },
  {
   "cell_type": "code",
   "execution_count": null,
   "metadata": {
    "collapsed": false
   },
   "outputs": [],
   "source": [
    "first_users = zip(ordered[0],pred[0][ordered[0]])[:-10:-1]"
   ]
  },
  {
   "cell_type": "code",
   "execution_count": null,
   "metadata": {
    "collapsed": false
   },
   "outputs": [],
   "source": [
    "a = 0.0\n",
    "a += (ordered[0][-1] == 3)\n",
    "print a"
   ]
  },
  {
   "cell_type": "code",
   "execution_count": null,
   "metadata": {
    "collapsed": false
   },
   "outputs": [],
   "source": [
    "zip(ordered[0],pred[0][ordered[0]])[::-1]"
   ]
  },
  {
   "cell_type": "code",
   "execution_count": null,
   "metadata": {
    "collapsed": true
   },
   "outputs": [],
   "source": []
  }
 ],
 "metadata": {
  "kernelspec": {
   "display_name": "Python 2",
   "language": "python",
   "name": "python2"
  },
  "language_info": {
   "codemirror_mode": {
    "name": "ipython",
    "version": 2
   },
   "file_extension": ".py",
   "mimetype": "text/x-python",
   "name": "python",
   "nbconvert_exporter": "python",
   "pygments_lexer": "ipython2",
   "version": "2.7.11"
  }
 },
 "nbformat": 4,
 "nbformat_minor": 0
}
