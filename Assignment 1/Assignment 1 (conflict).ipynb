{
 "cells": [
  {
   "cell_type": "code",
   "execution_count": 32,
   "metadata": {
    "collapsed": true
   },
   "outputs": [],
   "source": [
    "%matplotlib inline\n",
    "import pandas as pd\n",
    "import numpy\n",
    "import sys\n",
    "import matplotlib.pyplot as plt\n",
    "import scipy.stats as ss"
   ]
  },
  {
   "cell_type": "markdown",
   "metadata": {},
   "source": [
    "## Get the file name from the command line"
   ]
  },
  {
   "cell_type": "code",
   "execution_count": 4,
   "metadata": {
    "collapsed": false
   },
   "outputs": [],
   "source": [
    "'''if(len(sys.argv) != 2):\n",
    "    return -1\n",
    "else:'''\n",
    "input_csv = sys.argv[1]"
   ]
  },
  {
   "cell_type": "code",
   "execution_count": 40,
   "metadata": {
    "collapsed": false
   },
   "outputs": [
    {
     "ename": "IOError",
     "evalue": "File -f does not exist",
     "output_type": "error",
     "traceback": [
      "\u001b[0;31m---------------------------------------------------------------------------\u001b[0m",
      "\u001b[0;31mIOError\u001b[0m                                   Traceback (most recent call last)",
      "\u001b[0;32m<ipython-input-40-81d481e20a0e>\u001b[0m in \u001b[0;36m<module>\u001b[0;34m()\u001b[0m\n\u001b[1;32m      1\u001b[0m \u001b[0;31m#county_health_records = pd.read_csv('2015_CHR_Analytic_Data.csv',low_memory=False)\u001b[0m\u001b[0;34m\u001b[0m\u001b[0;34m\u001b[0m\u001b[0m\n\u001b[0;32m----> 2\u001b[0;31m \u001b[0mcounty_health_records\u001b[0m \u001b[0;34m=\u001b[0m \u001b[0mpd\u001b[0m\u001b[0;34m.\u001b[0m\u001b[0mread_csv\u001b[0m\u001b[0;34m(\u001b[0m\u001b[0minput_csv\u001b[0m\u001b[0;34m,\u001b[0m\u001b[0mlow_memory\u001b[0m\u001b[0;34m=\u001b[0m\u001b[0mFalse\u001b[0m\u001b[0;34m)\u001b[0m\u001b[0;34m\u001b[0m\u001b[0m\n\u001b[0m\u001b[1;32m      3\u001b[0m \u001b[0;31m#print len(county_health_records)\u001b[0m\u001b[0;34m\u001b[0m\u001b[0;34m\u001b[0m\u001b[0m\n\u001b[1;32m      4\u001b[0m \u001b[0mcounty_health_records\u001b[0m \u001b[0;34m=\u001b[0m \u001b[0mcounty_health_records\u001b[0m\u001b[0;34m[\u001b[0m\u001b[0mcounty_health_records\u001b[0m\u001b[0;34m[\u001b[0m\u001b[0;34m'COUNTYCODE'\u001b[0m\u001b[0;34m]\u001b[0m \u001b[0;34m!=\u001b[0m \u001b[0;36m0\u001b[0m\u001b[0;34m]\u001b[0m\u001b[0;34m\u001b[0m\u001b[0m\n\u001b[1;32m      5\u001b[0m \u001b[0;31m#print len(county_health_records)\u001b[0m\u001b[0;34m\u001b[0m\u001b[0;34m\u001b[0m\u001b[0m\n",
      "\u001b[0;32m/Users/basavakanaparthi/anaconda/lib/python2.7/site-packages/pandas/io/parsers.pyc\u001b[0m in \u001b[0;36mparser_f\u001b[0;34m(filepath_or_buffer, sep, dialect, compression, doublequote, escapechar, quotechar, quoting, skipinitialspace, lineterminator, header, index_col, names, prefix, skiprows, skipfooter, skip_footer, na_values, true_values, false_values, delimiter, converters, dtype, usecols, engine, delim_whitespace, as_recarray, na_filter, compact_ints, use_unsigned, low_memory, buffer_lines, warn_bad_lines, error_bad_lines, keep_default_na, thousands, comment, decimal, parse_dates, keep_date_col, dayfirst, date_parser, memory_map, float_precision, nrows, iterator, chunksize, verbose, encoding, squeeze, mangle_dupe_cols, tupleize_cols, infer_datetime_format, skip_blank_lines)\u001b[0m\n\u001b[1;32m    496\u001b[0m                     skip_blank_lines=skip_blank_lines)\n\u001b[1;32m    497\u001b[0m \u001b[0;34m\u001b[0m\u001b[0m\n\u001b[0;32m--> 498\u001b[0;31m         \u001b[0;32mreturn\u001b[0m \u001b[0m_read\u001b[0m\u001b[0;34m(\u001b[0m\u001b[0mfilepath_or_buffer\u001b[0m\u001b[0;34m,\u001b[0m \u001b[0mkwds\u001b[0m\u001b[0;34m)\u001b[0m\u001b[0;34m\u001b[0m\u001b[0m\n\u001b[0m\u001b[1;32m    499\u001b[0m \u001b[0;34m\u001b[0m\u001b[0m\n\u001b[1;32m    500\u001b[0m     \u001b[0mparser_f\u001b[0m\u001b[0;34m.\u001b[0m\u001b[0m__name__\u001b[0m \u001b[0;34m=\u001b[0m \u001b[0mname\u001b[0m\u001b[0;34m\u001b[0m\u001b[0m\n",
      "\u001b[0;32m/Users/basavakanaparthi/anaconda/lib/python2.7/site-packages/pandas/io/parsers.pyc\u001b[0m in \u001b[0;36m_read\u001b[0;34m(filepath_or_buffer, kwds)\u001b[0m\n\u001b[1;32m    273\u001b[0m \u001b[0;34m\u001b[0m\u001b[0m\n\u001b[1;32m    274\u001b[0m     \u001b[0;31m# Create the parser.\u001b[0m\u001b[0;34m\u001b[0m\u001b[0;34m\u001b[0m\u001b[0m\n\u001b[0;32m--> 275\u001b[0;31m     \u001b[0mparser\u001b[0m \u001b[0;34m=\u001b[0m \u001b[0mTextFileReader\u001b[0m\u001b[0;34m(\u001b[0m\u001b[0mfilepath_or_buffer\u001b[0m\u001b[0;34m,\u001b[0m \u001b[0;34m**\u001b[0m\u001b[0mkwds\u001b[0m\u001b[0;34m)\u001b[0m\u001b[0;34m\u001b[0m\u001b[0m\n\u001b[0m\u001b[1;32m    276\u001b[0m \u001b[0;34m\u001b[0m\u001b[0m\n\u001b[1;32m    277\u001b[0m     \u001b[0;32mif\u001b[0m \u001b[0;34m(\u001b[0m\u001b[0mnrows\u001b[0m \u001b[0;32mis\u001b[0m \u001b[0;32mnot\u001b[0m \u001b[0mNone\u001b[0m\u001b[0;34m)\u001b[0m \u001b[0;32mand\u001b[0m \u001b[0;34m(\u001b[0m\u001b[0mchunksize\u001b[0m \u001b[0;32mis\u001b[0m \u001b[0;32mnot\u001b[0m \u001b[0mNone\u001b[0m\u001b[0;34m)\u001b[0m\u001b[0;34m:\u001b[0m\u001b[0;34m\u001b[0m\u001b[0m\n",
      "\u001b[0;32m/Users/basavakanaparthi/anaconda/lib/python2.7/site-packages/pandas/io/parsers.pyc\u001b[0m in \u001b[0;36m__init__\u001b[0;34m(self, f, engine, **kwds)\u001b[0m\n\u001b[1;32m    588\u001b[0m             \u001b[0mself\u001b[0m\u001b[0;34m.\u001b[0m\u001b[0moptions\u001b[0m\u001b[0;34m[\u001b[0m\u001b[0;34m'has_index_names'\u001b[0m\u001b[0;34m]\u001b[0m \u001b[0;34m=\u001b[0m \u001b[0mkwds\u001b[0m\u001b[0;34m[\u001b[0m\u001b[0;34m'has_index_names'\u001b[0m\u001b[0;34m]\u001b[0m\u001b[0;34m\u001b[0m\u001b[0m\n\u001b[1;32m    589\u001b[0m \u001b[0;34m\u001b[0m\u001b[0m\n\u001b[0;32m--> 590\u001b[0;31m         \u001b[0mself\u001b[0m\u001b[0;34m.\u001b[0m\u001b[0m_make_engine\u001b[0m\u001b[0;34m(\u001b[0m\u001b[0mself\u001b[0m\u001b[0;34m.\u001b[0m\u001b[0mengine\u001b[0m\u001b[0;34m)\u001b[0m\u001b[0;34m\u001b[0m\u001b[0m\n\u001b[0m\u001b[1;32m    591\u001b[0m \u001b[0;34m\u001b[0m\u001b[0m\n\u001b[1;32m    592\u001b[0m     \u001b[0;32mdef\u001b[0m \u001b[0m_get_options_with_defaults\u001b[0m\u001b[0;34m(\u001b[0m\u001b[0mself\u001b[0m\u001b[0;34m,\u001b[0m \u001b[0mengine\u001b[0m\u001b[0;34m)\u001b[0m\u001b[0;34m:\u001b[0m\u001b[0;34m\u001b[0m\u001b[0m\n",
      "\u001b[0;32m/Users/basavakanaparthi/anaconda/lib/python2.7/site-packages/pandas/io/parsers.pyc\u001b[0m in \u001b[0;36m_make_engine\u001b[0;34m(self, engine)\u001b[0m\n\u001b[1;32m    729\u001b[0m     \u001b[0;32mdef\u001b[0m \u001b[0m_make_engine\u001b[0m\u001b[0;34m(\u001b[0m\u001b[0mself\u001b[0m\u001b[0;34m,\u001b[0m \u001b[0mengine\u001b[0m\u001b[0;34m=\u001b[0m\u001b[0;34m'c'\u001b[0m\u001b[0;34m)\u001b[0m\u001b[0;34m:\u001b[0m\u001b[0;34m\u001b[0m\u001b[0m\n\u001b[1;32m    730\u001b[0m         \u001b[0;32mif\u001b[0m \u001b[0mengine\u001b[0m \u001b[0;34m==\u001b[0m \u001b[0;34m'c'\u001b[0m\u001b[0;34m:\u001b[0m\u001b[0;34m\u001b[0m\u001b[0m\n\u001b[0;32m--> 731\u001b[0;31m             \u001b[0mself\u001b[0m\u001b[0;34m.\u001b[0m\u001b[0m_engine\u001b[0m \u001b[0;34m=\u001b[0m \u001b[0mCParserWrapper\u001b[0m\u001b[0;34m(\u001b[0m\u001b[0mself\u001b[0m\u001b[0;34m.\u001b[0m\u001b[0mf\u001b[0m\u001b[0;34m,\u001b[0m \u001b[0;34m**\u001b[0m\u001b[0mself\u001b[0m\u001b[0;34m.\u001b[0m\u001b[0moptions\u001b[0m\u001b[0;34m)\u001b[0m\u001b[0;34m\u001b[0m\u001b[0m\n\u001b[0m\u001b[1;32m    732\u001b[0m         \u001b[0;32melse\u001b[0m\u001b[0;34m:\u001b[0m\u001b[0;34m\u001b[0m\u001b[0m\n\u001b[1;32m    733\u001b[0m             \u001b[0;32mif\u001b[0m \u001b[0mengine\u001b[0m \u001b[0;34m==\u001b[0m \u001b[0;34m'python'\u001b[0m\u001b[0;34m:\u001b[0m\u001b[0;34m\u001b[0m\u001b[0m\n",
      "\u001b[0;32m/Users/basavakanaparthi/anaconda/lib/python2.7/site-packages/pandas/io/parsers.pyc\u001b[0m in \u001b[0;36m__init__\u001b[0;34m(self, src, **kwds)\u001b[0m\n\u001b[1;32m   1101\u001b[0m         \u001b[0mkwds\u001b[0m\u001b[0;34m[\u001b[0m\u001b[0;34m'allow_leading_cols'\u001b[0m\u001b[0;34m]\u001b[0m \u001b[0;34m=\u001b[0m \u001b[0mself\u001b[0m\u001b[0;34m.\u001b[0m\u001b[0mindex_col\u001b[0m \u001b[0;32mis\u001b[0m \u001b[0;32mnot\u001b[0m \u001b[0mFalse\u001b[0m\u001b[0;34m\u001b[0m\u001b[0m\n\u001b[1;32m   1102\u001b[0m \u001b[0;34m\u001b[0m\u001b[0m\n\u001b[0;32m-> 1103\u001b[0;31m         \u001b[0mself\u001b[0m\u001b[0;34m.\u001b[0m\u001b[0m_reader\u001b[0m \u001b[0;34m=\u001b[0m \u001b[0m_parser\u001b[0m\u001b[0;34m.\u001b[0m\u001b[0mTextReader\u001b[0m\u001b[0;34m(\u001b[0m\u001b[0msrc\u001b[0m\u001b[0;34m,\u001b[0m \u001b[0;34m**\u001b[0m\u001b[0mkwds\u001b[0m\u001b[0;34m)\u001b[0m\u001b[0;34m\u001b[0m\u001b[0m\n\u001b[0m\u001b[1;32m   1104\u001b[0m \u001b[0;34m\u001b[0m\u001b[0m\n\u001b[1;32m   1105\u001b[0m         \u001b[0;31m# XXX\u001b[0m\u001b[0;34m\u001b[0m\u001b[0;34m\u001b[0m\u001b[0m\n",
      "\u001b[0;32mpandas/parser.pyx\u001b[0m in \u001b[0;36mpandas.parser.TextReader.__cinit__ (pandas/parser.c:3246)\u001b[0;34m()\u001b[0m\n",
      "\u001b[0;32mpandas/parser.pyx\u001b[0m in \u001b[0;36mpandas.parser.TextReader._setup_parser_source (pandas/parser.c:6111)\u001b[0;34m()\u001b[0m\n",
      "\u001b[0;31mIOError\u001b[0m: File -f does not exist"
     ]
    }
   ],
   "source": [
    "#county_health_records = pd.read_csv('2015_CHR_Analytic_Data.csv',low_memory=False)\n",
    "county_health_records = pd.read_csv(input_csv,low_memory=False)\n",
    "#print len(county_health_records)\n",
    "county_health_records = county_health_records[county_health_records['COUNTYCODE'] != 0]\n",
    "#print len(county_health_records)\n",
    "# county_health_records = pd.read_csv(input_csv,low_memory=False)"
   ]
  },
  {
   "cell_type": "code",
   "execution_count": 6,
   "metadata": {
    "collapsed": false
   },
   "outputs": [],
   "source": [
    "column_headers = county_health_records.columns"
   ]
  },
  {
   "cell_type": "code",
   "execution_count": 7,
   "metadata": {
    "collapsed": false
   },
   "outputs": [],
   "source": [
    "column_headers_value = list()\n",
    "for c in column_headers:\n",
    "    if c.endswith(\"Value\"):\n",
    "        column_headers_value.append(c)"
   ]
  },
  {
   "cell_type": "code",
   "execution_count": 8,
   "metadata": {
    "collapsed": false
   },
   "outputs": [
    {
     "data": {
      "text/plain": [
       "55"
      ]
     },
     "execution_count": 8,
     "metadata": {},
     "output_type": "execute_result"
    }
   ],
   "source": [
    "len(column_headers_value)"
   ]
  },
  {
   "cell_type": "code",
   "execution_count": 9,
   "metadata": {
    "collapsed": false,
    "scrolled": true
   },
   "outputs": [
    {
     "name": "stdout",
     "output_type": "stream",
     "text": [
      "(1) COLUMN HEADERS:  ['Premature death Value', 'Poor or fair health Value', 'Poor physical health days Value', 'Poor mental health days Value', 'Low birthweight Value', 'Adult smoking Value', 'Adult obesity Value', 'Food environment index Value', 'Physical inactivity Value', 'Access to exercise opportunities Value', 'Excessive drinking Value', 'Alcohol-impaired driving deaths Value', 'Sexually transmitted infections Value', 'Teen births Value', 'Uninsured Value', 'Primary care physicians Value', 'Dentists Value', 'Mental health providers Value', 'Preventable hospital stays Value', 'Diabetic screening Value', 'Mammography screening Value', 'High school graduation Value', 'Some college Value', 'Unemployment Value', 'Children in poverty Value', 'Income inequality Value', 'Children in single-parent households Value', 'Social associations Value', 'Violent crime Value', 'Injury deaths Value', 'Air pollution - particulate matter Value', 'Drinking water violations Value', 'Severe housing problems Value', 'Driving alone to work Value', 'Long commute - driving alone Value', '2011 population estimate Value', 'Population that is not proficient in English Value', 'Population living in a rural area Value', 'Diabetes Value', 'HIV prevalence rate Value', 'Premature age-adjusted mortality Value', 'Infant mortality Value', 'Child mortality Value', 'Food insecurity Value', 'Limited access to healthy foods Value', 'Motor vehicle crash deaths Value', 'Drug poisoning deaths Value', 'Uninsured adults Value', 'Uninsured children Value', 'Health care costs Value', 'Could not see doctor due to cost Value', 'Other primary care providers Value', 'Median household income Value', 'Children eligible for free lunch Value', 'Homicide rate Value']\n"
     ]
    }
   ],
   "source": [
    "print '(1) COLUMN HEADERS: ', column_headers_value"
   ]
  },
  {
   "cell_type": "markdown",
   "metadata": {},
   "source": [
    "## A. (1) All column headers ending in “Value”\n",
    "### 55 in total\n",
    "(1) COLUMN HEADERS:  ['Premature death Value', 'Poor or fair health Value', 'Poor physical health days Value', 'Poor mental health days Value', 'Low birthweight Value', 'Adult smoking Value', 'Adult obesity Value', 'Food environment index Value', 'Physical inactivity Value', 'Access to exercise opportunities Value', 'Excessive drinking Value', 'Alcohol-impaired driving deaths Value', 'Sexually transmitted infections Value', 'Teen births Value', 'Uninsured Value', 'Primary care physicians Value', 'Dentists Value', 'Mental health providers Value', 'Preventable hospital stays Value', 'Diabetic screening Value', 'Mammography screening Value', 'High school graduation Value', 'Some college Value', 'Unemployment Value', 'Children in poverty Value', 'Income inequality Value', 'Children in single-parent households Value', 'Social associations Value', 'Violent crime Value', 'Injury deaths Value', 'Air pollution - particulate matter Value', 'Drinking water violations Value', 'Severe housing problems Value', 'Driving alone to work Value', 'Long commute - driving alone Value', '2011 population estimate Value', 'Population that is not proficient in English Value', 'Population living in a rural area Value', 'Diabetes Value', 'HIV prevalence rate Value', 'Premature age-adjusted mortality Value', 'Infant mortality Value', 'Child mortality Value', 'Food insecurity Value', 'Limited access to healthy foods Value', 'Motor vehicle crash deaths Value', 'Drug poisoning deaths Value', 'Uninsured adults Value', 'Uninsured children Value', 'Health care costs Value', 'Could not see doctor due to cost Value', 'Other primary care providers Value', 'Median household income Value', 'Children eligible for free lunch Value', 'Homicide rate Value']"
   ]
  },
  {
   "cell_type": "code",
   "execution_count": 10,
   "metadata": {
    "collapsed": false
   },
   "outputs": [
    {
     "data": {
      "text/plain": [
       "1875"
      ]
     },
     "execution_count": 10,
     "metadata": {},
     "output_type": "execute_result"
    }
   ],
   "source": [
    "print len(county_health_records['County'].unique())"
   ]
  },
  {
   "cell_type": "markdown",
   "metadata": {},
   "source": [
    "## (2) The total number of counties in the file.\n",
    "1875"
   ]
  },
  {
   "cell_type": "code",
   "execution_count": 11,
   "metadata": {
    "collapsed": false
   },
   "outputs": [
    {
     "name": "stdout",
     "output_type": "stream",
     "text": [
      "Not ranked 79.0\n",
      "Ranked 3062\n",
      "Total counties 3141\n"
     ]
    }
   ],
   "source": [
    "#print 'Not ranked', county_health_records['County that was not ranked'].sum()\n",
    "print 'Ranked', len(county_health_records[county_health_records['County that was not ranked'] != 1])\n",
    "#print 'Total counties', len(county_health_records)"
   ]
  },
  {
   "cell_type": "markdown",
   "metadata": {},
   "source": [
    "## (3) The total number of counties without a “1” in the field “County that was not ranked”\n",
    "3062"
   ]
  },
  {
   "cell_type": "markdown",
   "metadata": {},
   "source": [
    "## B. (4) A histogram of the field “2011 population value”. Choose an appropriate number of bins"
   ]
  },
  {
   "cell_type": "code",
   "execution_count": 12,
   "metadata": {
    "collapsed": false
   },
   "outputs": [
    {
     "data": {
      "text/plain": [
       "3141"
      ]
     },
     "execution_count": 12,
     "metadata": {},
     "output_type": "execute_result"
    }
   ],
   "source": [
    "population_estimate = county_health_records['2011 population estimate Value']\n",
    "#population_estimate = population_estimate.set_index(['County'])\n",
    "#len(population_estimate)"
   ]
  },
  {
   "cell_type": "code",
   "execution_count": 13,
   "metadata": {
    "collapsed": false
   },
   "outputs": [
    {
     "data": {
      "text/plain": [
       "3141"
      ]
     },
     "execution_count": 13,
     "metadata": {},
     "output_type": "execute_result"
    }
   ],
   "source": [
    "population_estimate = [p.replace(',','') for p in population_estimate]\n",
    "population_estimate = pd.to_numeric(population_estimate)\n",
    "len(population_estimate)\n"
   ]
  },
  {
   "cell_type": "code",
   "execution_count": 14,
   "metadata": {
    "collapsed": false
   },
   "outputs": [
    {
     "data": {
      "text/plain": [
       "\"population = list()\\nfor p in population_estimate:\\n    population.append(p.replace(',',''))\\npopulation = pd.to_numeric(population)\""
      ]
     },
     "execution_count": 14,
     "metadata": {},
     "output_type": "execute_result"
    }
   ],
   "source": [
    "'''population = list()\n",
    "for p in population_estimate:\n",
    "    population.append(p.replace(',',''))\n",
    "population = pd.to_numeric(population)'''"
   ]
  },
  {
   "cell_type": "code",
   "execution_count": 15,
   "metadata": {
    "collapsed": false
   },
   "outputs": [],
   "source": [
    "population_estimate = pd.DataFrame(population_estimate)\n",
    "population_estimate['population'] = pd.DataFrame(population_estimate)"
   ]
  },
  {
   "cell_type": "code",
   "execution_count": 16,
   "metadata": {
    "collapsed": false
   },
   "outputs": [
    {
     "data": {
      "text/html": [
       "<div>\n",
       "<table border=\"1\" class=\"dataframe\">\n",
       "  <thead>\n",
       "    <tr style=\"text-align: right;\">\n",
       "      <th></th>\n",
       "      <th>population</th>\n",
       "    </tr>\n",
       "  </thead>\n",
       "  <tbody>\n",
       "    <tr>\n",
       "      <th>0</th>\n",
       "      <td>55246</td>\n",
       "    </tr>\n",
       "    <tr>\n",
       "      <th>1</th>\n",
       "      <td>195540</td>\n",
       "    </tr>\n",
       "    <tr>\n",
       "      <th>2</th>\n",
       "      <td>27076</td>\n",
       "    </tr>\n",
       "    <tr>\n",
       "      <th>3</th>\n",
       "      <td>22512</td>\n",
       "    </tr>\n",
       "    <tr>\n",
       "      <th>4</th>\n",
       "      <td>57872</td>\n",
       "    </tr>\n",
       "  </tbody>\n",
       "</table>\n",
       "</div>"
      ],
      "text/plain": [
       "   population\n",
       "0       55246\n",
       "1      195540\n",
       "2       27076\n",
       "3       22512\n",
       "4       57872"
      ]
     },
     "execution_count": 16,
     "metadata": {},
     "output_type": "execute_result"
    }
   ],
   "source": [
    "del population_estimate[0]\n",
    "population_estimate.head()"
   ]
  },
  {
   "cell_type": "code",
   "execution_count": 17,
   "metadata": {
    "collapsed": false
   },
   "outputs": [
    {
     "data": {
      "text/plain": [
       "'#population = population.T\\nprint type(population)\\nprint population'"
      ]
     },
     "execution_count": 17,
     "metadata": {},
     "output_type": "execute_result"
    }
   ],
   "source": [
    "'''#population = population.T\n",
    "print type(population)\n",
    "print population'''"
   ]
  },
  {
   "cell_type": "code",
   "execution_count": 18,
   "metadata": {
    "collapsed": false
   },
   "outputs": [
    {
     "name": "stdout",
     "output_type": "stream",
     "text": [
      "[3008   93   17    9    6    2    2    0    2    0    1    0    0    0    0\n",
      "    0    0    0    0    1]\n"
     ]
    }
   ],
   "source": [
    "plot, bins = numpy.histogram(population_estimate, bins = 20)\n",
    "print plot"
   ]
  },
  {
   "cell_type": "code",
   "execution_count": 19,
   "metadata": {
    "collapsed": false
   },
   "outputs": [
    {
     "data": {
      "image/png": "[encoded data removed]",
      "text/plain": [
       "<matplotlib.figure.Figure at 0x106b545d0>"
      ]
     },
     "metadata": {},
     "output_type": "display_data"
    }
   ],
   "source": [
    "plt.hist(population_estimate['population'],bins = 20)\n",
    "#plt.hist(plot)\n",
    "plt.ylabel('Number of counties')\n",
    "plt.xlabel('Population size')\n",
    "plt.title(\"Histogram of '2011 population estimate Value'\")\n",
    "plt.show()"
   ]
  },
  {
   "cell_type": "markdown",
   "metadata": {},
   "source": [
    "## B. (5) HISTOGRAM OF LOG POPULATION"
   ]
  },
  {
   "cell_type": "code",
   "execution_count": 20,
   "metadata": {
    "collapsed": false
   },
   "outputs": [
    {
     "name": "stdout",
     "output_type": "stream",
     "text": [
      "10.2716296201\n"
     ]
    },
    {
     "data": {
      "image/png": "[encoded data removed]",
      "text/plain": [
       "<matplotlib.figure.Figure at 0x106b54510>"
      ]
     },
     "metadata": {},
     "output_type": "display_data"
    }
   ],
   "source": [
    "population_estimate['log_pop'] = numpy.log(population_estimate['population'])\n",
    "print population_estimate['log_pop'].mean()\n",
    "plt.hist(population_estimate['log_pop'],bins = 20)\n",
    "plt.ylabel('Number of counties')\n",
    "plt.xlabel('Log of Population sizes')\n",
    "plt.title(\"Histogram of Log('2011 population estimate Value')\")\n",
    "plt.show()"
   ]
  },
  {
   "cell_type": "code",
   "execution_count": 21,
   "metadata": {
    "collapsed": false
   },
   "outputs": [],
   "source": [
    "#pop_pd = pd.Series(population)"
   ]
  },
  {
   "cell_type": "code",
   "execution_count": 22,
   "metadata": {
    "collapsed": false
   },
   "outputs": [
    {
     "data": {
      "text/plain": [
       "'print pop_pd.describe()\\nimport scipy.stats\\nprint scipy.stats.describe(population)'"
      ]
     },
     "execution_count": 22,
     "metadata": {},
     "output_type": "execute_result"
    }
   ],
   "source": [
    "'''print pop_pd.describe()\n",
    "import scipy.stats\n",
    "print scipy.stats.describe(population)'''"
   ]
  },
  {
   "cell_type": "code",
   "execution_count": 23,
   "metadata": {
    "collapsed": false
   },
   "outputs": [
    {
     "data": {
      "text/plain": [
       "'pop_pd.hist(bins=10)'"
      ]
     },
     "execution_count": 23,
     "metadata": {},
     "output_type": "execute_result"
    }
   ],
   "source": [
    "'''pop_pd.hist(bins=10)'''"
   ]
  },
  {
   "cell_type": "code",
   "execution_count": 24,
   "metadata": {
    "collapsed": false
   },
   "outputs": [
    {
     "data": {
      "text/plain": [
       "\"pop_pd.plot(logy = True, bins=10, kind='hist')\""
      ]
     },
     "execution_count": 24,
     "metadata": {},
     "output_type": "execute_result"
    }
   ],
   "source": [
    "'''pop_pd.plot(logy = True, bins=10, kind='hist')'''"
   ]
  },
  {
   "cell_type": "code",
   "execution_count": 25,
   "metadata": {
    "collapsed": false
   },
   "outputs": [
    {
     "data": {
      "text/plain": [
       "\"county_health_records['log_pop'] = numpy.log(pop_pd)\\ncounty_health_records['log_pop'].mean()\""
      ]
     },
     "execution_count": 25,
     "metadata": {},
     "output_type": "execute_result"
    }
   ],
   "source": [
    "'''county_health_records['log_pop'] = numpy.log(pop_pd)\n",
    "county_health_records['log_pop'].mean()'''"
   ]
  },
  {
   "cell_type": "code",
   "execution_count": 26,
   "metadata": {
    "collapsed": false
   },
   "outputs": [
    {
     "data": {
      "text/plain": [
       "array([[<matplotlib.axes._subplots.AxesSubplot object at 0x10713cb50>,\n",
       "        <matplotlib.axes._subplots.AxesSubplot object at 0x107add750>]], dtype=object)"
      ]
     },
     "execution_count": 26,
     "metadata": {},
     "output_type": "execute_result"
    },
    {
     "data": {
      "image/png": "[encoded data removed]",
      "text/plain": [
       "<matplotlib.figure.Figure at 0x107149210>"
      ]
     },
     "metadata": {},
     "output_type": "display_data"
    }
   ],
   "source": [
    "population_estimate.hist(bins = 10)"
   ]
  },
  {
   "cell_type": "markdown",
   "metadata": {},
   "source": [
    "## B. (6) KERNEL DENSITY ESTIMATES"
   ]
  },
  {
   "cell_type": "code",
   "execution_count": 27,
   "metadata": {
    "collapsed": false
   },
   "outputs": [
    {
     "name": "stdout",
     "output_type": "stream",
     "text": [
      "3013\n",
      "79\n"
     ]
    }
   ],
   "source": [
    "county_health_records['log_pop'] = population_estimate['log_pop']\n",
    "pop_log_ranked = county_health_records[county_health_records['County that was not ranked'] != 1]['log_pop']\n",
    "pop_log_no_rank = county_health_records[county_health_records['County that was not ranked'] == 1]['log_pop']\n",
    "pop_log_ranked = pop_log_ranked.dropna()\n",
    "print len(pop_log_ranked)\n",
    "print len(pop_log_no_rank)"
   ]
  },
  {
   "cell_type": "code",
   "execution_count": 28,
   "metadata": {
    "collapsed": false
   },
   "outputs": [],
   "source": [
    "#import KDE\n",
    "from sklearn.neighbors import KernelDensity\n",
    "def kde_plot(kernel, X, label, color=\"#aaaaff\", bw = 1):\n",
    "    #create the estimator:\n",
    "    kde_X = KernelDensity(kernel=kernel, bandwidth=bw).fit(X)\n",
    "    #setup range:\n",
    "    range = numpy.linspace(X.min()-bw*3, X.max()+bw*3, 80)[:,numpy.newaxis]\n",
    "    #print range\n",
    "    #plot:\n",
    "    plt.fill(range[:,0], numpy.exp(kde_X.score_samples(range)), fc=color, alpha=.6,label= label)\n",
    "    dots = [y-numpy.random.rand()*.005 for y in numpy.zeros(X.shape[0])] #all points, randomly jittered on the y axis\n",
    "    plt.plot(X[:,0], dots, '+k', color=color)\n",
    "    plt.legend(loc ='upper right')\n",
    "    return kde_X"
   ]
  },
  {
   "cell_type": "code",
   "execution_count": 29,
   "metadata": {
    "collapsed": false
   },
   "outputs": [
    {
     "data": {
      "text/plain": [
       "<matplotlib.axes._subplots.AxesSubplot at 0x10a272d90>"
      ]
     },
     "execution_count": 29,
     "metadata": {},
     "output_type": "execute_result"
    },
    {
     "data": {
      "image/png": "[encoded data removed]",
      "text/plain": [
       "<matplotlib.figure.Figure at 0x10a34f810>"
      ]
     },
     "metadata": {},
     "output_type": "display_data"
    }
   ],
   "source": [
    "pop_log_ranked.plot()\n",
    "pop_log_no_rank.plot()"
   ]
  },
  {
   "cell_type": "code",
   "execution_count": 30,
   "metadata": {
    "collapsed": false
   },
   "outputs": [
    {
     "data": {
      "image/png": "[encoded data removed]",
      "text/plain": [
       "<matplotlib.figure.Figure at 0x10bef8390>"
      ]
     },
     "metadata": {},
     "output_type": "display_data"
    }
   ],
   "source": [
    "pop_log_ranked_reshape = pop_log_ranked.reshape(-1,1)\n",
    "pop_log_no_rank_reshape = pop_log_no_rank.reshape(-1,1)\n",
    "\n",
    "#print pop_log_ranked_reshape\n",
    "#print pop_log_no_rank_reshape\n",
    "plt.figure(figsize=(10,10))\n",
    "plt.title('Kernel Density plots')\n",
    "plt.xlabel('Log of population sizes')\n",
    "plt.ylabel('Probability density estimate')\n",
    "\n",
    "# Using Scott's Rule for BW estimation\n",
    "d = 1\n",
    "n = len(pop_log_ranked_reshape)\n",
    "kde_ranked = kde_plot('gaussian', pop_log_ranked_reshape, 'Counties ranked','#aaaaff',n**(-1./(d+4)))\n",
    "n = len(pop_log_no_rank_reshape)\n",
    "kde_no_rank = kde_plot('gaussian', pop_log_no_rank_reshape, 'Counties NOT ranked','#22aa22', n**(-1./(d+4)))\n",
    "\n",
    "#kde_plot('tophat', pop_reshape, '#22aa22',0.1)\n",
    "#kde_plot('epanechnikov',pop_log_ranked_reshape,'Counties ranked Epanechnikov','#ffbbbb',0.1)\n",
    "#kde_plot('linear',pop_reshape,'#ccbbbb',0.1)"
   ]
  },
  {
   "cell_type": "markdown",
   "metadata": {},
   "source": [
    "## B. (7) PROBABILITY RANKED GIVEN POP\n",
    "###   300 - 0.000927332063472\n",
    "### 3100 - 0.0709712761574 \n",
    "### 5000 - 0.116439769644\n"
   ]
  },
  {
   "cell_type": "code",
   "execution_count": 33,
   "metadata": {
    "collapsed": false
   },
   "outputs": [
    {
     "name": "stdout",
     "output_type": "stream",
     "text": [
      "Normal distribution 0.00089500260438 0.0632489215451 0.117405843388\n",
      "Kernel Density Estimation 0.000927332063472 0.0709712761574 0.116439769644\n"
     ]
    }
   ],
   "source": [
    "#print kde_no_rank.score(numpy.log(300))\n",
    "norm_ranked = ss.norm(pop_log_ranked_reshape.mean(),pop_log_ranked_reshape.std())\n",
    "print 'Normal distribution', norm_ranked.cdf(numpy.log(300)), norm_ranked.cdf(numpy.log(3100)),norm_ranked.cdf(numpy.log(5100))\n",
    "p_300 = numpy.exp(kde_ranked.score(numpy.log(300)))\n",
    "#print kde_no_rank.score(numpy.log(3100))\n",
    "p_3100 = numpy.exp(kde_ranked.score(numpy.log(3100)))\n",
    "#print kde_no_rank.score(numpy.log(5000))\n",
    "p_5000 = numpy.exp(kde_ranked.score(numpy.log(5000)))\n",
    "print 'Kernel Density Estimation', p_300, p_3100, p_5000"
   ]
  },
  {
   "cell_type": "code",
   "execution_count": 34,
   "metadata": {
    "collapsed": false
   },
   "outputs": [
    {
     "data": {
      "text/plain": [
       "<matplotlib.axes._subplots.AxesSubplot at 0x10bf63310>"
      ]
     },
     "execution_count": 34,
     "metadata": {},
     "output_type": "execute_result"
    },
    {
     "data": {
      "image/png": "[encoded data removed]",
      "text/plain": [
       "<matplotlib.figure.Figure at 0x10c5b7fd0>"
      ]
     },
     "metadata": {},
     "output_type": "display_data"
    }
   ],
   "source": [
    "pop_log_no_rank.plot(kind='kde')\n",
    "pop_log_ranked.plot(kind='kde')"
   ]
  },
  {
   "cell_type": "markdown",
   "metadata": {
    "collapsed": true
   },
   "source": [
    "## C (8). LIST MEAN AND STD_DEV PER COLUMN\n",
    "\n",
    "{'Alcohol-impaired driving deaths Value': (0.31602053256336154, 0.1594826909673947), 'Income inequality Value': (4.484664438077043, 0.7118939890837294), 'Injury deaths Value': (77.25592715231788, 24.95293286430732), 'Population that is not proficient in English Value': (0.01816555237185625, 0.029496668886560683), 'Dentists Value': (41.63484798953907, 26.77669157388627), 'Long commute - driving alone Value': (0.29846959567016834, 0.12062380898905323), 'Access to exercise opportunities Value': (0.6249024936061368, 0.22963246120777892), 'Primary care physicians Value': (55.40572951365756, 34.38495551006253), 'Infant mortality Value': (7.506831395348824, 2.3855619936128196), 'Health care costs Value': (9426.968102073366, 1609.7753384665527), 'Physical inactivity Value': (0.2699703915950339, 0.05320499427738718), 'Some college Value': (0.5573731295765683, 0.11636523148864716), 'Could not see doctor due to cost Value': (0.15360813076278282, 0.05570687962009395), 'Adult smoking Value': (0.21280892659535178, 0.06313990505475427), 'Food insecurity Value': (0.14738363578478117, 0.03860826748397867), 'Drinking water violations Value': (0.091823872851119, 0.17082047431770433), '2011 population estimate Value': (100645.92136262337, 322424.28175318893), 'Uninsured children Value': (0.08294777070063704, 0.03796197622443093), 'Poor mental health days Value': (3.5633449208188455, 1.031267626983575), 'Low birthweight Value': (0.08206771860618123, 0.021218194760026367), 'Food environment index Value': (7.070105062082143, 1.259496773603016), 'Poor or fair health Value': (0.17259467347683305, 0.061201344989731295), 'Children in single-parent households Value': (0.321241719745223, 0.1038134055471681), 'Median household income Value': (46002.60095541401, 11656.714552958785), 'Air pollution - particulate matter Value': (11.623918918918912, 1.526818560649685), 'Poor physical health days Value': (3.8234770217313923, 1.145274910314228), 'Preventable hospital stays Value': (69.96361324857789, 27.85571495068757), 'Driving alone to work Value': (0.7864743712193578, 0.07757335379337814), 'Drug poisoning deaths Value': (14.196911344137266, 7.7579946361904435), 'Severe housing problems Value': (0.14337917860553936, 0.04837390002133522), 'Social associations Value': (13.888278255332718, 7.099423947044871), 'High school graduation Value': (0.8304816616766458, 0.09444980502267583), 'Adult obesity Value': (0.30692486469277336, 0.04340914176249675), 'Excessive drinking Value': (0.1650678651685395, 0.05166149833515888), 'Uninsured Value': (0.1757789808917195, 0.05382483303641701), 'Other primary care providers Value': (59.67927578402845, 48.75694079882451), 'Uninsured adults Value': (0.2133308917197451, 0.06570153973471007), 'Homicide rate Value': (6.347850770478507, 4.785794456003632), 'Population living in a rural area Value': (0.5862422795288122, 0.3150483456102307), 'Diabetic screening Value': (0.8425396311873155, 0.06494698832846958), 'Children eligible for free lunch Value': (0.4336744673419488, 0.17251698647723795), 'Sexually transmitted infections Value': (367.2541737073337, 269.6253766009784), 'Diabetes Value': (0.10980452085323186, 0.023136220643614744), 'Children in poverty Value': (0.24581401273885364, 0.0956436477438821), 'HIV prevalence rate Value': (174.65475678002642, 229.16407973633864), 'Premature death Value': (7999.362120706903, 2419.731941081509), 'Premature age-adjusted mortality Value': (387.99778645833356, 100.7687870740297), 'Unemployment Value': (0.07256082802547757, 0.02649990762483159), 'Child mortality Value': (63.26838677354706, 26.104858488305197), 'Mammography screening Value': (0.6073458005249365, 0.08177315297920842), 'Teen births Value': (43.38898026315784, 19.668152331535808), 'Limited access to healthy foods Value': (0.08376504297994246, 0.08208571448699543), 'Violent crime Value': (248.7400437121724, 196.56298399253401), 'Motor vehicle crash deaths Value': (20.546203130688056, 10.085016636591387), 'Mental health providers Value': (123.98692117355957, 130.18282014370004)}"
   ]
  },
  {
   "cell_type": "code",
   "execution_count": 35,
   "metadata": {
    "collapsed": false
   },
   "outputs": [
    {
     "name": "stdout",
     "output_type": "stream",
     "text": [
      "{'Alcohol-impaired driving deaths Value': (0.31602053256336154, 0.1594826909673947), 'Income inequality Value': (4.484664438077043, 0.7118939890837294), 'Injury deaths Value': (77.25592715231788, 24.95293286430732), 'Population that is not proficient in English Value': (0.01816555237185625, 0.029496668886560683), 'Dentists Value': (41.63484798953907, 26.77669157388627), 'Long commute - driving alone Value': (0.29846959567016834, 0.12062380898905323), 'Access to exercise opportunities Value': (0.6249024936061368, 0.22963246120777892), 'Primary care physicians Value': (55.40572951365756, 34.38495551006253), 'Infant mortality Value': (7.506831395348824, 2.3855619936128196), 'Health care costs Value': (9426.968102073366, 1609.7753384665527), 'Physical inactivity Value': (0.2699703915950339, 0.05320499427738718), 'Some college Value': (0.5573731295765683, 0.11636523148864716), 'Could not see doctor due to cost Value': (0.15360813076278282, 0.05570687962009395), 'Adult smoking Value': (0.21280892659535178, 0.06313990505475427), 'Food insecurity Value': (0.14738363578478117, 0.03860826748397867), 'Drinking water violations Value': (0.091823872851119, 0.17082047431770433), '2011 population estimate Value': (100645.92136262337, 322424.28175318893), 'Uninsured children Value': (0.08294777070063704, 0.03796197622443093), 'Poor mental health days Value': (3.5633449208188455, 1.031267626983575), 'Low birthweight Value': (0.08206771860618123, 0.021218194760026367), 'Food environment index Value': (7.070105062082143, 1.259496773603016), 'Poor or fair health Value': (0.17259467347683305, 0.061201344989731295), 'Children in single-parent households Value': (0.321241719745223, 0.1038134055471681), 'Median household income Value': (46002.60095541401, 11656.714552958785), 'Air pollution - particulate matter Value': (11.623918918918912, 1.526818560649685), 'Poor physical health days Value': (3.8234770217313923, 1.145274910314228), 'Preventable hospital stays Value': (69.96361324857789, 27.85571495068757), 'Driving alone to work Value': (0.7864743712193578, 0.07757335379337814), 'Drug poisoning deaths Value': (14.196911344137266, 7.7579946361904435), 'Severe housing problems Value': (0.14337917860553936, 0.04837390002133522), 'Social associations Value': (13.888278255332718, 7.099423947044871), 'High school graduation Value': (0.8304816616766458, 0.09444980502267583), 'Adult obesity Value': (0.30692486469277336, 0.04340914176249675), 'Excessive drinking Value': (0.1650678651685395, 0.05166149833515888), 'Uninsured Value': (0.1757789808917195, 0.05382483303641701), 'Other primary care providers Value': (59.67927578402845, 48.75694079882451), 'Uninsured adults Value': (0.2133308917197451, 0.06570153973471007), 'Homicide rate Value': (6.347850770478507, 4.785794456003632), 'Population living in a rural area Value': (0.5862422795288122, 0.3150483456102307), 'Diabetic screening Value': (0.8425396311873155, 0.06494698832846958), 'Children eligible for free lunch Value': (0.4336744673419488, 0.17251698647723795), 'Sexually transmitted infections Value': (367.2541737073337, 269.6253766009784), 'Diabetes Value': (0.10980452085323186, 0.023136220643614744), 'Children in poverty Value': (0.24581401273885364, 0.0956436477438821), 'HIV prevalence rate Value': (174.65475678002642, 229.16407973633864), 'Premature death Value': (7999.362120706903, 2419.731941081509), 'Premature age-adjusted mortality Value': (387.99778645833356, 100.7687870740297), 'Unemployment Value': (0.07256082802547757, 0.02649990762483159), 'Child mortality Value': (63.26838677354706, 26.104858488305197), 'Mammography screening Value': (0.6073458005249365, 0.08177315297920842), 'Teen births Value': (43.38898026315784, 19.668152331535808), 'Limited access to healthy foods Value': (0.08376504297994246, 0.08208571448699543), 'Violent crime Value': (248.7400437121724, 196.56298399253401), 'Motor vehicle crash deaths Value': (20.546203130688056, 10.085016636591387), 'Mental health providers Value': (123.98692117355957, 130.18282014370004)}\n"
     ]
    }
   ],
   "source": [
    "dict_std_mean = {}\n",
    "#v = column_headers_value[0]\n",
    "for v in column_headers_value:\n",
    "    temp = county_health_records[v]\n",
    "    temp = [float(str (p).replace(',','')) for p in temp]\n",
    "    temp_df = pd.Series(temp)\n",
    "    dict_std_mean[v] = (temp_df.mean(),temp_df.std())\n",
    "print dict_std_mean"
   ]
  },
  {
   "cell_type": "markdown",
   "metadata": {},
   "source": [
    "## C (9). PSEUDO-POP-DEPENDENT COLUMNS"
   ]
  },
  {
   "cell_type": "code",
   "execution_count": 36,
   "metadata": {
    "collapsed": false
   },
   "outputs": [],
   "source": [
    "log_pop = county_health_records['log_pop']\n",
    "meanB = log_pop.mean()\n",
    "A_less_meanB = county_health_records[county_health_records['log_pop'] < meanB]\n",
    "A_greater_meanB = county_health_records[county_health_records['log_pop'] > meanB]\n",
    "#print meanB\n",
    "#print len(A), len(B), len(county_health_records)"
   ]
  },
  {
   "cell_type": "code",
   "execution_count": 38,
   "metadata": {
    "collapsed": false
   },
   "outputs": [],
   "source": [
    "dependent_pop_col = []\n",
    "for v in column_headers_value:\n",
    "    tempA = county_health_records[v]\n",
    "    tempA = [float(str (p).replace(',','')) for p in tempA]\n",
    "    temp_dfA = pd.Series(tempA)\n",
    "    \n",
    "    tempA_less_meanB = A_less_meanB[v]\n",
    "    tempA_less_meanB = [float(str (p).replace(',','')) for p in tempA_less_meanB]\n",
    "    temp_dfA_less = pd.Series(tempA_less_meanB)\n",
    "    \n",
    "    tempA_greater_meanB = A_greater_meanB[v]\n",
    "    tempA_greater_meanB = [float(str (p).replace(',','')) for p in tempA_greater_meanB]\n",
    "    temp_dfA_greater = pd.Series(tempA_greater_meanB)\n",
    "    \n",
    "    if (abs(temp_dfA_less.mean() - temp_dfA_greater.mean()) < (0.5*(temp_dfA.std()))):\n",
    "        dependent_pop_col.append(v)"
   ]
  },
  {
   "cell_type": "code",
   "execution_count": 39,
   "metadata": {
    "collapsed": false
   },
   "outputs": [
    {
     "data": {
      "text/plain": [
       "['Premature death Value',\n",
       " 'Poor or fair health Value',\n",
       " 'Poor physical health days Value',\n",
       " 'Poor mental health days Value',\n",
       " 'Low birthweight Value',\n",
       " 'Adult smoking Value',\n",
       " 'Adult obesity Value',\n",
       " 'Food environment index Value',\n",
       " 'Physical inactivity Value',\n",
       " 'Access to exercise opportunities Value',\n",
       " 'Excessive drinking Value',\n",
       " 'Alcohol-impaired driving deaths Value',\n",
       " 'Sexually transmitted infections Value',\n",
       " 'Teen births Value',\n",
       " 'Uninsured Value',\n",
       " 'Primary care physicians Value',\n",
       " 'Dentists Value',\n",
       " 'Mental health providers Value',\n",
       " 'Preventable hospital stays Value',\n",
       " 'Diabetic screening Value',\n",
       " 'Mammography screening Value',\n",
       " 'High school graduation Value',\n",
       " 'Some college Value',\n",
       " 'Unemployment Value',\n",
       " 'Children in poverty Value',\n",
       " 'Income inequality Value',\n",
       " 'Children in single-parent households Value',\n",
       " 'Social associations Value',\n",
       " 'Violent crime Value',\n",
       " 'Injury deaths Value',\n",
       " 'Air pollution - particulate matter Value',\n",
       " 'Drinking water violations Value',\n",
       " 'Severe housing problems Value',\n",
       " 'Driving alone to work Value',\n",
       " 'Long commute - driving alone Value',\n",
       " '2011 population estimate Value',\n",
       " 'Population that is not proficient in English Value',\n",
       " 'Population living in a rural area Value',\n",
       " 'Diabetes Value',\n",
       " 'HIV prevalence rate Value',\n",
       " 'Premature age-adjusted mortality Value',\n",
       " 'Infant mortality Value',\n",
       " 'Child mortality Value',\n",
       " 'Food insecurity Value',\n",
       " 'Limited access to healthy foods Value',\n",
       " 'Motor vehicle crash deaths Value',\n",
       " 'Drug poisoning deaths Value',\n",
       " 'Uninsured adults Value',\n",
       " 'Uninsured children Value',\n",
       " 'Health care costs Value',\n",
       " 'Could not see doctor due to cost Value',\n",
       " 'Other primary care providers Value',\n",
       " 'Median household income Value',\n",
       " 'Children eligible for free lunch Value',\n",
       " 'Homicide rate Value']"
      ]
     },
     "execution_count": 39,
     "metadata": {},
     "output_type": "execute_result"
    }
   ],
   "source": [
    "print dependent_pop_col"
   ]
  },
  {
   "cell_type": "markdown",
   "metadata": {},
   "source": [
    "## 3. Avoiding the death of your cell-mate"
   ]
  },
  {
   "cell_type": "code",
   "execution_count": null,
   "metadata": {
    "collapsed": false
   },
   "outputs": [],
   "source": [
    "'''mean = 42 \n",
    "SD = 12\n",
    "x = numpy.linspace(mean-4*SD,mean+4*SD,1000)\n",
    "norm = ss.norm(mean,SD)\n",
    "\n",
    "plt.plot(x,norm.pdf(x))\n",
    "plt.fill(x,norm.pdf(x))\n",
    "plt.xlabel('Battery Life (hours)')\n",
    "plt.ylabel('Probability density')\n",
    "plt.title('Probability Density Function')'''"
   ]
  },
  {
   "cell_type": "code",
   "execution_count": null,
   "metadata": {
    "collapsed": false
   },
   "outputs": [],
   "source": [
    "'''plt.plot(x,norm.cdf(x))\n",
    "plt.xlabel('Battery Life (hours)')\n",
    "plt.ylabel('Cumulative density')\n",
    "plt.title('Cumulative Distribution Function')'''"
   ]
  },
  {
   "cell_type": "code",
   "execution_count": null,
   "metadata": {
    "collapsed": false
   },
   "outputs": [],
   "source": [
    "'''norm.cdf(36)'''"
   ]
  },
  {
   "cell_type": "code",
   "execution_count": null,
   "metadata": {
    "collapsed": false
   },
   "outputs": [],
   "source": [
    "'''norm.ppf(0.35853753872)'''"
   ]
  },
  {
   "cell_type": "code",
   "execution_count": null,
   "metadata": {
    "collapsed": true
   },
   "outputs": [],
   "source": [
    "'''def pdf_ptc(x):\n",
    "    return 4*(x**3)'''"
   ]
  },
  {
   "cell_type": "code",
   "execution_count": null,
   "metadata": {
    "collapsed": false
   },
   "outputs": [],
   "source": [
    "'''x = numpy.linspace(0,1,10000)\n",
    "p = pdf_ptc(x)\n",
    "plt.plot(x, p)\n",
    "plt.title(r'PDF $Cx^3$')\n",
    "plt.xlabel('Random variable X')\n",
    "plt.ylabel('Probability density function')\n",
    "plt.show()'''"
   ]
  },
  {
   "cell_type": "code",
   "execution_count": null,
   "metadata": {
    "collapsed": true
   },
   "outputs": [],
   "source": []
  }
 ],
 "metadata": {
  "kernelspec": {
   "display_name": "Python 2",
   "language": "python",
   "name": "python2"
  },
  "language_info": {
   "codemirror_mode": {
    "name": "ipython",
    "version": 2
   },
   "file_extension": ".py",
   "mimetype": "text/x-python",
   "name": "python",
   "nbconvert_exporter": "python",
   "pygments_lexer": "ipython2",
   "version": "2.7.11"
  }
 },
 "nbformat": 4,
 "nbformat_minor": 0
}
